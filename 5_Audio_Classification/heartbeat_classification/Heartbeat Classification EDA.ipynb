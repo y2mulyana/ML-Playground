{
 "cells": [
  {
   "cell_type": "markdown",
   "id": "21cfef82-08ce-4388-9a7e-4f0fd7118644",
   "metadata": {},
   "source": [
    "# Heartbeat EDA (Exploratory Data Analysis)\n",
    "\n",
    "This section focuses on performing an **SMOTE (Synthetic Minority Over-sampling Technique) experiment** to generate synthetic data for investigating heartbeat sound data and addressing class imbalances.\n",
    "\n",
    "**Key Areas:**\n",
    "1. **Dataset Overview**: Analyzing and understanding the heartbeat sound data.\n",
    "2. **Handling Imbalanced Data**: Identifying data imbalances and their impact on model performance.\n",
    "3. **SMOTE Experimentation**: Applying SMOTE to generate synthetic data and balancing the dataset.\n",
    "4. **Visualization**: Displaying results of the SMOTE experiment and visualizing the impact on the dataset.\n",
    "5. **Audio Exploration**: Generating and listening to synthetic audio samples to examine the quality of the generated data.\n",
    "\n",
    "**Dataset:**\n",
    "\n",
    "The dataset used in this analysis contains heartbeat sound recordings, which can be accessed from Kaggle:  \n",
    "[Heartbeat Sounds Dataset](https://www.kaggle.com/datasets/kinguistics/heartbeat-sounds)\n",
    "\n",
    "**Experiment Setup:**\n",
    "\n",
    "In this notebook, I explore methods for handling imbalanced data, using heartbeat sounds as the dataset. The technique chosen to address the imbalance is **SMOTE**. Instead of generating spectrograms directly, I opt to generate audio files to hear exactly how the synthetic data sounds, providing a clearer understanding of the quality and authenticity of the generated data. This approach allows us to listen to and compare the synthetic samples with the original ones, making the results more tangible."
   ]
  },
  {
   "cell_type": "code",
   "execution_count": 1,
   "id": "a4f56663-ca9a-4853-80e9-248ae30d297a",
   "metadata": {},
   "outputs": [],
   "source": [
    "import pandas as pd\n",
    "import os"
   ]
  },
  {
   "cell_type": "markdown",
   "id": "d3caa244-8914-4489-abaa-d8730beca3af",
   "metadata": {},
   "source": [
    "### Set A\n",
    "Let's become one with the data for Set A"
   ]
  },
  {
   "cell_type": "code",
   "execution_count": 2,
   "id": "903042f2-9c59-4a32-b96a-79c7babbab55",
   "metadata": {},
   "outputs": [
    {
     "data": {
      "text/html": [
       "<div>\n",
       "<style scoped>\n",
       "    .dataframe tbody tr th:only-of-type {\n",
       "        vertical-align: middle;\n",
       "    }\n",
       "\n",
       "    .dataframe tbody tr th {\n",
       "        vertical-align: top;\n",
       "    }\n",
       "\n",
       "    .dataframe thead th {\n",
       "        text-align: right;\n",
       "    }\n",
       "</style>\n",
       "<table border=\"1\" class=\"dataframe\">\n",
       "  <thead>\n",
       "    <tr style=\"text-align: right;\">\n",
       "      <th></th>\n",
       "      <th>dataset</th>\n",
       "      <th>fname</th>\n",
       "      <th>label</th>\n",
       "      <th>sublabel</th>\n",
       "    </tr>\n",
       "  </thead>\n",
       "  <tbody>\n",
       "    <tr>\n",
       "      <th>0</th>\n",
       "      <td>a</td>\n",
       "      <td>set_a/artifact__201012172012.wav</td>\n",
       "      <td>artifact</td>\n",
       "      <td>NaN</td>\n",
       "    </tr>\n",
       "    <tr>\n",
       "      <th>1</th>\n",
       "      <td>a</td>\n",
       "      <td>set_a/artifact__201105040918.wav</td>\n",
       "      <td>artifact</td>\n",
       "      <td>NaN</td>\n",
       "    </tr>\n",
       "    <tr>\n",
       "      <th>2</th>\n",
       "      <td>a</td>\n",
       "      <td>set_a/artifact__201105041959.wav</td>\n",
       "      <td>artifact</td>\n",
       "      <td>NaN</td>\n",
       "    </tr>\n",
       "    <tr>\n",
       "      <th>3</th>\n",
       "      <td>a</td>\n",
       "      <td>set_a/artifact__201105051017.wav</td>\n",
       "      <td>artifact</td>\n",
       "      <td>NaN</td>\n",
       "    </tr>\n",
       "    <tr>\n",
       "      <th>4</th>\n",
       "      <td>a</td>\n",
       "      <td>set_a/artifact__201105060108.wav</td>\n",
       "      <td>artifact</td>\n",
       "      <td>NaN</td>\n",
       "    </tr>\n",
       "    <tr>\n",
       "      <th>...</th>\n",
       "      <td>...</td>\n",
       "      <td>...</td>\n",
       "      <td>...</td>\n",
       "      <td>...</td>\n",
       "    </tr>\n",
       "    <tr>\n",
       "      <th>171</th>\n",
       "      <td>a</td>\n",
       "      <td>set_a/__201108222241.wav</td>\n",
       "      <td>NaN</td>\n",
       "      <td>NaN</td>\n",
       "    </tr>\n",
       "    <tr>\n",
       "      <th>172</th>\n",
       "      <td>a</td>\n",
       "      <td>set_a/__201108222244.wav</td>\n",
       "      <td>NaN</td>\n",
       "      <td>NaN</td>\n",
       "    </tr>\n",
       "    <tr>\n",
       "      <th>173</th>\n",
       "      <td>a</td>\n",
       "      <td>set_a/__201108222247.wav</td>\n",
       "      <td>NaN</td>\n",
       "      <td>NaN</td>\n",
       "    </tr>\n",
       "    <tr>\n",
       "      <th>174</th>\n",
       "      <td>a</td>\n",
       "      <td>set_a/__201108222254.wav</td>\n",
       "      <td>NaN</td>\n",
       "      <td>NaN</td>\n",
       "    </tr>\n",
       "    <tr>\n",
       "      <th>175</th>\n",
       "      <td>a</td>\n",
       "      <td>set_a/__201108222257.wav</td>\n",
       "      <td>NaN</td>\n",
       "      <td>NaN</td>\n",
       "    </tr>\n",
       "  </tbody>\n",
       "</table>\n",
       "<p>176 rows × 4 columns</p>\n",
       "</div>"
      ],
      "text/plain": [
       "    dataset                             fname     label  sublabel\n",
       "0         a  set_a/artifact__201012172012.wav  artifact       NaN\n",
       "1         a  set_a/artifact__201105040918.wav  artifact       NaN\n",
       "2         a  set_a/artifact__201105041959.wav  artifact       NaN\n",
       "3         a  set_a/artifact__201105051017.wav  artifact       NaN\n",
       "4         a  set_a/artifact__201105060108.wav  artifact       NaN\n",
       "..      ...                               ...       ...       ...\n",
       "171       a          set_a/__201108222241.wav       NaN       NaN\n",
       "172       a          set_a/__201108222244.wav       NaN       NaN\n",
       "173       a          set_a/__201108222247.wav       NaN       NaN\n",
       "174       a          set_a/__201108222254.wav       NaN       NaN\n",
       "175       a          set_a/__201108222257.wav       NaN       NaN\n",
       "\n",
       "[176 rows x 4 columns]"
      ]
     },
     "execution_count": 2,
     "metadata": {},
     "output_type": "execute_result"
    }
   ],
   "source": [
    "df_a = pd.read_csv('heartbeat_data/set_a.csv')\n",
    "df_a"
   ]
  },
  {
   "cell_type": "code",
   "execution_count": 3,
   "id": "fe2d9bb7-c493-4973-a87c-59813a7997be",
   "metadata": {},
   "outputs": [
    {
     "name": "stdout",
     "output_type": "stream",
     "text": [
      "<class 'pandas.core.frame.DataFrame'>\n",
      "RangeIndex: 176 entries, 0 to 175\n",
      "Data columns (total 4 columns):\n",
      " #   Column    Non-Null Count  Dtype  \n",
      "---  ------    --------------  -----  \n",
      " 0   dataset   176 non-null    object \n",
      " 1   fname     176 non-null    object \n",
      " 2   label     124 non-null    object \n",
      " 3   sublabel  0 non-null      float64\n",
      "dtypes: float64(1), object(3)\n",
      "memory usage: 5.6+ KB\n"
     ]
    }
   ],
   "source": [
    "df_a.info()"
   ]
  },
  {
   "cell_type": "code",
   "execution_count": 4,
   "id": "c6f3f626-e832-4f53-a5bb-24a93ffc02c6",
   "metadata": {},
   "outputs": [
    {
     "name": "stdout",
     "output_type": "stream",
     "text": [
      "label\n",
      "NaN         52\n",
      "artifact    40\n",
      "murmur      34\n",
      "normal      31\n",
      "extrahls    19\n",
      "Name: count, dtype: int64\n"
     ]
    }
   ],
   "source": [
    "# It's look like Set A has NaN value, let's count them\n",
    "print(df_a[\"label\"].value_counts(dropna=False))"
   ]
  },
  {
   "cell_type": "code",
   "execution_count": 5,
   "id": "0b5bc4a2-1c88-4b23-a43b-18f401285357",
   "metadata": {},
   "outputs": [
    {
     "data": {
      "text/plain": [
       "<Axes: >"
      ]
     },
     "execution_count": 5,
     "metadata": {},
     "output_type": "execute_result"
    },
    {
     "data": {
      "image/png": "[encoded data removed]",
      "text/plain": [
       "<Figure size 500x500 with 1 Axes>"
      ]
     },
     "metadata": {},
     "output_type": "display_data"
    }
   ],
   "source": [
    "# Now lets plot it for easier comparison between each class, excluding Nan\n",
    "df_a.label.hist(figsize=(5, 5))"
   ]
  },
  {
   "cell_type": "markdown",
   "id": "563166fe-0c73-4ed5-ba0a-d99020df8bd0",
   "metadata": {},
   "source": [
    "### Set B"
   ]
  },
  {
   "cell_type": "code",
   "execution_count": 6,
   "id": "16e86855-f0a6-468e-b812-efdf68b33e1f",
   "metadata": {},
   "outputs": [
    {
     "data": {
      "text/html": [
       "<div>\n",
       "<style scoped>\n",
       "    .dataframe tbody tr th:only-of-type {\n",
       "        vertical-align: middle;\n",
       "    }\n",
       "\n",
       "    .dataframe tbody tr th {\n",
       "        vertical-align: top;\n",
       "    }\n",
       "\n",
       "    .dataframe thead th {\n",
       "        text-align: right;\n",
       "    }\n",
       "</style>\n",
       "<table border=\"1\" class=\"dataframe\">\n",
       "  <thead>\n",
       "    <tr style=\"text-align: right;\">\n",
       "      <th></th>\n",
       "      <th>dataset</th>\n",
       "      <th>fname</th>\n",
       "      <th>label</th>\n",
       "      <th>sublabel</th>\n",
       "    </tr>\n",
       "  </thead>\n",
       "  <tbody>\n",
       "    <tr>\n",
       "      <th>0</th>\n",
       "      <td>b</td>\n",
       "      <td>set_b/Btraining_extrastole_127_1306764300147_C...</td>\n",
       "      <td>extrastole</td>\n",
       "      <td>NaN</td>\n",
       "    </tr>\n",
       "    <tr>\n",
       "      <th>1</th>\n",
       "      <td>b</td>\n",
       "      <td>set_b/Btraining_extrastole_128_1306344005749_A...</td>\n",
       "      <td>extrastole</td>\n",
       "      <td>NaN</td>\n",
       "    </tr>\n",
       "    <tr>\n",
       "      <th>2</th>\n",
       "      <td>b</td>\n",
       "      <td>set_b/Btraining_extrastole_130_1306347376079_D...</td>\n",
       "      <td>extrastole</td>\n",
       "      <td>NaN</td>\n",
       "    </tr>\n",
       "    <tr>\n",
       "      <th>3</th>\n",
       "      <td>b</td>\n",
       "      <td>set_b/Btraining_extrastole_134_1306428161797_C...</td>\n",
       "      <td>extrastole</td>\n",
       "      <td>NaN</td>\n",
       "    </tr>\n",
       "    <tr>\n",
       "      <th>4</th>\n",
       "      <td>b</td>\n",
       "      <td>set_b/Btraining_extrastole_138_1306762146980_B...</td>\n",
       "      <td>extrastole</td>\n",
       "      <td>NaN</td>\n",
       "    </tr>\n",
       "    <tr>\n",
       "      <th>...</th>\n",
       "      <td>...</td>\n",
       "      <td>...</td>\n",
       "      <td>...</td>\n",
       "      <td>...</td>\n",
       "    </tr>\n",
       "    <tr>\n",
       "      <th>651</th>\n",
       "      <td>b</td>\n",
       "      <td>set_b/Btraining_normal_Btraining_noisynormal_2...</td>\n",
       "      <td>normal</td>\n",
       "      <td>noisynormal</td>\n",
       "    </tr>\n",
       "    <tr>\n",
       "      <th>652</th>\n",
       "      <td>b</td>\n",
       "      <td>set_b/Btraining_normal_Btraining_noisynormal_2...</td>\n",
       "      <td>normal</td>\n",
       "      <td>noisynormal</td>\n",
       "    </tr>\n",
       "    <tr>\n",
       "      <th>653</th>\n",
       "      <td>b</td>\n",
       "      <td>set_b/Btraining_normal_Btraining_noisynormal_2...</td>\n",
       "      <td>normal</td>\n",
       "      <td>noisynormal</td>\n",
       "    </tr>\n",
       "    <tr>\n",
       "      <th>654</th>\n",
       "      <td>b</td>\n",
       "      <td>set_b/Btraining_normal_Btraining_noisynormal_2...</td>\n",
       "      <td>normal</td>\n",
       "      <td>noisynormal</td>\n",
       "    </tr>\n",
       "    <tr>\n",
       "      <th>655</th>\n",
       "      <td>b</td>\n",
       "      <td>set_b/Btraining_normal_Btraining_noisynormal_2...</td>\n",
       "      <td>normal</td>\n",
       "      <td>noisynormal</td>\n",
       "    </tr>\n",
       "  </tbody>\n",
       "</table>\n",
       "<p>656 rows × 4 columns</p>\n",
       "</div>"
      ],
      "text/plain": [
       "    dataset                                              fname       label  \\\n",
       "0         b  set_b/Btraining_extrastole_127_1306764300147_C...  extrastole   \n",
       "1         b  set_b/Btraining_extrastole_128_1306344005749_A...  extrastole   \n",
       "2         b  set_b/Btraining_extrastole_130_1306347376079_D...  extrastole   \n",
       "3         b  set_b/Btraining_extrastole_134_1306428161797_C...  extrastole   \n",
       "4         b  set_b/Btraining_extrastole_138_1306762146980_B...  extrastole   \n",
       "..      ...                                                ...         ...   \n",
       "651       b  set_b/Btraining_normal_Btraining_noisynormal_2...      normal   \n",
       "652       b  set_b/Btraining_normal_Btraining_noisynormal_2...      normal   \n",
       "653       b  set_b/Btraining_normal_Btraining_noisynormal_2...      normal   \n",
       "654       b  set_b/Btraining_normal_Btraining_noisynormal_2...      normal   \n",
       "655       b  set_b/Btraining_normal_Btraining_noisynormal_2...      normal   \n",
       "\n",
       "        sublabel  \n",
       "0            NaN  \n",
       "1            NaN  \n",
       "2            NaN  \n",
       "3            NaN  \n",
       "4            NaN  \n",
       "..           ...  \n",
       "651  noisynormal  \n",
       "652  noisynormal  \n",
       "653  noisynormal  \n",
       "654  noisynormal  \n",
       "655  noisynormal  \n",
       "\n",
       "[656 rows x 4 columns]"
      ]
     },
     "execution_count": 6,
     "metadata": {},
     "output_type": "execute_result"
    }
   ],
   "source": [
    "df_b = pd.read_csv('heartbeat_data/set_b.csv')\n",
    "df_b"
   ]
  },
  {
   "cell_type": "code",
   "execution_count": 7,
   "id": "6e6824aa-5434-494c-ae33-1f13993a3d62",
   "metadata": {},
   "outputs": [
    {
     "name": "stdout",
     "output_type": "stream",
     "text": [
      "<class 'pandas.core.frame.DataFrame'>\n",
      "RangeIndex: 656 entries, 0 to 655\n",
      "Data columns (total 4 columns):\n",
      " #   Column    Non-Null Count  Dtype \n",
      "---  ------    --------------  ----- \n",
      " 0   dataset   656 non-null    object\n",
      " 1   fname     656 non-null    object\n",
      " 2   label     461 non-null    object\n",
      " 3   sublabel  149 non-null    object\n",
      "dtypes: object(4)\n",
      "memory usage: 20.6+ KB\n"
     ]
    }
   ],
   "source": [
    "df_b.info()"
   ]
  },
  {
   "cell_type": "code",
   "execution_count": 8,
   "id": "11477bfb-3858-44b2-a8f5-ab110df39c63",
   "metadata": {},
   "outputs": [
    {
     "name": "stdout",
     "output_type": "stream",
     "text": [
      "label\n",
      "normal        320\n",
      "NaN           195\n",
      "murmur         95\n",
      "extrastole     46\n",
      "Name: count, dtype: int64\n"
     ]
    }
   ],
   "source": [
    "print(df_b[\"label\"].value_counts(dropna=False))"
   ]
  },
  {
   "cell_type": "code",
   "execution_count": 9,
   "id": "46072446-8888-4972-8cc3-cad43620940e",
   "metadata": {},
   "outputs": [
    {
     "data": {
      "text/plain": [
       "<Axes: >"
      ]
     },
     "execution_count": 9,
     "metadata": {},
     "output_type": "execute_result"
    },
    {
     "data": {
      "image/png": "[encoded data removed]",
      "text/plain": [
       "<Figure size 500x500 with 1 Axes>"
      ]
     },
     "metadata": {},
     "output_type": "display_data"
    }
   ],
   "source": [
    "df_b.label.hist(figsize=(5,5))"
   ]
  },
  {
   "cell_type": "markdown",
   "id": "21825b30-c2f3-4963-8498-b05c2abf72cd",
   "metadata": {},
   "source": [
    "## SMOTE Experiment (Dataset balancing)\n",
    "That was clearly imbalanced data. For this exercise, I will experiment with Set A. The reason is smaller instances so it will need smaller resources.\n",
    "And I will experiment with SMOTE to upsampling class instance"
   ]
  },
  {
   "cell_type": "code",
   "execution_count": 10,
   "id": "cf53e440-75fe-4228-99e6-bd058b4fdab8",
   "metadata": {},
   "outputs": [],
   "source": [
    "import numpy as np\n",
    "from imblearn.over_sampling import SMOTE\n",
    "import librosa\n",
    "import soundfile as sf\n",
    "from pathlib import Path\n",
    "import pandas as pd\n",
    "from collections import Counter"
   ]
  },
  {
   "cell_type": "code",
   "execution_count": 11,
   "id": "f9f6e428-2a76-4d6c-8aa9-db65f3a9b4a4",
   "metadata": {},
   "outputs": [
    {
     "data": {
      "text/plain": [
       "['artifact', 'extrahls', 'murmur', 'normal']"
      ]
     },
     "execution_count": 11,
     "metadata": {},
     "output_type": "execute_result"
    }
   ],
   "source": [
    "# Lets define the class name, and we will use Set A\n",
    "ALLOWED_CLASSES = df_a[\"label\"].dropna().unique().tolist()\n",
    "ALLOWED_CLASSES\n"
   ]
  },
  {
   "cell_type": "code",
   "execution_count": 12,
   "id": "95d52799-60cb-4ff9-bd49-a0928f20c1dd",
   "metadata": {},
   "outputs": [],
   "source": [
    "def generate_synthetic_audio(data_dir, class_name, target_count=40, sr=22050):\n",
    "    \"\"\"\n",
    "    Generate synthetic audio samples for underrepresented classes to match target count\n",
    "    \n",
    "    Parameters:\n",
    "    data_dir: directory containing audio files\n",
    "    target_count: number of samples to match (default 40 for artifact class)\n",
    "    sr: sampling rate\n",
    "    \"\"\"\n",
    "    # Define allowed classes\n",
    "    class_names = class_name\n",
    "    \n",
    "    # Get all wav files from directory\n",
    "    data_path = Path(data_dir)\n",
    "    all_audio_paths = list(data_path.glob('*.wav'))\n",
    "    \n",
    "    # Filter files to only include allowed classes\n",
    "    audio_paths = []\n",
    "    for path in all_audio_paths:\n",
    "        label = path.stem.split('__')[0]  # Get label from filename\n",
    "        if label in class_names:\n",
    "            audio_paths.append(str(path))\n",
    "    \n",
    "    audio_paths = sorted(audio_paths)  # Sort for consistency\n",
    "    \n",
    "    # Extract labels from filenames\n",
    "    labels = [path.split('__')[0].split('\\\\')[-1] for path in audio_paths]\n",
    "    # print(f\"Labels: {labels}\")\n",
    "    class_counts = Counter(labels)\n",
    "    \n",
    "    print(f\"Found {len(audio_paths)} files from allowed classes\")\n",
    "    print(f\"Class distribution: {class_counts}\")\n",
    "    \n",
    "    max_length = 0\n",
    "    audio_data = []\n",
    "    file_paths = []\n",
    "    \n",
    "    # First pass to find maximum length\n",
    "    for path in audio_paths:\n",
    "        audio, _ = librosa.load(path, sr=sr)\n",
    "        max_length = max(max_length, len(audio))\n",
    "    \n",
    "    # Second pass to pad all audio to same length\n",
    "    for path in audio_paths:\n",
    "        audio, _ = librosa.load(path, sr=sr)\n",
    "        if len(audio) < max_length:\n",
    "            audio = np.pad(audio, (0, max_length - len(audio)))\n",
    "        audio_data.append(audio)\n",
    "        file_paths.append(path)\n",
    "    \n",
    "    # Convert to numpy array\n",
    "    X = np.array(audio_data)\n",
    "    y = np.array(labels)\n",
    "    \n",
    "    # Calculate number of synthetic samples needed for each class\n",
    "    synthetic_counts = {}\n",
    "    for label, count in class_counts.items():\n",
    "        if count < target_count:\n",
    "            synthetic_counts[label] = target_count - count\n",
    "    \n",
    "    print(f\"Will generate synthetic samples: {synthetic_counts}\")\n",
    "    \n",
    "    # Create synthetic_audio directory inside data_dir\n",
    "    save_dir = data_path / 'synthetic_audio'\n",
    "    save_dir.mkdir(exist_ok=True)\n",
    "    print(f\"Saving synthetic samples to: {save_dir}\")\n",
    "    \n",
    "    # Generate synthetic samples for each underrepresented class\n",
    "    for label, needed_count in synthetic_counts.items():\n",
    "        print(f\"\\nProcessing {label}...\")\n",
    "        \n",
    "        # Get indices for current class\n",
    "        class_indices = np.where(y == label)[0]\n",
    "        X_class = X[class_indices]\n",
    "        y_class = y[class_indices]\n",
    "        \n",
    "        # Apply SMOTE to generate needed number of samples\n",
    "        smote = SMOTE(sampling_strategy={label: target_count}, random_state=42)\n",
    "        X_resampled, _ = smote.fit_resample(X, y)\n",
    "        \n",
    "        # Get only the synthetic samples (excluding original ones)\n",
    "        synthetic_samples = X_resampled[len(X):]\n",
    "\n",
    "        for i, sample in enumerate(synthetic_samples[:needed_count]):\n",
    "            save_path = save_dir / f\"{label}__synthetic_{i+1:02d}.wav\"\n",
    "            sf.write(str(save_path), sample, sr)\n",
    "            print(f\"Saved {save_path}\")\n",
    "    print('Done')\n"
   ]
  },
  {
   "cell_type": "code",
   "execution_count": 13,
   "id": "aebed77b-07d5-46f5-81ba-f384b3f5e5e4",
   "metadata": {},
   "outputs": [
    {
     "name": "stdout",
     "output_type": "stream",
     "text": [
      "Found 124 files from allowed classes\n",
      "Class distribution: Counter({'artifact': 40, 'murmur': 34, 'normal': 31, 'extrahls': 19})\n",
      "Will generate synthetic samples: {'extrahls': 21, 'murmur': 6, 'normal': 9}\n",
      "Saving synthetic samples to: heartbeat_data\\set_a\\synthetic_audio\n",
      "\n",
      "Processing extrahls...\n",
      "Saved heartbeat_data\\set_a\\synthetic_audio\\extrahls__synthetic_01.wav\n",
      "Saved heartbeat_data\\set_a\\synthetic_audio\\extrahls__synthetic_02.wav\n",
      "Saved heartbeat_data\\set_a\\synthetic_audio\\extrahls__synthetic_03.wav\n",
      "Saved heartbeat_data\\set_a\\synthetic_audio\\extrahls__synthetic_04.wav\n",
      "Saved heartbeat_data\\set_a\\synthetic_audio\\extrahls__synthetic_05.wav\n",
      "Saved heartbeat_data\\set_a\\synthetic_audio\\extrahls__synthetic_06.wav\n",
      "Saved heartbeat_data\\set_a\\synthetic_audio\\extrahls__synthetic_07.wav\n",
      "Saved heartbeat_data\\set_a\\synthetic_audio\\extrahls__synthetic_08.wav\n",
      "Saved heartbeat_data\\set_a\\synthetic_audio\\extrahls__synthetic_09.wav\n",
      "Saved heartbeat_data\\set_a\\synthetic_audio\\extrahls__synthetic_10.wav\n",
      "Saved heartbeat_data\\set_a\\synthetic_audio\\extrahls__synthetic_11.wav\n",
      "Saved heartbeat_data\\set_a\\synthetic_audio\\extrahls__synthetic_12.wav\n",
      "Saved heartbeat_data\\set_a\\synthetic_audio\\extrahls__synthetic_13.wav\n",
      "Saved heartbeat_data\\set_a\\synthetic_audio\\extrahls__synthetic_14.wav\n",
      "Saved heartbeat_data\\set_a\\synthetic_audio\\extrahls__synthetic_15.wav\n",
      "Saved heartbeat_data\\set_a\\synthetic_audio\\extrahls__synthetic_16.wav\n",
      "Saved heartbeat_data\\set_a\\synthetic_audio\\extrahls__synthetic_17.wav\n",
      "Saved heartbeat_data\\set_a\\synthetic_audio\\extrahls__synthetic_18.wav\n",
      "Saved heartbeat_data\\set_a\\synthetic_audio\\extrahls__synthetic_19.wav\n",
      "Saved heartbeat_data\\set_a\\synthetic_audio\\extrahls__synthetic_20.wav\n",
      "Saved heartbeat_data\\set_a\\synthetic_audio\\extrahls__synthetic_21.wav\n",
      "\n",
      "Processing murmur...\n",
      "Saved heartbeat_data\\set_a\\synthetic_audio\\murmur__synthetic_01.wav\n",
      "Saved heartbeat_data\\set_a\\synthetic_audio\\murmur__synthetic_02.wav\n",
      "Saved heartbeat_data\\set_a\\synthetic_audio\\murmur__synthetic_03.wav\n",
      "Saved heartbeat_data\\set_a\\synthetic_audio\\murmur__synthetic_04.wav\n",
      "Saved heartbeat_data\\set_a\\synthetic_audio\\murmur__synthetic_05.wav\n",
      "Saved heartbeat_data\\set_a\\synthetic_audio\\murmur__synthetic_06.wav\n",
      "\n",
      "Processing normal...\n",
      "Saved heartbeat_data\\set_a\\synthetic_audio\\normal__synthetic_01.wav\n",
      "Saved heartbeat_data\\set_a\\synthetic_audio\\normal__synthetic_02.wav\n",
      "Saved heartbeat_data\\set_a\\synthetic_audio\\normal__synthetic_03.wav\n",
      "Saved heartbeat_data\\set_a\\synthetic_audio\\normal__synthetic_04.wav\n",
      "Saved heartbeat_data\\set_a\\synthetic_audio\\normal__synthetic_05.wav\n",
      "Saved heartbeat_data\\set_a\\synthetic_audio\\normal__synthetic_06.wav\n",
      "Saved heartbeat_data\\set_a\\synthetic_audio\\normal__synthetic_07.wav\n",
      "Saved heartbeat_data\\set_a\\synthetic_audio\\normal__synthetic_08.wav\n",
      "Saved heartbeat_data\\set_a\\synthetic_audio\\normal__synthetic_09.wav\n",
      "Done\n"
     ]
    }
   ],
   "source": [
    "# Set the random seed for reproducibility\n",
    "np.random.seed(42)\n",
    "\n",
    "# Use glob to get all wav files, filtering out unlabelled ones\n",
    "generate_synthetic_audio('heartbeat_data/set_a', class_name=ALLOWED_CLASSES)"
   ]
  },
  {
   "cell_type": "code",
   "execution_count": 14,
   "id": "dd01e84a-e4d8-46e4-b9b6-d80e1bdef048",
   "metadata": {},
   "outputs": [
    {
     "name": "stdout",
     "output_type": "stream",
     "text": [
      "{'artifact': 40, 'extrahls': 40, 'murmur': 40, 'normal': 40}\n"
     ]
    },
    {
     "data": {
      "image/png": "[encoded data removed]",
      "text/plain": [
       "<Figure size 640x480 with 1 Axes>"
      ]
     },
     "metadata": {},
     "output_type": "display_data"
    }
   ],
   "source": [
    "import glob\n",
    "from collections import defaultdict\n",
    "import matplotlib.pyplot as plt\n",
    "\n",
    "# Define the path to the folder and its subdirectories\n",
    "folder_path = 'heartbeat_data/set_a/**/*.wav'  # Adjust file extension if needed\n",
    "\n",
    "# Initialize a dictionary to store occurrences\n",
    "file_count = defaultdict(int)\n",
    "\n",
    "# Use glob to find all files in the directory and its subdirectories\n",
    "files = glob.glob(folder_path, recursive=True)\n",
    "\n",
    "# Process each file and split by '__' to get the first part of the filename\n",
    "for file in files:\n",
    "    # Get the filename without path\n",
    "    filename = file.split('\\\\')[-1]\n",
    "    \n",
    "    # Split the filename by '__' and take the first part\n",
    "    key = filename.split('__')[0]\n",
    "    \n",
    "    # Count occurrences of each key\n",
    "    if key in ALLOWED_CLASSES:\n",
    "        file_count[key] += 1\n",
    "\n",
    "# Convert defaultdict to a regular dictionary (optional)\n",
    "file_count = dict(file_count)\n",
    "\n",
    "# Print the result (you can also save it if needed)\n",
    "print(file_count)\n",
    "\n",
    "# Create the bar plot\n",
    "plt.bar(file_count.keys(), file_count.values())\n",
    "\n",
    "# Display the plot\n",
    "plt.show()\n"
   ]
  },
  {
   "cell_type": "code",
   "execution_count": null,
   "id": "a3e88638-5d9f-4614-ae98-fd6e1c4bfecf",
   "metadata": {},
   "outputs": [],
   "source": []
  }
 ],
 "metadata": {
  "kernelspec": {
   "display_name": "Python 3 (ipykernel)",
   "language": "python",
   "name": "python3"
  },
  "language_info": {
   "codemirror_mode": {
    "name": "ipython",
    "version": 3
   },
   "file_extension": ".py",
   "mimetype": "text/x-python",
   "name": "python",
   "nbconvert_exporter": "python",
   "pygments_lexer": "ipython3",
   "version": "3.10.5"
  }
 },
 "nbformat": 4,
 "nbformat_minor": 5
}
