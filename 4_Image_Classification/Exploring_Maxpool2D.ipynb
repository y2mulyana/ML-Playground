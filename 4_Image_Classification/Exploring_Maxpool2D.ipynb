{
 "cells": [
  {
   "cell_type": "markdown",
   "id": "433144dc-0161-4d07-af1d-b96416f6552c",
   "metadata": {},
   "source": [
    "### How Max Pooling Works:\n",
    "\n",
    "Max pooling is a downsampling operation that reduces the spatial dimensions (height and width) of the input. This operation is typically applied to a feature map in convolutional neural networks (CNNs) to reduce its size and computation.\n",
    "\n",
    "\n",
    "In max pooling, a filter (or kernel) slides over the input feature map, and for each patch of the feature map that the filter covers, it picks the maximum value. This leads to a reduction in the output size.\n",
    "\n",
    "### Common Parameters in Max Pooling:\n",
    "\n",
    "-   **Kernel size** (`k`): The size of the window that slides over the input. For example, a 2x2 or 3x3 window.\n",
    "-   **Stride** (`s`): How far the window moves at each step. Typically, this is the same as the kernel size (for example, stride 2 for a 2x2 window).\n",
    "-   **Padding** (`p`): Whether padding is applied to the input before pooling. Usually, padding is set to 0, meaning no padding.\n",
    "\n",
    "### Formula for Output Size (for 2D input):\n",
    "\n",
    "If the input size is $H×W$ (Height x Width), the output size $OH×OW$ (Output Height x Output Width) after applying max pooling is:\n",
    "\n",
    "$OH= \\left\\lfloor \\frac{H - k + 2p}{s} \\right\\rfloor + 1$\n",
    "\n",
    "$OW= \\left\\lfloor \\frac{W - k + 2p}{s} \\right\\rfloor + 1$\n",
    "\n",
    "Where:\n",
    "\n",
    "-   $H$ = Height of the input\n",
    "-   $W$ = Width of the input\n",
    "-   $k$ = Size of the pooling kernel (for example, 2x2 or 3x3)\n",
    "-   $s$ = Stride\n",
    "-   $p$ = Padding (usually 0 for most cases)\n",
    "-   $⌊x⌋$ = Floor function (rounds down to the nearest integer)\n",
    "\n",
    "### Example:\n",
    "\n",
    "Suppose you have an input of size $6×6$ and apply a $2x2$ max pooling with a stride of 2 and no padding $(p = 0)$:\n",
    "\n",
    "$OH = \\left\\lfloor \\frac{6 - 2 + 2(0)}{2} \\right\\rfloor + 1 = \\left\\lfloor \\frac{4}{2} \\right\\rfloor + 1 = 2 + 1 = 3$\n",
    " \n",
    "$OW = \\left\\lfloor \\frac{6 - 2 + 2(0)}{2} \\right\\rfloor + 1 = \\left\\lfloor \\frac{4}{2} \\right\\rfloor + 1 = 2 + 1 = 3$\n",
    "\n",
    "So the output size would be $3 \\times 3$.\n",
    "\n"
   ]
  },
  {
   "cell_type": "code",
   "execution_count": 1,
   "id": "ed793cf1-970e-468e-9729-dda4cb2cfd2b",
   "metadata": {},
   "outputs": [
    {
     "name": "stdout",
     "output_type": "stream",
     "text": [
      "Random tensor: \n",
      "tensor([[[[-2.2014, -0.7309,  0.0099, -1.0123,  1.5577,  2.3575],\n",
      "          [ 0.2920, -0.0343,  1.0708,  1.5329,  1.5917,  0.4434],\n",
      "          [-0.9276, -0.4189, -0.5363,  1.3055, -1.0608,  0.0906],\n",
      "          [ 0.4941, -1.7198, -1.3727,  0.0968,  0.5845,  1.8343],\n",
      "          [ 0.1267,  1.5990,  0.0188, -0.3399,  1.2139, -0.8310],\n",
      "          [-0.5266, -0.7266,  0.4163, -2.3195,  1.1874, -1.2139]]]])\n",
      "Random tensor shape: torch.Size([1, 1, 6, 6])\n",
      "Output tensor: \n",
      "tensor([[[[0.2920, 1.5329, 2.3575],\n",
      "          [0.4941, 1.3055, 1.8343],\n",
      "          [1.5990, 0.4163, 1.2139]]]])\n",
      "Output tensor shape: torch.Size([1, 1, 3, 3])\n"
     ]
    }
   ],
   "source": [
    "import torch\n",
    "import torch.nn as nn\n",
    "\n",
    "# Input tensor of size (batch_size, channels, height, width)\n",
    "x = torch.randn(1, 1, 6, 6)\n",
    "\n",
    "# Apply 2x2 max pooling with stride 2\n",
    "maxpool = nn.MaxPool2d(kernel_size=2, stride=2)\n",
    "\n",
    "# Apply the max pooling operation\n",
    "output = maxpool(x)\n",
    "\n",
    "# Print the output size\n",
    "print(f\"Random tensor: \\n{x}\")\n",
    "print(f\"Random tensor shape: {x.shape}\")\n",
    "\n",
    "print(f\"Output tensor: \\n{output}\")\n",
    "print(f\"Output tensor shape: {output.shape}\")"
   ]
  },
  {
   "cell_type": "code",
   "execution_count": 7,
   "id": "b2d51abc-62b0-4e8c-8789-930f9d5b23f8",
   "metadata": {},
   "outputs": [
    {
     "data": {
      "application/vnd.jupyter.widget-view+json": {
       "model_id": "1064b5a024a54ba39b3455e87276d706",
       "version_major": 2,
       "version_minor": 0
      },
      "text/plain": [
       "IntSlider(value=28, description='Input Height (H):', max=64, min=16)"
      ]
     },
     "metadata": {},
     "output_type": "display_data"
    },
    {
     "data": {
      "application/vnd.jupyter.widget-view+json": {
       "model_id": "b58c1d5c9ba94b31adf1ab98f4c231bb",
       "version_major": 2,
       "version_minor": 0
      },
      "text/plain": [
       "IntSlider(value=2, description='Kernel Size (k):', max=10, min=1)"
      ]
     },
     "metadata": {},
     "output_type": "display_data"
    },
    {
     "data": {
      "application/vnd.jupyter.widget-view+json": {
       "model_id": "eb7a04a9a84141c79bd9a193aaee2e1c",
       "version_major": 2,
       "version_minor": 0
      },
      "text/plain": [
       "IntSlider(value=0, description='Padding (p):', max=10)"
      ]
     },
     "metadata": {},
     "output_type": "display_data"
    },
    {
     "data": {
      "application/vnd.jupyter.widget-view+json": {
       "model_id": "2237b0d61ce34d71b49d72a91d9fb3dc",
       "version_major": 2,
       "version_minor": 0
      },
      "text/plain": [
       "IntSlider(value=2, description='Stride (s):', max=10, min=1)"
      ]
     },
     "metadata": {},
     "output_type": "display_data"
    },
    {
     "data": {
      "application/vnd.jupyter.widget-view+json": {
       "model_id": "8fcf429d803c4df189da69bda734b1c2",
       "version_major": 2,
       "version_minor": 0
      },
      "text/plain": [
       "Output()"
      ]
     },
     "metadata": {},
     "output_type": "display_data"
    }
   ],
   "source": [
    "import ipywidgets as widgets\n",
    "from IPython.display import display\n",
    "\n",
    "# Function to calculate output height (OH)\n",
    "def calculate_output_height(H, k, p, s):\n",
    "    return (H - k + 2 * p) // s + 1\n",
    "\n",
    "# Create widgets for the user input\n",
    "height_input = widgets.IntSlider(value=28, min=16, max=64, step=1, description=\"Input Height (H):\")\n",
    "kernel_size_input = widgets.IntSlider(value=2, min=1, max=10, step=1, description=\"Kernel Size (k):\")\n",
    "padding_input = widgets.IntSlider(value=0, min=0, max=10, step=1, description=\"Padding (p):\")\n",
    "stride_input = widgets.IntSlider(value=2, min=1, max=10, step=1, description=\"Stride (s):\")\n",
    "\n",
    "# Output widget to display the result\n",
    "output_display = widgets.Output()\n",
    "\n",
    "# Function to update the output display when widgets change\n",
    "def update_output(change):\n",
    "    with output_display:\n",
    "        # Get the input values\n",
    "        H = height_input.value\n",
    "        k = kernel_size_input.value\n",
    "        p = padding_input.value\n",
    "        s = stride_input.value\n",
    "        \n",
    "        # Calculate the output height (OH)\n",
    "        OH = calculate_output_height(H, k, p, s)\n",
    "        \n",
    "        # Clear output and display result\n",
    "        output_display.clear_output(wait=True)\n",
    "        print(f\"Output Height (OH): {OH}\")\n",
    "\n",
    "# Set up event listeners for each widget to update output\n",
    "height_input.observe(update_output, names='value')\n",
    "kernel_size_input.observe(update_output, names='value')\n",
    "padding_input.observe(update_output, names='value')\n",
    "stride_input.observe(update_output, names='value')\n",
    "\n",
    "# Display the widgets and the output area\n",
    "display(height_input, kernel_size_input, padding_input, stride_input, output_display)\n",
    "\n",
    "# Initial output\n",
    "update_output(None)\n"
   ]
  },
  {
   "cell_type": "code",
   "execution_count": null,
   "id": "10e341ea-965c-4a3a-aea5-acb722a3ab68",
   "metadata": {},
   "outputs": [],
   "source": []
  }
 ],
 "metadata": {
  "kernelspec": {
   "display_name": "Python 3 (ipykernel)",
   "language": "python",
   "name": "python3"
  },
  "language_info": {
   "codemirror_mode": {
    "name": "ipython",
    "version": 3
   },
   "file_extension": ".py",
   "mimetype": "text/x-python",
   "name": "python",
   "nbconvert_exporter": "python",
   "pygments_lexer": "ipython3",
   "version": "3.10.5"
  }
 },
 "nbformat": 4,
 "nbformat_minor": 5
}
