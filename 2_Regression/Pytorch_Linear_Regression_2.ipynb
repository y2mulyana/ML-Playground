{
 "cells": [
  {
   "cell_type": "markdown",
   "id": "beefd82a-f786-486f-996a-18332f3e0505",
   "metadata": {},
   "source": [
    "# Simple Linear Regression (Cars dataset)\n",
    "\n",
    "This exercise demonstrates simple linear regression with the following key steps:\n",
    "\n",
    "- **Data Loading** (Load csv from url)\n",
    "- **Data Splitting** (Training and Testing Sets)\n",
    "- **Simple Model Class** (Defining the Regression Model)\n",
    "- **Training Loop** (Training the Model)\n",
    "- **Graphing** (Visualizing training vs test losses : Seaborn)\n"
   ]
  },
  {
   "cell_type": "code",
   "execution_count": 1,
   "id": "961b3e4d-31c2-45b6-a7e0-253d758b73ec",
   "metadata": {},
   "outputs": [],
   "source": [
    "import pandas as pd\n",
    "import torch\n",
    "import torch.nn as nn\n",
    "import seaborn as sns\n",
    "from sklearn.model_selection import train_test_split\n",
    "import matplotlib.pyplot as plt"
   ]
  },
  {
   "cell_type": "code",
   "execution_count": 2,
   "id": "033dba78-d926-46b8-8bf0-faf9c3826d7b",
   "metadata": {},
   "outputs": [
    {
     "data": {
      "text/html": [
       "<div>\n",
       "<style scoped>\n",
       "    .dataframe tbody tr th:only-of-type {\n",
       "        vertical-align: middle;\n",
       "    }\n",
       "\n",
       "    .dataframe tbody tr th {\n",
       "        vertical-align: top;\n",
       "    }\n",
       "\n",
       "    .dataframe thead th {\n",
       "        text-align: right;\n",
       "    }\n",
       "</style>\n",
       "<table border=\"1\" class=\"dataframe\">\n",
       "  <thead>\n",
       "    <tr style=\"text-align: right;\">\n",
       "      <th></th>\n",
       "      <th>Unnamed: 0</th>\n",
       "      <th>mpg</th>\n",
       "      <th>cyl</th>\n",
       "      <th>disp</th>\n",
       "      <th>hp</th>\n",
       "      <th>drat</th>\n",
       "      <th>wt</th>\n",
       "      <th>qsec</th>\n",
       "      <th>vs</th>\n",
       "      <th>am</th>\n",
       "      <th>gear</th>\n",
       "      <th>carb</th>\n",
       "    </tr>\n",
       "  </thead>\n",
       "  <tbody>\n",
       "    <tr>\n",
       "      <th>0</th>\n",
       "      <td>Mazda RX4</td>\n",
       "      <td>21.0</td>\n",
       "      <td>6</td>\n",
       "      <td>160.0</td>\n",
       "      <td>110</td>\n",
       "      <td>3.90</td>\n",
       "      <td>2.620</td>\n",
       "      <td>16.46</td>\n",
       "      <td>0</td>\n",
       "      <td>1</td>\n",
       "      <td>4</td>\n",
       "      <td>4</td>\n",
       "    </tr>\n",
       "    <tr>\n",
       "      <th>1</th>\n",
       "      <td>Mazda RX4 Wag</td>\n",
       "      <td>21.0</td>\n",
       "      <td>6</td>\n",
       "      <td>160.0</td>\n",
       "      <td>110</td>\n",
       "      <td>3.90</td>\n",
       "      <td>2.875</td>\n",
       "      <td>17.02</td>\n",
       "      <td>0</td>\n",
       "      <td>1</td>\n",
       "      <td>4</td>\n",
       "      <td>4</td>\n",
       "    </tr>\n",
       "    <tr>\n",
       "      <th>2</th>\n",
       "      <td>Datsun 710</td>\n",
       "      <td>22.8</td>\n",
       "      <td>4</td>\n",
       "      <td>108.0</td>\n",
       "      <td>93</td>\n",
       "      <td>3.85</td>\n",
       "      <td>2.320</td>\n",
       "      <td>18.61</td>\n",
       "      <td>1</td>\n",
       "      <td>1</td>\n",
       "      <td>4</td>\n",
       "      <td>1</td>\n",
       "    </tr>\n",
       "    <tr>\n",
       "      <th>3</th>\n",
       "      <td>Hornet 4 Drive</td>\n",
       "      <td>21.4</td>\n",
       "      <td>6</td>\n",
       "      <td>258.0</td>\n",
       "      <td>110</td>\n",
       "      <td>3.08</td>\n",
       "      <td>3.215</td>\n",
       "      <td>19.44</td>\n",
       "      <td>1</td>\n",
       "      <td>0</td>\n",
       "      <td>3</td>\n",
       "      <td>1</td>\n",
       "    </tr>\n",
       "    <tr>\n",
       "      <th>4</th>\n",
       "      <td>Hornet Sportabout</td>\n",
       "      <td>18.7</td>\n",
       "      <td>8</td>\n",
       "      <td>360.0</td>\n",
       "      <td>175</td>\n",
       "      <td>3.15</td>\n",
       "      <td>3.440</td>\n",
       "      <td>17.02</td>\n",
       "      <td>0</td>\n",
       "      <td>0</td>\n",
       "      <td>3</td>\n",
       "      <td>2</td>\n",
       "    </tr>\n",
       "  </tbody>\n",
       "</table>\n",
       "</div>"
      ],
      "text/plain": [
       "          Unnamed: 0   mpg  cyl   disp   hp  drat     wt   qsec  vs  am  gear  \\\n",
       "0          Mazda RX4  21.0    6  160.0  110  3.90  2.620  16.46   0   1     4   \n",
       "1      Mazda RX4 Wag  21.0    6  160.0  110  3.90  2.875  17.02   0   1     4   \n",
       "2         Datsun 710  22.8    4  108.0   93  3.85  2.320  18.61   1   1     4   \n",
       "3     Hornet 4 Drive  21.4    6  258.0  110  3.08  3.215  19.44   1   0     3   \n",
       "4  Hornet Sportabout  18.7    8  360.0  175  3.15  3.440  17.02   0   0     3   \n",
       "\n",
       "   carb  \n",
       "0     4  \n",
       "1     4  \n",
       "2     1  \n",
       "3     1  \n",
       "4     2  "
      ]
     },
     "execution_count": 2,
     "metadata": {},
     "output_type": "execute_result"
    }
   ],
   "source": [
    "## data import\n",
    "cars_file = 'https://gist.githubusercontent.com/noamross/e5d3e859aa0c794be10b/raw/b999fb4425b54c63cab088c0ce2c0d6ce961a563/cars.csv'\n",
    "cars = pd.read_csv(cars_file)\n",
    "cars.head()"
   ]
  },
  {
   "cell_type": "code",
   "execution_count": 3,
   "id": "e61c99f8-eaa7-461b-a776-8bc62a79b612",
   "metadata": {},
   "outputs": [
    {
     "name": "stdout",
     "output_type": "stream",
     "text": [
      "<class 'pandas.core.frame.DataFrame'>\n",
      "RangeIndex: 32 entries, 0 to 31\n",
      "Data columns (total 12 columns):\n",
      " #   Column      Non-Null Count  Dtype  \n",
      "---  ------      --------------  -----  \n",
      " 0   Unnamed: 0  32 non-null     object \n",
      " 1   mpg         32 non-null     float64\n",
      " 2   cyl         32 non-null     int64  \n",
      " 3   disp        32 non-null     float64\n",
      " 4   hp          32 non-null     int64  \n",
      " 5   drat        32 non-null     float64\n",
      " 6   wt          32 non-null     float64\n",
      " 7   qsec        32 non-null     float64\n",
      " 8   vs          32 non-null     int64  \n",
      " 9   am          32 non-null     int64  \n",
      " 10  gear        32 non-null     int64  \n",
      " 11  carb        32 non-null     int64  \n",
      "dtypes: float64(5), int64(6), object(1)\n",
      "memory usage: 3.1+ KB\n"
     ]
    }
   ],
   "source": [
    "# mpg = miles per galon\n",
    "cars.info()"
   ]
  },
  {
   "cell_type": "code",
   "execution_count": 4,
   "id": "a5f4a0e9-5365-48fa-bf71-f7f23dd1c58f",
   "metadata": {},
   "outputs": [
    {
     "data": {
      "text/plain": [
       "<Axes: xlabel='wt', ylabel='mpg'>"
      ]
     },
     "execution_count": 4,
     "metadata": {},
     "output_type": "execute_result"
    },
    {
     "data": {
      "image/png": "[encoded data removed]",
      "text/plain": [
       "<Figure size 640x480 with 1 Axes>"
      ]
     },
     "metadata": {},
     "output_type": "display_data"
    }
   ],
   "source": [
    "sns.scatterplot(x='wt', y='mpg', data=cars)"
   ]
  },
  {
   "cell_type": "code",
   "execution_count": 5,
   "id": "7fbf14e4-daab-43b0-b515-eb608f6dec94",
   "metadata": {},
   "outputs": [
    {
     "data": {
      "text/plain": [
       "<Axes: xlabel='wt', ylabel='mpg'>"
      ]
     },
     "execution_count": 5,
     "metadata": {},
     "output_type": "execute_result"
    },
    {
     "data": {
      "image/png": "[encoded data removed]",
      "text/plain": [
       "<Figure size 640x480 with 1 Axes>"
      ]
     },
     "metadata": {},
     "output_type": "display_data"
    }
   ],
   "source": [
    "sns.regplot(x='wt', y='mpg', data=cars)"
   ]
  },
  {
   "cell_type": "code",
   "execution_count": 6,
   "id": "b37ab62e-1068-4f61-873c-0feb0ec4e52e",
   "metadata": {},
   "outputs": [],
   "source": [
    "# 'X' is the feature column and 'y' is the target, we use 2 method as options\n",
    "X0 = cars['wt'].values\n",
    "y0 = cars.mpg.values"
   ]
  },
  {
   "cell_type": "code",
   "execution_count": 7,
   "id": "2b29ab4e-d50c-47ba-a9ea-07a943c56ae5",
   "metadata": {},
   "outputs": [
    {
     "data": {
      "text/plain": [
       "(array([2.62 , 2.875, 2.32 , 3.215, 3.44 , 3.46 , 3.57 , 3.19 , 3.15 ,\n",
       "        3.44 , 3.44 , 4.07 , 3.73 , 3.78 , 5.25 , 5.424, 5.345, 2.2  ,\n",
       "        1.615, 1.835, 2.465, 3.52 , 3.435, 3.84 , 3.845, 1.935, 2.14 ,\n",
       "        1.513, 3.17 , 2.77 , 3.57 , 2.78 ]),\n",
       " array([21. , 21. , 22.8, 21.4, 18.7, 18.1, 14.3, 24.4, 22.8, 19.2, 17.8,\n",
       "        16.4, 17.3, 15.2, 10.4, 10.4, 14.7, 32.4, 30.4, 33.9, 21.5, 15.5,\n",
       "        15.2, 13.3, 19.2, 27.3, 26. , 30.4, 15.8, 19.7, 15. , 21.4]))"
      ]
     },
     "execution_count": 7,
     "metadata": {},
     "output_type": "execute_result"
    }
   ],
   "source": [
    "X0, y0"
   ]
  },
  {
   "cell_type": "code",
   "execution_count": 8,
   "id": "e9941575-8cc3-4972-b10f-16a864c0b78a",
   "metadata": {},
   "outputs": [],
   "source": [
    "X = torch.tensor(X0, dtype=torch.float32).reshape(-1,1)\n",
    "y = torch.tensor(y0, dtype=torch.float32).reshape(-1,1)"
   ]
  },
  {
   "cell_type": "code",
   "execution_count": 9,
   "id": "eb29a804-bcf1-45c8-8397-8729735c87f4",
   "metadata": {},
   "outputs": [
    {
     "data": {
      "text/plain": [
       "(tensor([[2.6200],\n",
       "         [2.8750],\n",
       "         [2.3200],\n",
       "         [3.2150],\n",
       "         [3.4400],\n",
       "         [3.4600],\n",
       "         [3.5700],\n",
       "         [3.1900],\n",
       "         [3.1500],\n",
       "         [3.4400],\n",
       "         [3.4400],\n",
       "         [4.0700],\n",
       "         [3.7300],\n",
       "         [3.7800],\n",
       "         [5.2500],\n",
       "         [5.4240],\n",
       "         [5.3450],\n",
       "         [2.2000],\n",
       "         [1.6150],\n",
       "         [1.8350],\n",
       "         [2.4650],\n",
       "         [3.5200],\n",
       "         [3.4350],\n",
       "         [3.8400],\n",
       "         [3.8450],\n",
       "         [1.9350],\n",
       "         [2.1400],\n",
       "         [1.5130],\n",
       "         [3.1700],\n",
       "         [2.7700],\n",
       "         [3.5700],\n",
       "         [2.7800]]),\n",
       " tensor([[21.0000],\n",
       "         [21.0000],\n",
       "         [22.8000],\n",
       "         [21.4000],\n",
       "         [18.7000],\n",
       "         [18.1000],\n",
       "         [14.3000],\n",
       "         [24.4000],\n",
       "         [22.8000],\n",
       "         [19.2000],\n",
       "         [17.8000],\n",
       "         [16.4000],\n",
       "         [17.3000],\n",
       "         [15.2000],\n",
       "         [10.4000],\n",
       "         [10.4000],\n",
       "         [14.7000],\n",
       "         [32.4000],\n",
       "         [30.4000],\n",
       "         [33.9000],\n",
       "         [21.5000],\n",
       "         [15.5000],\n",
       "         [15.2000],\n",
       "         [13.3000],\n",
       "         [19.2000],\n",
       "         [27.3000],\n",
       "         [26.0000],\n",
       "         [30.4000],\n",
       "         [15.8000],\n",
       "         [19.7000],\n",
       "         [15.0000],\n",
       "         [21.4000]]))"
      ]
     },
     "execution_count": 9,
     "metadata": {},
     "output_type": "execute_result"
    }
   ],
   "source": [
    "X, y"
   ]
  },
  {
   "cell_type": "code",
   "execution_count": 10,
   "id": "433348c4-5c3b-4bb7-b075-211a025a8f72",
   "metadata": {},
   "outputs": [],
   "source": [
    "x_train, x_test, y_train, y_test = train_test_split(X, y, test_size=0.2, random_state=42)"
   ]
  },
  {
   "cell_type": "code",
   "execution_count": 11,
   "id": "e43a4050-fd05-4f31-9ff0-f97a9b230ba1",
   "metadata": {},
   "outputs": [
    {
     "data": {
      "text/plain": [
       "(25, 7)"
      ]
     },
     "execution_count": 11,
     "metadata": {},
     "output_type": "execute_result"
    }
   ],
   "source": [
    "len(x_train), len(x_test)"
   ]
  },
  {
   "cell_type": "code",
   "execution_count": 12,
   "id": "c72a2747-32ee-4f8d-8d82-fae08d207949",
   "metadata": {},
   "outputs": [
    {
     "data": {
      "text/plain": [
       "torch.Size([25, 1])"
      ]
     },
     "execution_count": 12,
     "metadata": {},
     "output_type": "execute_result"
    }
   ],
   "source": [
    "x_train.shape"
   ]
  },
  {
   "cell_type": "code",
   "execution_count": 13,
   "id": "b711a0a9-ebcc-4e37-9bd1-b4021abfb44a",
   "metadata": {},
   "outputs": [
    {
     "data": {
      "text/plain": [
       "tensor([[19.7000],\n",
       "        [10.4000],\n",
       "        [19.2000],\n",
       "        [32.4000],\n",
       "        [22.8000],\n",
       "        [19.2000],\n",
       "        [15.0000]])"
      ]
     },
     "execution_count": 13,
     "metadata": {},
     "output_type": "execute_result"
    }
   ],
   "source": [
    "y_test"
   ]
  },
  {
   "cell_type": "code",
   "execution_count": 14,
   "id": "d2de69cc-7e2e-4bef-8318-86bd9eb077d8",
   "metadata": {},
   "outputs": [],
   "source": [
    "# TODO: Plot train and test"
   ]
  },
  {
   "cell_type": "code",
   "execution_count": 15,
   "id": "0c26c62b-44b3-4da1-bb62-3cda23783539",
   "metadata": {},
   "outputs": [],
   "source": [
    "class IrisClassification(nn.Module):\n",
    "    def __init__(self):\n",
    "        super().__init__()\n",
    "        self.layer1 = nn.Linear(1, 1)\n",
    "\n",
    "    def forward(self, x):\n",
    "        preds = self.layer1(x)\n",
    "        return preds"
   ]
  },
  {
   "cell_type": "code",
   "execution_count": 16,
   "id": "93b23963-80ff-4545-85e5-969ac39a3008",
   "metadata": {},
   "outputs": [],
   "source": [
    "model = IrisClassification()\n",
    "loss_fn = nn.MSELoss()\n",
    "optimizer = torch.optim.SGD(model.parameters(), lr=0.078)"
   ]
  },
  {
   "cell_type": "code",
   "execution_count": 17,
   "id": "10f8e8b3-f25b-47fe-b7e5-96ebde53350d",
   "metadata": {},
   "outputs": [
    {
     "data": {
      "text/plain": [
       "OrderedDict([('layer1.weight', tensor([[-0.2617]])),\n",
       "             ('layer1.bias', tensor([0.9529]))])"
      ]
     },
     "execution_count": 17,
     "metadata": {},
     "output_type": "execute_result"
    }
   ],
   "source": [
    "model.state_dict()"
   ]
  },
  {
   "cell_type": "code",
   "execution_count": 18,
   "id": "3f873560-285f-41c9-b3d0-9a436a2ca30c",
   "metadata": {},
   "outputs": [
    {
     "name": "stdout",
     "output_type": "stream",
     "text": [
      "Epoch: [1/600], loss: 432.8264\n",
      "Epoch: [6/600], loss: 145.3839\n",
      "Epoch: [11/600], loss: 93.9874\n",
      "Epoch: [16/600], loss: 78.7493\n",
      "Epoch: [21/600], loss: 69.7730\n",
      "Epoch: [26/600], loss: 62.5033\n",
      "Epoch: [31/600], loss: 56.1722\n",
      "Epoch: [36/600], loss: 50.5863\n",
      "Epoch: [41/600], loss: 45.6471\n",
      "Epoch: [46/600], loss: 41.2780\n",
      "Epoch: [51/600], loss: 37.4129\n",
      "Epoch: [56/600], loss: 33.9938\n",
      "Epoch: [61/600], loss: 30.9690\n",
      "Epoch: [66/600], loss: 28.2932\n",
      "Epoch: [71/600], loss: 25.9261\n",
      "Epoch: [76/600], loss: 23.8320\n",
      "Epoch: [81/600], loss: 21.9795\n",
      "Epoch: [86/600], loss: 20.3408\n",
      "Epoch: [91/600], loss: 18.8910\n",
      "Epoch: [96/600], loss: 17.6085\n",
      "Epoch: [101/600], loss: 16.4740\n",
      "Epoch: [106/600], loss: 15.4703\n",
      "Epoch: [111/600], loss: 14.5824\n",
      "Epoch: [116/600], loss: 13.7970\n",
      "Epoch: [121/600], loss: 13.1021\n",
      "Epoch: [126/600], loss: 12.4875\n",
      "Epoch: [131/600], loss: 11.9437\n",
      "Epoch: [136/600], loss: 11.4626\n",
      "Epoch: [141/600], loss: 11.0371\n",
      "Epoch: [146/600], loss: 10.6606\n",
      "Epoch: [151/600], loss: 10.3276\n",
      "Epoch: [156/600], loss: 10.0330\n",
      "Epoch: [161/600], loss: 9.7723\n",
      "Epoch: [166/600], loss: 9.5418\n",
      "Epoch: [171/600], loss: 9.3378\n",
      "Epoch: [176/600], loss: 9.1574\n",
      "Epoch: [181/600], loss: 8.9978\n",
      "Epoch: [186/600], loss: 8.8565\n",
      "Epoch: [191/600], loss: 8.7316\n",
      "Epoch: [196/600], loss: 8.6211\n",
      "Epoch: [201/600], loss: 8.5234\n",
      "Epoch: [206/600], loss: 8.4369\n",
      "Epoch: [211/600], loss: 8.3604\n",
      "Epoch: [216/600], loss: 8.2927\n",
      "Epoch: [221/600], loss: 8.2328\n",
      "Epoch: [226/600], loss: 8.1799\n",
      "Epoch: [231/600], loss: 8.1330\n",
      "Epoch: [236/600], loss: 8.0916\n",
      "Epoch: [241/600], loss: 8.0549\n",
      "Epoch: [246/600], loss: 8.0225\n",
      "Epoch: [251/600], loss: 7.9938\n",
      "Epoch: [256/600], loss: 7.9684\n",
      "Epoch: [261/600], loss: 7.9459\n",
      "Epoch: [266/600], loss: 7.9260\n",
      "Epoch: [271/600], loss: 7.9085\n",
      "Epoch: [276/600], loss: 7.8929\n",
      "Epoch: [281/600], loss: 7.8792\n",
      "Epoch: [286/600], loss: 7.8670\n",
      "Epoch: [291/600], loss: 7.8562\n",
      "Epoch: [296/600], loss: 7.8467\n",
      "Epoch: [301/600], loss: 7.8383\n",
      "Epoch: [306/600], loss: 7.8308\n",
      "Epoch: [311/600], loss: 7.8243\n",
      "Epoch: [316/600], loss: 7.8184\n",
      "Epoch: [321/600], loss: 7.8133\n",
      "Epoch: [326/600], loss: 7.8087\n",
      "Epoch: [331/600], loss: 7.8047\n",
      "Epoch: [336/600], loss: 7.8011\n",
      "Epoch: [341/600], loss: 7.7979\n",
      "Epoch: [346/600], loss: 7.7951\n",
      "Epoch: [351/600], loss: 7.7927\n",
      "Epoch: [356/600], loss: 7.7905\n",
      "Epoch: [361/600], loss: 7.7885\n",
      "Epoch: [366/600], loss: 7.7868\n",
      "Epoch: [371/600], loss: 7.7853\n",
      "Epoch: [376/600], loss: 7.7840\n",
      "Epoch: [381/600], loss: 7.7828\n",
      "Epoch: [386/600], loss: 7.7817\n",
      "Epoch: [391/600], loss: 7.7808\n",
      "Epoch: [396/600], loss: 7.7800\n",
      "Epoch: [401/600], loss: 7.7793\n",
      "Epoch: [406/600], loss: 7.7786\n",
      "Epoch: [411/600], loss: 7.7781\n",
      "Epoch: [416/600], loss: 7.7776\n",
      "Epoch: [421/600], loss: 7.7771\n",
      "Epoch: [426/600], loss: 7.7767\n",
      "Epoch: [431/600], loss: 7.7764\n",
      "Epoch: [436/600], loss: 7.7761\n",
      "Epoch: [441/600], loss: 7.7758\n",
      "Epoch: [446/600], loss: 7.7755\n",
      "Epoch: [451/600], loss: 7.7753\n",
      "Epoch: [456/600], loss: 7.7751\n",
      "Epoch: [461/600], loss: 7.7750\n",
      "Epoch: [466/600], loss: 7.7748\n",
      "Epoch: [471/600], loss: 7.7747\n",
      "Epoch: [476/600], loss: 7.7746\n",
      "Epoch: [481/600], loss: 7.7745\n",
      "Epoch: [486/600], loss: 7.7744\n",
      "Epoch: [491/600], loss: 7.7743\n",
      "Epoch: [496/600], loss: 7.7742\n",
      "Epoch: [501/600], loss: 7.7742\n",
      "Epoch: [506/600], loss: 7.7741\n",
      "Epoch: [511/600], loss: 7.7741\n",
      "Epoch: [516/600], loss: 7.7740\n",
      "Epoch: [521/600], loss: 7.7740\n",
      "Epoch: [526/600], loss: 7.7740\n",
      "Epoch: [531/600], loss: 7.7739\n",
      "Epoch: [536/600], loss: 7.7739\n",
      "Epoch: [541/600], loss: 7.7739\n",
      "Epoch: [546/600], loss: 7.7739\n",
      "Epoch: [551/600], loss: 7.7738\n",
      "Epoch: [556/600], loss: 7.7738\n",
      "Epoch: [561/600], loss: 7.7738\n",
      "Epoch: [566/600], loss: 7.7738\n",
      "Epoch: [571/600], loss: 7.7738\n",
      "Epoch: [576/600], loss: 7.7738\n",
      "Epoch: [581/600], loss: 7.7738\n",
      "Epoch: [586/600], loss: 7.7738\n",
      "Epoch: [591/600], loss: 7.7737\n",
      "Epoch: [596/600], loss: 7.7737\n"
     ]
    }
   ],
   "source": [
    "train_losses, test_losses = [], []\n",
    "num_epochs = 600\n",
    "\n",
    "for epoch in range(num_epochs):\n",
    "    model.train()\n",
    "\n",
    "    # Forward pass\n",
    "    y_pred = model(x_train)\n",
    "\n",
    "    # Calculate loss\n",
    "    loss = loss_fn(y_pred, y_train)\n",
    "    train_losses.append(loss.item())\n",
    "\n",
    "    # Optimizer zero gradient\n",
    "    optimizer.zero_grad()\n",
    "    \n",
    "    # Backward pass\n",
    "    loss.backward()\n",
    "        \n",
    "    # Optimizer step\n",
    "    optimizer.step()\n",
    "    \n",
    "    # TESTING\n",
    "    model.eval()\n",
    "    with torch.inference_mode():\n",
    "        y_pred_test = model(x_test)\n",
    "        loss_test = loss_fn(y_pred_test, y_test)\n",
    "        test_losses.append(loss_test.item())\n",
    "    if epoch % 5 == 0:\n",
    "        print(f'Epoch: [{epoch+1}/{num_epochs}], loss: {loss.item():.4f}')"
   ]
  },
  {
   "cell_type": "code",
   "execution_count": 19,
   "id": "6b244da0-cb09-4d4e-8db8-eab2e2fb3b1c",
   "metadata": {},
   "outputs": [
    {
     "data": {
      "text/plain": [
       "<Axes: >"
      ]
     },
     "execution_count": 19,
     "metadata": {},
     "output_type": "execute_result"
    },
    {
     "data": {
      "image/png": "[encoded data removed]",
      "text/plain": [
       "<Figure size 640x480 with 1 Axes>"
      ]
     },
     "metadata": {},
     "output_type": "display_data"
    }
   ],
   "source": [
    "# Plot Train losses vs test losses Seaborn version\n",
    "sns.lineplot(x=range(num_epochs), y=train_losses)\n",
    "sns.lineplot(x=range(num_epochs), y=test_losses)\n"
   ]
  },
  {
   "cell_type": "code",
   "execution_count": 20,
   "id": "86e77046-472d-4f52-bb0c-ffba0a4f7a7c",
   "metadata": {},
   "outputs": [
    {
     "data": {
      "text/plain": [
       "<matplotlib.legend.Legend at 0x1ed5a1639d0>"
      ]
     },
     "execution_count": 20,
     "metadata": {},
     "output_type": "execute_result"
    },
    {
     "data": {
      "image/png": "[encoded data removed]",
      "text/plain": [
       "<Figure size 640x480 with 1 Axes>"
      ]
     },
     "metadata": {},
     "output_type": "display_data"
    }
   ],
   "source": [
    "# Plot Train losses vs test losses Matplotlib version\n",
    "plt.plot(range(num_epochs), train_losses, label='Train losses')\n",
    "plt.plot(range(num_epochs), test_losses, label='Test losses')\n",
    "plt.legend()"
   ]
  },
  {
   "cell_type": "code",
   "execution_count": null,
   "id": "bdbb04f6-df2d-42cb-952f-bbb0d94012ab",
   "metadata": {},
   "outputs": [],
   "source": []
  }
 ],
 "metadata": {
  "kernelspec": {
   "display_name": "Python 3 (ipykernel)",
   "language": "python",
   "name": "python3"
  },
  "language_info": {
   "codemirror_mode": {
    "name": "ipython",
    "version": 3
   },
   "file_extension": ".py",
   "mimetype": "text/x-python",
   "name": "python",
   "nbconvert_exporter": "python",
   "pygments_lexer": "ipython3",
   "version": "3.10.5"
  }
 },
 "nbformat": 4,
 "nbformat_minor": 5
}
