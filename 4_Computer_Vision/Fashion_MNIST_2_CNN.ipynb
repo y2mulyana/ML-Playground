{
  "nbformat": 4,
  "nbformat_minor": 0,
  "metadata": {
    "colab": {
      "provenance": [],
      "toc_visible": true,
      "gpuType": "T4"
    },
    "kernelspec": {
      "name": "python3",
      "display_name": "Python 3"
    },
    "language_info": {
      "name": "python"
    },
    "accelerator": "GPU"
  },
  "cells": [
    {
      "cell_type": "markdown",
      "source": [
        "# Fashion-MNIST - CNN\n",
        "\n",
        "This introduction exercise demonstrates classification with the following key steps:\n",
        "\n",
        "- **Dataset** (Exploring FashionMNIST  and common error)\n",
        "- **Data Loader** (Exploring batches principle)\n",
        "- **Simple Model Class**\n",
        "    - Layer stack with `nn.Sequence`\n",
        "    - SGD for optimizer\n",
        "    - `nn.CrossEntropyLoss()` for loss function\n",
        "- **Training Loop** (Training the Model)\n",
        "- **Model Summary** (Model summary layer by layer)\n",
        "- **Evaluation** (Accuracy and Visualizing with Confussion Matrix)\n",
        "- **Save and Load Model** (Save method comparison)\n",
        "- **Making Predictions**\n",
        "\n",
        "\n",
        "* Dataset : https://pytorch.org/vision/main/datasets.html\n",
        "* Fashion-MNIST link:\n",
        " - https://pytorch.org/vision/main/generated/torchvision.datasets.FashionMNIST.html#torchvision.datasets.FashionMNIST\n",
        " - https://github.com/zalandoresearch/fashion-mnist/tree/master/data\n",
        "\n",
        "\n",
        "*Note: Gogle colab*"
      ],
      "metadata": {
        "id": "oKb6Ld9gYr_5"
      }
    },
    {
      "cell_type": "code",
      "source": [
        "# Import Pytorch\n",
        "import torch\n",
        "from torch import nn\n",
        "\n",
        "# Import torchvision\n",
        "import torchvision\n",
        "from torchvision import datasets\n",
        "from torchvision.transforms import ToTensor\n",
        "\n",
        "# Import matplotlib\n",
        "import matplotlib.pyplot as plt"
      ],
      "metadata": {
        "id": "fXHZxePmZHnJ"
      },
      "execution_count": 1,
      "outputs": []
    },
    {
      "cell_type": "markdown",
      "source": [
        "# Dataset"
      ],
      "metadata": {
        "id": "OQaXb7-aTUG6"
      }
    },
    {
      "cell_type": "markdown",
      "source": [
        "## Get dataset"
      ],
      "metadata": {
        "id": "95eTmiVdZyt5"
      }
    },
    {
      "cell_type": "markdown",
      "source": [
        "\n",
        "**Parameter**\n",
        "\n",
        "* `root` (str or `pathlib.Path`) – Root directory of dataset where `FashionMNIST/raw/train-images-idx3-ubyte` and F`ashionMNIST/raw/t10k-images-idx3-ubyte` exist.\n",
        "\n",
        "* `train` (*bool, optional*) – If True, creates dataset from `train-images-idx3-ubyte`, otherwise from `t10k-images-idx3-ubyte`.\n",
        "\n",
        "* `download` (*bool, optional*) – If True, downloads the dataset from the internet and puts it in root directory. If dataset is already downloaded, it is not downloaded again.\n",
        "\n",
        "* `transform` (*callable, optional*) – A function/transform that takes in a PIL image and returns a transformed version. E.g, `transforms.RandomCrop`\n",
        "\n",
        "* `target_transform` (*callable, optional*) – A function/transform that takes in the target and transforms it."
      ],
      "metadata": {
        "id": "G3k9mVMDacwS"
      }
    },
    {
      "cell_type": "code",
      "source": [
        "# Training dataset\n",
        "train_data = datasets.FashionMNIST(\n",
        "    root=\"data\", # Directory to put downloaded dataset\n",
        "    train=\"True\", # Get training dataset train-images-idx3-ubyte\n",
        "    download=\"True\", # See above 😉\n",
        "    transform=ToTensor(), # Transform image to tensor\n",
        "    target_transform=None # To transform to tenser\n",
        ")\n",
        "\n",
        "# Test dataset\n",
        "test_data = datasets.FashionMNIST(\n",
        "    root=\"data\",\n",
        "    train=\"False\", # Get test dataset 👌 - t10k-images-idx3-ubyte\n",
        "    download=\"True\",\n",
        "    transform=ToTensor()\n",
        ")"
      ],
      "metadata": {
        "id": "RUEHJT37Z4uG",
        "colab": {
          "base_uri": "https://localhost:8080/"
        },
        "outputId": "170c54f0-40fa-4d6e-e5e2-28d743d2ea44"
      },
      "execution_count": 2,
      "outputs": [
        {
          "output_type": "stream",
          "name": "stdout",
          "text": [
            "Downloading http://fashion-mnist.s3-website.eu-central-1.amazonaws.com/train-images-idx3-ubyte.gz\n",
            "Downloading http://fashion-mnist.s3-website.eu-central-1.amazonaws.com/train-images-idx3-ubyte.gz to data/FashionMNIST/raw/train-images-idx3-ubyte.gz\n"
          ]
        },
        {
          "output_type": "stream",
          "name": "stderr",
          "text": [
            "100%|██████████| 26.4M/26.4M [00:02<00:00, 13.2MB/s]\n"
          ]
        },
        {
          "output_type": "stream",
          "name": "stdout",
          "text": [
            "Extracting data/FashionMNIST/raw/train-images-idx3-ubyte.gz to data/FashionMNIST/raw\n",
            "\n",
            "Downloading http://fashion-mnist.s3-website.eu-central-1.amazonaws.com/train-labels-idx1-ubyte.gz\n",
            "Downloading http://fashion-mnist.s3-website.eu-central-1.amazonaws.com/train-labels-idx1-ubyte.gz to data/FashionMNIST/raw/train-labels-idx1-ubyte.gz\n"
          ]
        },
        {
          "output_type": "stream",
          "name": "stderr",
          "text": [
            "100%|██████████| 29.5k/29.5k [00:00<00:00, 212kB/s]\n"
          ]
        },
        {
          "output_type": "stream",
          "name": "stdout",
          "text": [
            "Extracting data/FashionMNIST/raw/train-labels-idx1-ubyte.gz to data/FashionMNIST/raw\n",
            "\n",
            "Downloading http://fashion-mnist.s3-website.eu-central-1.amazonaws.com/t10k-images-idx3-ubyte.gz\n",
            "Downloading http://fashion-mnist.s3-website.eu-central-1.amazonaws.com/t10k-images-idx3-ubyte.gz to data/FashionMNIST/raw/t10k-images-idx3-ubyte.gz\n"
          ]
        },
        {
          "output_type": "stream",
          "name": "stderr",
          "text": [
            "100%|██████████| 4.42M/4.42M [00:01<00:00, 3.90MB/s]\n"
          ]
        },
        {
          "output_type": "stream",
          "name": "stdout",
          "text": [
            "Extracting data/FashionMNIST/raw/t10k-images-idx3-ubyte.gz to data/FashionMNIST/raw\n",
            "\n",
            "Downloading http://fashion-mnist.s3-website.eu-central-1.amazonaws.com/t10k-labels-idx1-ubyte.gz\n",
            "Downloading http://fashion-mnist.s3-website.eu-central-1.amazonaws.com/t10k-labels-idx1-ubyte.gz to data/FashionMNIST/raw/t10k-labels-idx1-ubyte.gz\n"
          ]
        },
        {
          "output_type": "stream",
          "name": "stderr",
          "text": [
            "100%|██████████| 5.15k/5.15k [00:00<00:00, 2.51MB/s]\n"
          ]
        },
        {
          "output_type": "stream",
          "name": "stdout",
          "text": [
            "Extracting data/FashionMNIST/raw/t10k-labels-idx1-ubyte.gz to data/FashionMNIST/raw\n",
            "\n"
          ]
        }
      ]
    },
    {
      "cell_type": "code",
      "source": [
        "# Lets check how many dataset available\n",
        "len(train_data.data), len(train_data.targets), len(test_data.data), len(test_data.targets)"
      ],
      "metadata": {
        "colab": {
          "base_uri": "https://localhost:8080/"
        },
        "id": "kzxx9yfu8n3o",
        "outputId": "6abe37b6-ecb6-4557-91f2-bab79a5b06a8"
      },
      "execution_count": 3,
      "outputs": [
        {
          "output_type": "execute_result",
          "data": {
            "text/plain": [
              "(60000, 60000, 60000, 60000)"
            ]
          },
          "metadata": {},
          "execution_count": 3
        }
      ]
    },
    {
      "cell_type": "code",
      "source": [
        "# Check what classes/label available\n",
        "class_names = train_data.classes\n",
        "class_names"
      ],
      "metadata": {
        "colab": {
          "base_uri": "https://localhost:8080/"
        },
        "id": "I5VsBPiS9UgY",
        "outputId": "d1336680-4d40-4dcb-ea93-38cfebeb81d8"
      },
      "execution_count": 4,
      "outputs": [
        {
          "output_type": "execute_result",
          "data": {
            "text/plain": [
              "['T-shirt/top',\n",
              " 'Trouser',\n",
              " 'Pullover',\n",
              " 'Dress',\n",
              " 'Coat',\n",
              " 'Sandal',\n",
              " 'Shirt',\n",
              " 'Sneaker',\n",
              " 'Bag',\n",
              " 'Ankle boot']"
            ]
          },
          "metadata": {},
          "execution_count": 4
        }
      ]
    },
    {
      "cell_type": "markdown",
      "source": [
        "## Data Visualizing"
      ],
      "metadata": {
        "id": "QhENIGj89sqv"
      }
    },
    {
      "cell_type": "markdown",
      "source": [
        "## DataLoader"
      ],
      "metadata": {
        "id": "uXr_kEzOCfCg"
      }
    },
    {
      "cell_type": "code",
      "source": [
        "from torch.utils.data import DataLoader\n",
        "\n",
        "# Batch size\n",
        "BATCH_SIZE = 32\n",
        "\n",
        "# Turn dataset to batches\n",
        "train_loader = DataLoader(train_data, # Pick train data\n",
        "                          batch_size=BATCH_SIZE, # Make it batches\n",
        "                          shuffle=True # We will shuffle every epoch\n",
        "                          )\n",
        "test_loader = DataLoader(test_data, batch_size=BATCH_SIZE, shuffle=False)"
      ],
      "metadata": {
        "id": "JQYsWsNUDCet"
      },
      "execution_count": 5,
      "outputs": []
    },
    {
      "cell_type": "code",
      "source": [
        "# Checking\n",
        "print(f\"Length of train dataloader: {len(train_loader)} batches of {BATCH_SIZE}\")\n",
        "print(f\"Length of test dataloader: {len(test_loader)} batches of {BATCH_SIZE}\")\n",
        "print(f\"Length of train data: {len(train_data)}\")\n",
        "print(f\"Length of test data: {len(test_data)}\")"
      ],
      "metadata": {
        "colab": {
          "base_uri": "https://localhost:8080/"
        },
        "id": "Mqd4I3SHGtbo",
        "outputId": "3a5c4f7c-dfd2-4895-8a3b-ae0671fd80f4"
      },
      "execution_count": 6,
      "outputs": [
        {
          "output_type": "stream",
          "name": "stdout",
          "text": [
            "Length of train dataloader: 1875 batches of 32\n",
            "Length of test dataloader: 1875 batches of 32\n",
            "Length of train data: 60000\n",
            "Length of test data: 60000\n"
          ]
        }
      ]
    },
    {
      "cell_type": "code",
      "source": [
        "# Check out what's inside the training dataloader\n",
        "train_features_batch, train_labels_batch = next(iter(train_loader))\n",
        "train_features_batch.shape, train_labels_batch.shape"
      ],
      "metadata": {
        "colab": {
          "base_uri": "https://localhost:8080/"
        },
        "id": "hy4fat7-HRi4",
        "outputId": "c36fff43-fc49-4e5f-d31e-98f5cde05836"
      },
      "execution_count": 7,
      "outputs": [
        {
          "output_type": "execute_result",
          "data": {
            "text/plain": [
              "(torch.Size([32, 1, 28, 28]), torch.Size([32]))"
            ]
          },
          "metadata": {},
          "execution_count": 7
        }
      ]
    },
    {
      "cell_type": "markdown",
      "source": [
        "# CNN Model"
      ],
      "metadata": {
        "id": "4DIHEFspIXNi"
      }
    },
    {
      "cell_type": "markdown",
      "source": [
        "`nn.Flatten()` is similar to `reshape`, but it specifically flattens the input data while preserving the batch dimension.\n",
        "\n",
        "The key difference is that when using `nn.Flatten()`, it automatically ensures that the batch size remains intact, so the flattening happens only on the non-batch dimensions. In contrast, `reshape` can change the batch size if you're not careful.\n",
        "\n",
        "With `nn.Flatten()`, you don't need to worry about manually specifying the batch size—PyTorch takes care of that for you."
      ],
      "metadata": {
        "id": "tfxEthybIc-w"
      }
    },
    {
      "cell_type": "code",
      "source": [
        "# Calling nn.Flatten()\n",
        "flatten_model = nn.Flatten()\n",
        "\n",
        "# Get single sample\n",
        "X = train_features_batch[0]\n",
        "\n",
        "# Flatten sample data\n",
        "output = flatten_model(X) # Forward pass step, because all mm modules can do a forward pass\n",
        "\n",
        "# Print out what happened\n",
        "print(f\"Shape before flattening: {X.shape} -> [color_channels, height, width]\")\n",
        "print(f\"Shape after flattening: {output.shape} -> [color_channels, height*width]\\n\")\n",
        "\n",
        "\n",
        "# print(X)\n",
        "# print(output)"
      ],
      "metadata": {
        "id": "fF7t9j_3XiBS",
        "colab": {
          "base_uri": "https://localhost:8080/"
        },
        "outputId": "0e0d4430-c44d-4909-a523-bdcbae0c278f"
      },
      "execution_count": 8,
      "outputs": [
        {
          "output_type": "stream",
          "name": "stdout",
          "text": [
            "Shape before flattening: torch.Size([1, 28, 28]) -> [color_channels, height, width]\n",
            "Shape after flattening: torch.Size([1, 784]) -> [color_channels, height*width]\n",
            "\n"
          ]
        }
      ]
    },
    {
      "cell_type": "markdown",
      "source": [
        "## Model Class"
      ],
      "metadata": {
        "id": "4MoZR-vtArFz"
      }
    },
    {
      "cell_type": "markdown",
      "source": [
        "CNN Structure:\n",
        "\n",
        "`Input layer -> [Convolutional layer -> activation layer -> pooling layer] -> Output layer`.\n",
        "\n",
        "And we can repeated `[Convolutional layer -> activation layer -> pooling layer]` depending on requirements"
      ],
      "metadata": {
        "id": "LmRHPWyZ_M1C"
      }
    },
    {
      "cell_type": "code",
      "source": [
        "# CNN Class Model\n",
        "class FMNISTModelCNN(nn.Module):\n",
        "  def __init__(self, input, hidden_layer, output):\n",
        "    super().__init__()\n",
        "    self.conv_block_1 = nn.Sequential(\n",
        "        nn.Conv2d(in_channels=input,\n",
        "                  out_channels=hidden_layer,\n",
        "                  kernel_size=3,\n",
        "                  padding=1,\n",
        "                  stride=1),\n",
        "        nn.ReLU(),\n",
        "        nn.Conv2d(in_channels=hidden_layer,\n",
        "                  out_channels=hidden_layer,\n",
        "                  kernel_size=3,\n",
        "                  padding=1,\n",
        "                  stride=1),\n",
        "        nn.MaxPool2d(kernel_size=2,\n",
        "                         stride=2) # default stride value is same as kernel_size\n",
        "    )\n",
        "    self.conv_block_2 = nn.Sequential(\n",
        "        nn.Conv2d(in_channels=hidden_layer,\n",
        "                  out_channels=hidden_layer,\n",
        "                  kernel_size=3,\n",
        "                  padding=1,\n",
        "                  stride=1),\n",
        "        nn.ReLU(),\n",
        "        nn.Conv2d(in_channels=hidden_layer,\n",
        "                  out_channels=hidden_layer,\n",
        "                  kernel_size=3,\n",
        "                  padding=1,\n",
        "                  stride=1),\n",
        "        nn.MaxPool2d(2)\n",
        "    )\n",
        "    self.classifier = nn.Sequential(\n",
        "        nn.Flatten(),\n",
        "        nn.Linear(in_features=hidden_layer*7*7, out_features=output)\n",
        "    )\n",
        "  def forward(self, x):\n",
        "    x = self.conv_block_1(x)\n",
        "    # print(x.shape)\n",
        "    x = self.conv_block_2(x)  # Second convolution block (with pooling)\n",
        "    # print(x.shape)\n",
        "    return self.classifier(x)\n"
      ],
      "metadata": {
        "id": "YN1IVbzg1DD_"
      },
      "execution_count": 9,
      "outputs": []
    },
    {
      "cell_type": "markdown",
      "source": [
        "## Model initializing"
      ],
      "metadata": {
        "id": "W2PWC2XqAj77"
      }
    },
    {
      "cell_type": "code",
      "source": [
        "torch.manual_seed(42)\n",
        "model = FMNISTModelCNN(input=1, hidden_layer=10, output=len(class_names))\n",
        "\n",
        "# Loss Function\n",
        "loss_fn = nn.CrossEntropyLoss()\n",
        "\n",
        "# Optimizer\n",
        "optimizer = torch.optim.SGD(params=model.parameters(), lr=0.1)\n",
        "\n",
        "model"
      ],
      "metadata": {
        "colab": {
          "base_uri": "https://localhost:8080/"
        },
        "id": "tD4PfCswAUkL",
        "outputId": "1640494d-4cda-4811-cb5c-08b59170d5d0"
      },
      "execution_count": 10,
      "outputs": [
        {
          "output_type": "execute_result",
          "data": {
            "text/plain": [
              "FMNISTModelCNN(\n",
              "  (conv_block_1): Sequential(\n",
              "    (0): Conv2d(1, 10, kernel_size=(3, 3), stride=(1, 1), padding=(1, 1))\n",
              "    (1): ReLU()\n",
              "    (2): Conv2d(10, 10, kernel_size=(3, 3), stride=(1, 1), padding=(1, 1))\n",
              "    (3): MaxPool2d(kernel_size=2, stride=2, padding=0, dilation=1, ceil_mode=False)\n",
              "  )\n",
              "  (conv_block_2): Sequential(\n",
              "    (0): Conv2d(10, 10, kernel_size=(3, 3), stride=(1, 1), padding=(1, 1))\n",
              "    (1): ReLU()\n",
              "    (2): Conv2d(10, 10, kernel_size=(3, 3), stride=(1, 1), padding=(1, 1))\n",
              "    (3): MaxPool2d(kernel_size=2, stride=2, padding=0, dilation=1, ceil_mode=False)\n",
              "  )\n",
              "  (classifier): Sequential(\n",
              "    (0): Flatten(start_dim=1, end_dim=-1)\n",
              "    (1): Linear(in_features=490, out_features=10, bias=True)\n",
              "  )\n",
              ")"
            ]
          },
          "metadata": {},
          "execution_count": 10
        }
      ]
    },
    {
      "cell_type": "markdown",
      "source": [
        "## Taning Loop"
      ],
      "metadata": {
        "id": "6zIe1hjcAdUr"
      }
    },
    {
      "cell_type": "code",
      "source": [
        "num_epochs = 3\n",
        "\n",
        "# train_losses_per_epoch = []  # To store average train losses per epoch\n",
        "# test_losses_per_epoch = []   # To store average test losses per epoch\n",
        "\n",
        "for epoch in range(num_epochs):\n",
        "    print(f\"Epoch: {epoch+1}\\n-------\")\n",
        "\n",
        "    train_losses = []\n",
        "    test_losses = []\n",
        "\n",
        "    # Looping through batches\n",
        "    for batch, (inputs, labels) in enumerate(train_loader):\n",
        "        model.train()\n",
        "\n",
        "        # Forward pass (Training)\n",
        "        y_pred = model(inputs)\n",
        "\n",
        "        # Calculate loss (Training)\n",
        "        train_loss = loss_fn(y_pred, labels)\n",
        "        train_losses.append(train_loss.item())\n",
        "\n",
        "        # Optimizer zero grad\n",
        "        optimizer.zero_grad()\n",
        "\n",
        "        # Backward pass\n",
        "        train_loss.backward()\n",
        "\n",
        "        # Optimizer step\n",
        "        optimizer.step()\n",
        "\n",
        "        # TESTING (Evaluation)\n",
        "        model.eval()\n",
        "        with torch.no_grad():  # Use no_grad() to save memory during inference\n",
        "            test_pred = model(inputs)\n",
        "            test_loss = loss_fn(test_pred, labels)\n",
        "            test_losses.append(test_loss.item())\n",
        "\n",
        "        if batch % 400 == 0:\n",
        "            print(f\"Looked at batch {batch * len(inputs)}/{len(train_data)} samples\")\n",
        "\n",
        "    # Calculate average losses for the epoch\n",
        "    avg_train_loss = sum(train_losses) / len(train_losses)\n",
        "    avg_test_loss = sum(test_losses) / len(test_losses)\n",
        "\n",
        "    # Append the average losses of the epoch to the lists for plotting\n",
        "    # train_losses_per_epoch.append(avg_train_loss)\n",
        "    # test_losses_per_epoch.append(avg_test_loss)\n",
        "\n",
        "    print(f\"\\nTrain loss: {avg_train_loss:.5f} | Test loss: {avg_test_loss:.5f}\\n\")"
      ],
      "metadata": {
        "colab": {
          "base_uri": "https://localhost:8080/"
        },
        "id": "67P80BZGBUlL",
        "outputId": "cc3494ea-7485-4c15-c6fb-5f0cf9f78dbc"
      },
      "execution_count": 11,
      "outputs": [
        {
          "output_type": "stream",
          "name": "stdout",
          "text": [
            "Epoch: 1\n",
            "-------\n",
            "Looked at batch 0/60000 samples\n",
            "Looked at batch 12800/60000 samples\n",
            "Looked at batch 25600/60000 samples\n",
            "Looked at batch 38400/60000 samples\n",
            "Looked at batch 51200/60000 samples\n",
            "\n",
            "Train loss: 0.51197 | Test loss: 0.34809\n",
            "\n",
            "Epoch: 2\n",
            "-------\n",
            "Looked at batch 0/60000 samples\n",
            "Looked at batch 12800/60000 samples\n",
            "Looked at batch 25600/60000 samples\n",
            "Looked at batch 38400/60000 samples\n",
            "Looked at batch 51200/60000 samples\n",
            "\n",
            "Train loss: 0.33762 | Test loss: 0.19949\n",
            "\n",
            "Epoch: 3\n",
            "-------\n",
            "Looked at batch 0/60000 samples\n",
            "Looked at batch 12800/60000 samples\n",
            "Looked at batch 25600/60000 samples\n",
            "Looked at batch 38400/60000 samples\n",
            "Looked at batch 51200/60000 samples\n",
            "\n",
            "Train loss: 0.29944 | Test loss: 0.16794\n",
            "\n"
          ]
        }
      ]
    },
    {
      "cell_type": "markdown",
      "source": [
        "## Model Summary"
      ],
      "metadata": {
        "id": "eDacRQzJDcId"
      }
    },
    {
      "cell_type": "code",
      "source": [
        "!pip install torchinfo"
      ],
      "metadata": {
        "colab": {
          "base_uri": "https://localhost:8080/"
        },
        "id": "oSfjvyKd9CUr",
        "outputId": "0270ec45-ad82-46fc-bb2c-80e68330ffa7"
      },
      "execution_count": 14,
      "outputs": [
        {
          "output_type": "stream",
          "name": "stdout",
          "text": [
            "Collecting torchinfo\n",
            "  Downloading torchinfo-1.8.0-py3-none-any.whl.metadata (21 kB)\n",
            "Downloading torchinfo-1.8.0-py3-none-any.whl (23 kB)\n",
            "Installing collected packages: torchinfo\n",
            "Successfully installed torchinfo-1.8.0\n"
          ]
        }
      ]
    },
    {
      "cell_type": "code",
      "source": [
        "from torchinfo import summary"
      ],
      "metadata": {
        "id": "9fYVaGfr9VAS"
      },
      "execution_count": 15,
      "outputs": []
    },
    {
      "cell_type": "code",
      "source": [
        "batch_size = 32\n",
        "summary(model, input_size=(batch_size, 1, 28, 28))"
      ],
      "metadata": {
        "colab": {
          "base_uri": "https://localhost:8080/"
        },
        "id": "tY4wjITX9M3z",
        "outputId": "40f685b7-1637-4030-87e6-3dc98b9d01a4"
      },
      "execution_count": 16,
      "outputs": [
        {
          "output_type": "execute_result",
          "data": {
            "text/plain": [
              "==========================================================================================\n",
              "Layer (type:depth-idx)                   Output Shape              Param #\n",
              "==========================================================================================\n",
              "FMNISTModelCNN                           [32, 10]                  --\n",
              "├─Sequential: 1-1                        [32, 10, 14, 14]          --\n",
              "│    └─Conv2d: 2-1                       [32, 10, 28, 28]          100\n",
              "│    └─ReLU: 2-2                         [32, 10, 28, 28]          --\n",
              "│    └─Conv2d: 2-3                       [32, 10, 28, 28]          910\n",
              "│    └─MaxPool2d: 2-4                    [32, 10, 14, 14]          --\n",
              "├─Sequential: 1-2                        [32, 10, 7, 7]            --\n",
              "│    └─Conv2d: 2-5                       [32, 10, 14, 14]          910\n",
              "│    └─ReLU: 2-6                         [32, 10, 14, 14]          --\n",
              "│    └─Conv2d: 2-7                       [32, 10, 14, 14]          910\n",
              "│    └─MaxPool2d: 2-8                    [32, 10, 7, 7]            --\n",
              "├─Sequential: 1-3                        [32, 10]                  --\n",
              "│    └─Flatten: 2-9                      [32, 490]                 --\n",
              "│    └─Linear: 2-10                      [32, 10]                  4,910\n",
              "==========================================================================================\n",
              "Total params: 7,740\n",
              "Trainable params: 7,740\n",
              "Non-trainable params: 0\n",
              "Total mult-adds (Units.MEGABYTES): 36.91\n",
              "==========================================================================================\n",
              "Input size (MB): 0.10\n",
              "Forward/backward pass size (MB): 5.02\n",
              "Params size (MB): 0.03\n",
              "Estimated Total Size (MB): 5.15\n",
              "=========================================================================================="
            ]
          },
          "metadata": {},
          "execution_count": 16
        }
      ]
    },
    {
      "cell_type": "markdown",
      "source": [
        "# Evaluation"
      ],
      "metadata": {
        "id": "XN5QvXqpU_IV"
      }
    },
    {
      "cell_type": "code",
      "source": [
        "!pip install torchmetrics\n",
        "!pip install tqdm"
      ],
      "metadata": {
        "colab": {
          "base_uri": "https://localhost:8080/"
        },
        "id": "mWCYQBvNHCEU",
        "outputId": "4fc8809d-c224-4127-f2c2-93412635fd15"
      },
      "execution_count": 17,
      "outputs": [
        {
          "output_type": "stream",
          "name": "stdout",
          "text": [
            "Collecting torchmetrics\n",
            "  Downloading torchmetrics-1.6.1-py3-none-any.whl.metadata (21 kB)\n",
            "Requirement already satisfied: numpy>1.20.0 in /usr/local/lib/python3.11/dist-packages (from torchmetrics) (1.26.4)\n",
            "Requirement already satisfied: packaging>17.1 in /usr/local/lib/python3.11/dist-packages (from torchmetrics) (24.2)\n",
            "Requirement already satisfied: torch>=2.0.0 in /usr/local/lib/python3.11/dist-packages (from torchmetrics) (2.5.1+cu124)\n",
            "Collecting lightning-utilities>=0.8.0 (from torchmetrics)\n",
            "  Downloading lightning_utilities-0.11.9-py3-none-any.whl.metadata (5.2 kB)\n",
            "Requirement already satisfied: setuptools in /usr/local/lib/python3.11/dist-packages (from lightning-utilities>=0.8.0->torchmetrics) (75.1.0)\n",
            "Requirement already satisfied: typing-extensions in /usr/local/lib/python3.11/dist-packages (from lightning-utilities>=0.8.0->torchmetrics) (4.12.2)\n",
            "Requirement already satisfied: filelock in /usr/local/lib/python3.11/dist-packages (from torch>=2.0.0->torchmetrics) (3.17.0)\n",
            "Requirement already satisfied: networkx in /usr/local/lib/python3.11/dist-packages (from torch>=2.0.0->torchmetrics) (3.4.2)\n",
            "Requirement already satisfied: jinja2 in /usr/local/lib/python3.11/dist-packages (from torch>=2.0.0->torchmetrics) (3.1.5)\n",
            "Requirement already satisfied: fsspec in /usr/local/lib/python3.11/dist-packages (from torch>=2.0.0->torchmetrics) (2024.10.0)\n",
            "Collecting nvidia-cuda-nvrtc-cu12==12.4.127 (from torch>=2.0.0->torchmetrics)\n",
            "  Downloading nvidia_cuda_nvrtc_cu12-12.4.127-py3-none-manylinux2014_x86_64.whl.metadata (1.5 kB)\n",
            "Collecting nvidia-cuda-runtime-cu12==12.4.127 (from torch>=2.0.0->torchmetrics)\n",
            "  Downloading nvidia_cuda_runtime_cu12-12.4.127-py3-none-manylinux2014_x86_64.whl.metadata (1.5 kB)\n",
            "Collecting nvidia-cuda-cupti-cu12==12.4.127 (from torch>=2.0.0->torchmetrics)\n",
            "  Downloading nvidia_cuda_cupti_cu12-12.4.127-py3-none-manylinux2014_x86_64.whl.metadata (1.6 kB)\n",
            "Collecting nvidia-cudnn-cu12==9.1.0.70 (from torch>=2.0.0->torchmetrics)\n",
            "  Downloading nvidia_cudnn_cu12-9.1.0.70-py3-none-manylinux2014_x86_64.whl.metadata (1.6 kB)\n",
            "Collecting nvidia-cublas-cu12==12.4.5.8 (from torch>=2.0.0->torchmetrics)\n",
            "  Downloading nvidia_cublas_cu12-12.4.5.8-py3-none-manylinux2014_x86_64.whl.metadata (1.5 kB)\n",
            "Collecting nvidia-cufft-cu12==11.2.1.3 (from torch>=2.0.0->torchmetrics)\n",
            "  Downloading nvidia_cufft_cu12-11.2.1.3-py3-none-manylinux2014_x86_64.whl.metadata (1.5 kB)\n",
            "Collecting nvidia-curand-cu12==10.3.5.147 (from torch>=2.0.0->torchmetrics)\n",
            "  Downloading nvidia_curand_cu12-10.3.5.147-py3-none-manylinux2014_x86_64.whl.metadata (1.5 kB)\n",
            "Collecting nvidia-cusolver-cu12==11.6.1.9 (from torch>=2.0.0->torchmetrics)\n",
            "  Downloading nvidia_cusolver_cu12-11.6.1.9-py3-none-manylinux2014_x86_64.whl.metadata (1.6 kB)\n",
            "Collecting nvidia-cusparse-cu12==12.3.1.170 (from torch>=2.0.0->torchmetrics)\n",
            "  Downloading nvidia_cusparse_cu12-12.3.1.170-py3-none-manylinux2014_x86_64.whl.metadata (1.6 kB)\n",
            "Requirement already satisfied: nvidia-nccl-cu12==2.21.5 in /usr/local/lib/python3.11/dist-packages (from torch>=2.0.0->torchmetrics) (2.21.5)\n",
            "Requirement already satisfied: nvidia-nvtx-cu12==12.4.127 in /usr/local/lib/python3.11/dist-packages (from torch>=2.0.0->torchmetrics) (12.4.127)\n",
            "Collecting nvidia-nvjitlink-cu12==12.4.127 (from torch>=2.0.0->torchmetrics)\n",
            "  Downloading nvidia_nvjitlink_cu12-12.4.127-py3-none-manylinux2014_x86_64.whl.metadata (1.5 kB)\n",
            "Requirement already satisfied: triton==3.1.0 in /usr/local/lib/python3.11/dist-packages (from torch>=2.0.0->torchmetrics) (3.1.0)\n",
            "Requirement already satisfied: sympy==1.13.1 in /usr/local/lib/python3.11/dist-packages (from torch>=2.0.0->torchmetrics) (1.13.1)\n",
            "Requirement already satisfied: mpmath<1.4,>=1.1.0 in /usr/local/lib/python3.11/dist-packages (from sympy==1.13.1->torch>=2.0.0->torchmetrics) (1.3.0)\n",
            "Requirement already satisfied: MarkupSafe>=2.0 in /usr/local/lib/python3.11/dist-packages (from jinja2->torch>=2.0.0->torchmetrics) (3.0.2)\n",
            "Downloading torchmetrics-1.6.1-py3-none-any.whl (927 kB)\n",
            "\u001b[2K   \u001b[90m━━━━━━━━━━━━━━━━━━━━━━━━━━━━━━━━━━━━━━━━\u001b[0m \u001b[32m927.3/927.3 kB\u001b[0m \u001b[31m19.8 MB/s\u001b[0m eta \u001b[36m0:00:00\u001b[0m\n",
            "\u001b[?25hDownloading lightning_utilities-0.11.9-py3-none-any.whl (28 kB)\n",
            "Downloading nvidia_cublas_cu12-12.4.5.8-py3-none-manylinux2014_x86_64.whl (363.4 MB)\n",
            "\u001b[2K   \u001b[90m━━━━━━━━━━━━━━━━━━━━━━━━━━━━━━━━━━━━━━━━\u001b[0m \u001b[32m363.4/363.4 MB\u001b[0m \u001b[31m4.4 MB/s\u001b[0m eta \u001b[36m0:00:00\u001b[0m\n",
            "\u001b[?25hDownloading nvidia_cuda_cupti_cu12-12.4.127-py3-none-manylinux2014_x86_64.whl (13.8 MB)\n",
            "\u001b[2K   \u001b[90m━━━━━━━━━━━━━━━━━━━━━━━━━━━━━━━━━━━━━━━━\u001b[0m \u001b[32m13.8/13.8 MB\u001b[0m \u001b[31m100.9 MB/s\u001b[0m eta \u001b[36m0:00:00\u001b[0m\n",
            "\u001b[?25hDownloading nvidia_cuda_nvrtc_cu12-12.4.127-py3-none-manylinux2014_x86_64.whl (24.6 MB)\n",
            "\u001b[2K   \u001b[90m━━━━━━━━━━━━━━━━━━━━━━━━━━━━━━━━━━━━━━━━\u001b[0m \u001b[32m24.6/24.6 MB\u001b[0m \u001b[31m80.9 MB/s\u001b[0m eta \u001b[36m0:00:00\u001b[0m\n",
            "\u001b[?25hDownloading nvidia_cuda_runtime_cu12-12.4.127-py3-none-manylinux2014_x86_64.whl (883 kB)\n",
            "\u001b[2K   \u001b[90m━━━━━━━━━━━━━━━━━━━━━━━━━━━━━━━━━━━━━━━━\u001b[0m \u001b[32m883.7/883.7 kB\u001b[0m \u001b[31m55.6 MB/s\u001b[0m eta \u001b[36m0:00:00\u001b[0m\n",
            "\u001b[?25hDownloading nvidia_cudnn_cu12-9.1.0.70-py3-none-manylinux2014_x86_64.whl (664.8 MB)\n",
            "\u001b[2K   \u001b[90m━━━━━━━━━━━━━━━━━━━━━━━━━━━━━━━━━━━━━━━━\u001b[0m \u001b[32m664.8/664.8 MB\u001b[0m \u001b[31m3.3 MB/s\u001b[0m eta \u001b[36m0:00:00\u001b[0m\n",
            "\u001b[?25hDownloading nvidia_cufft_cu12-11.2.1.3-py3-none-manylinux2014_x86_64.whl (211.5 MB)\n",
            "\u001b[2K   \u001b[90m━━━━━━━━━━━━━━━━━━━━━━━━━━━━━━━━━━━━━━━━\u001b[0m \u001b[32m211.5/211.5 MB\u001b[0m \u001b[31m6.1 MB/s\u001b[0m eta \u001b[36m0:00:00\u001b[0m\n",
            "\u001b[?25hDownloading nvidia_curand_cu12-10.3.5.147-py3-none-manylinux2014_x86_64.whl (56.3 MB)\n",
            "\u001b[2K   \u001b[90m━━━━━━━━━━━━━━━━━━━━━━━━━━━━━━━━━━━━━━━━\u001b[0m \u001b[32m56.3/56.3 MB\u001b[0m \u001b[31m13.5 MB/s\u001b[0m eta \u001b[36m0:00:00\u001b[0m\n",
            "\u001b[?25hDownloading nvidia_cusolver_cu12-11.6.1.9-py3-none-manylinux2014_x86_64.whl (127.9 MB)\n",
            "\u001b[2K   \u001b[90m━━━━━━━━━━━━━━━━━━━━━━━━━━━━━━━━━━━━━━━━\u001b[0m \u001b[32m127.9/127.9 MB\u001b[0m \u001b[31m7.6 MB/s\u001b[0m eta \u001b[36m0:00:00\u001b[0m\n",
            "\u001b[?25hDownloading nvidia_cusparse_cu12-12.3.1.170-py3-none-manylinux2014_x86_64.whl (207.5 MB)\n",
            "\u001b[2K   \u001b[90m━━━━━━━━━━━━━━━━━━━━━━━━━━━━━━━━━━━━━━━━\u001b[0m \u001b[32m207.5/207.5 MB\u001b[0m \u001b[31m5.8 MB/s\u001b[0m eta \u001b[36m0:00:00\u001b[0m\n",
            "\u001b[?25hDownloading nvidia_nvjitlink_cu12-12.4.127-py3-none-manylinux2014_x86_64.whl (21.1 MB)\n",
            "\u001b[2K   \u001b[90m━━━━━━━━━━━━━━━━━━━━━━━━━━━━━━━━━━━━━━━━\u001b[0m \u001b[32m21.1/21.1 MB\u001b[0m \u001b[31m93.7 MB/s\u001b[0m eta \u001b[36m0:00:00\u001b[0m\n",
            "\u001b[?25hInstalling collected packages: nvidia-nvjitlink-cu12, nvidia-curand-cu12, nvidia-cufft-cu12, nvidia-cuda-runtime-cu12, nvidia-cuda-nvrtc-cu12, nvidia-cuda-cupti-cu12, nvidia-cublas-cu12, lightning-utilities, nvidia-cusparse-cu12, nvidia-cudnn-cu12, nvidia-cusolver-cu12, torchmetrics\n",
            "  Attempting uninstall: nvidia-nvjitlink-cu12\n",
            "    Found existing installation: nvidia-nvjitlink-cu12 12.5.82\n",
            "    Uninstalling nvidia-nvjitlink-cu12-12.5.82:\n",
            "      Successfully uninstalled nvidia-nvjitlink-cu12-12.5.82\n",
            "  Attempting uninstall: nvidia-curand-cu12\n",
            "    Found existing installation: nvidia-curand-cu12 10.3.6.82\n",
            "    Uninstalling nvidia-curand-cu12-10.3.6.82:\n",
            "      Successfully uninstalled nvidia-curand-cu12-10.3.6.82\n",
            "  Attempting uninstall: nvidia-cufft-cu12\n",
            "    Found existing installation: nvidia-cufft-cu12 11.2.3.61\n",
            "    Uninstalling nvidia-cufft-cu12-11.2.3.61:\n",
            "      Successfully uninstalled nvidia-cufft-cu12-11.2.3.61\n",
            "  Attempting uninstall: nvidia-cuda-runtime-cu12\n",
            "    Found existing installation: nvidia-cuda-runtime-cu12 12.5.82\n",
            "    Uninstalling nvidia-cuda-runtime-cu12-12.5.82:\n",
            "      Successfully uninstalled nvidia-cuda-runtime-cu12-12.5.82\n",
            "  Attempting uninstall: nvidia-cuda-nvrtc-cu12\n",
            "    Found existing installation: nvidia-cuda-nvrtc-cu12 12.5.82\n",
            "    Uninstalling nvidia-cuda-nvrtc-cu12-12.5.82:\n",
            "      Successfully uninstalled nvidia-cuda-nvrtc-cu12-12.5.82\n",
            "  Attempting uninstall: nvidia-cuda-cupti-cu12\n",
            "    Found existing installation: nvidia-cuda-cupti-cu12 12.5.82\n",
            "    Uninstalling nvidia-cuda-cupti-cu12-12.5.82:\n",
            "      Successfully uninstalled nvidia-cuda-cupti-cu12-12.5.82\n",
            "  Attempting uninstall: nvidia-cublas-cu12\n",
            "    Found existing installation: nvidia-cublas-cu12 12.5.3.2\n",
            "    Uninstalling nvidia-cublas-cu12-12.5.3.2:\n",
            "      Successfully uninstalled nvidia-cublas-cu12-12.5.3.2\n",
            "  Attempting uninstall: nvidia-cusparse-cu12\n",
            "    Found existing installation: nvidia-cusparse-cu12 12.5.1.3\n",
            "    Uninstalling nvidia-cusparse-cu12-12.5.1.3:\n",
            "      Successfully uninstalled nvidia-cusparse-cu12-12.5.1.3\n",
            "  Attempting uninstall: nvidia-cudnn-cu12\n",
            "    Found existing installation: nvidia-cudnn-cu12 9.3.0.75\n",
            "    Uninstalling nvidia-cudnn-cu12-9.3.0.75:\n",
            "      Successfully uninstalled nvidia-cudnn-cu12-9.3.0.75\n",
            "  Attempting uninstall: nvidia-cusolver-cu12\n",
            "    Found existing installation: nvidia-cusolver-cu12 11.6.3.83\n",
            "    Uninstalling nvidia-cusolver-cu12-11.6.3.83:\n",
            "      Successfully uninstalled nvidia-cusolver-cu12-11.6.3.83\n",
            "Successfully installed lightning-utilities-0.11.9 nvidia-cublas-cu12-12.4.5.8 nvidia-cuda-cupti-cu12-12.4.127 nvidia-cuda-nvrtc-cu12-12.4.127 nvidia-cuda-runtime-cu12-12.4.127 nvidia-cudnn-cu12-9.1.0.70 nvidia-cufft-cu12-11.2.1.3 nvidia-curand-cu12-10.3.5.147 nvidia-cusolver-cu12-11.6.1.9 nvidia-cusparse-cu12-12.3.1.170 nvidia-nvjitlink-cu12-12.4.127 torchmetrics-1.6.1\n",
            "Requirement already satisfied: tqdm in /usr/local/lib/python3.11/dist-packages (4.67.1)\n"
          ]
        }
      ]
    },
    {
      "cell_type": "code",
      "source": [
        "from tqdm import tqdm\n",
        "import torchmetrics\n",
        "from torchmetrics.classification import Accuracy"
      ],
      "metadata": {
        "id": "K9y4DSgsHW7L"
      },
      "execution_count": 18,
      "outputs": []
    },
    {
      "cell_type": "code",
      "source": [
        "# Get the device where the model and tensors are located:\n",
        "device = torch.device(\"cuda\" if torch.cuda.is_available() else \"cpu\")\n",
        "print(f\"Using device: {device}\")\n"
      ],
      "metadata": {
        "colab": {
          "base_uri": "https://localhost:8080/"
        },
        "id": "qwQFNGYwNSi1",
        "outputId": "b6b1c27c-95c6-4f6f-9ee0-ab21a1ae43f1"
      },
      "execution_count": 19,
      "outputs": [
        {
          "output_type": "stream",
          "name": "stdout",
          "text": [
            "Using device: cuda\n"
          ]
        }
      ]
    },
    {
      "cell_type": "code",
      "source": [
        "import torchmetrics\n",
        "from tqdm import tqdm\n",
        "\n",
        "# Initialize accuracy metric from torchmetrics\n",
        "accuracy_metric = torchmetrics.Accuracy(task='multiclass', num_classes=10).to(device)\n",
        "\n",
        "# Make prediction with trained model\n",
        "eval_preds = []\n",
        "eval_labels = []\n",
        "model.eval()\n",
        "\n",
        "with torch.inference_mode():\n",
        "    for inputs, labels in tqdm(test_loader, desc=\"Making prediction\"):\n",
        "        inputs, labels = inputs.to(device), labels.to(device)\n",
        "\n",
        "        # Do the forward pass\n",
        "        outputs = model(inputs)\n",
        "\n",
        "        # Turn predictions from logits -> prediction probabilities -> prediction labels\n",
        "        eval_pred = torch.softmax(outputs, dim=1).argmax(dim=1)\n",
        "\n",
        "        # Append predictions and true labels for calculating accuracy\n",
        "        eval_preds.append(eval_pred.cpu())\n",
        "        eval_labels.append(labels.cpu())\n",
        "\n",
        "        # Update the accuracy metric with predictions and labels\n",
        "        accuracy_metric.update(eval_pred, labels)\n",
        "\n",
        "# Concatenate list of predictions into a tensor (if you want the full tensor for analysis)\n",
        "eval_pred_tensor = torch.cat(eval_preds)\n",
        "eval_labels_tensor = torch.cat(eval_labels)\n",
        "\n",
        "# Compute the final accuracy\n",
        "final_accuracy = accuracy_metric.compute()\n",
        "\n",
        "print(f\"\\nTest Accuracy: {final_accuracy*100:.4f}\")\n"
      ],
      "metadata": {
        "colab": {
          "base_uri": "https://localhost:8080/"
        },
        "id": "q_kEh-GbHazT",
        "outputId": "7c2b95e5-10f2-4273-815e-bf864928037c"
      },
      "execution_count": 20,
      "outputs": [
        {
          "output_type": "stream",
          "name": "stderr",
          "text": [
            "Making prediction: 100%|██████████| 1875/1875 [00:14<00:00, 130.00it/s]\n"
          ]
        },
        {
          "output_type": "stream",
          "name": "stdout",
          "text": [
            "\n",
            "Test Accuracy: 88.8683\n"
          ]
        }
      ]
    },
    {
      "cell_type": "code",
      "source": [
        "from torchmetrics import ConfusionMatrix\n",
        "from mlxtend.plotting import plot_confusion_matrix"
      ],
      "metadata": {
        "id": "IPOtISRRN9ig"
      },
      "execution_count": 21,
      "outputs": []
    },
    {
      "cell_type": "code",
      "source": [
        "conf_mat = ConfusionMatrix(num_classes=len(class_names), task=\"multiclass\")\n",
        "conf_mat_tensor = conf_mat(preds=eval_pred_tensor, target=test_data.targets)"
      ],
      "metadata": {
        "id": "UHtJxCpvOJFN"
      },
      "execution_count": 22,
      "outputs": []
    },
    {
      "cell_type": "code",
      "source": [
        "fig, ax = plot_confusion_matrix(\n",
        "    conf_mat_tensor.numpy(), # matplotlib likes working with NumPy\n",
        "    class_names=class_names, # turn the row and column labels into class names\n",
        "    figsize=(10, 7)\n",
        ");"
      ],
      "metadata": {
        "colab": {
          "base_uri": "https://localhost:8080/",
          "height": 667
        },
        "id": "9Uhbt_R_QdKl",
        "outputId": "d73ded39-10c8-4593-fe49-d2e267f59904"
      },
      "execution_count": 23,
      "outputs": [
        {
          "output_type": "display_data",
          "data": {
            "text/plain": [
              "<Figure size 1000x700 with 1 Axes>"
            ],
            "image/png": "[encoded data removed]"
          },
          "metadata": {}
        }
      ]
    },
    {
      "cell_type": "markdown",
      "source": [
        "# Save and Load Model"
      ],
      "metadata": {
        "id": "YCggiQQmBO07"
      }
    },
    {
      "cell_type": "markdown",
      "source": [
        "## Save Model\n",
        "\n",
        "\n",
        "\n",
        "### 1. Saving the Entire Model\n",
        "`torch.save(model, 'model.pth')`\n",
        "\n",
        "- **Description**: This method saves the entire model, including both its architecture (the model class) and the learned parameters (weights). When you save the entire model, you can directly load it without needing to define the model architecture again.\n",
        "\n",
        "- **Use Case**:\n",
        "  - **When to use**: This is useful if you're working in a controlled environment where the model code is guaranteed to be the same when loading. For example, you might use this in an environment where you know the model code won't change, or you're just quickly saving and loading the model for evaluation.\n",
        "  \n",
        "  - **Limitations**:\n",
        "    - This approach is less flexible because it saves the model class with the exact architecture, meaning you can't easily load it into a different architecture or adapt it for minor changes.\n",
        "    - It may have issues with code changes if your model code has been updated (e.g., adding new layers, changing the structure).\n",
        "\n",
        "- **Loading**:\n",
        "  ```python\n",
        "  model = torch.load('model.pth')\n",
        "  ```\n",
        "\n",
        "---\n",
        "\n",
        "### 2. Saving Only the `state_dict()`\n",
        "`torch.save(model.state_dict(), 'model_state_dict.pth')`\n",
        "\n",
        "- **Description**: This saves only the model's learned parameters (weights) — not the actual model class or architecture. When you save the `state_dict()`, you must recreate the model's architecture manually when loading.\n",
        "\n",
        "- **Use Case**:\n",
        "  - **When to use**: This is the most common and recommended approach. It allows you to modify or extend your model's architecture while keeping the same learned weights. It's suitable for:\n",
        "    - **Fine-tuning**: You can use a pre-trained model's weights and load them into a new model architecture (e.g., transferring learned features from a CNN to a different model).\n",
        "    - **Resuming Training**: If you want to resume training later or in a different environment (e.g., different machine or setup).\n",
        "  \n",
        "  - **Advantages**: More flexible than saving the whole model. The model architecture is not tied to the saved state dict.\n",
        "\n",
        "- **Loading**:\n",
        "  ```python\n",
        "  # First, initialize the model architecture\n",
        "  model = YourModelClass()\n",
        "  model.load_state_dict(torch.load('model_state_dict.pth'))\n",
        "  model.eval()  # If you’re just evaluating\n",
        "  ```\n",
        "\n",
        "---\n",
        "\n",
        "### 3. Saving the Optimizer's `state_dict()`\n",
        "\n",
        "`torch.save(optimizer.state_dict(), 'optimizer_state_dict.pth')`\n",
        "\n",
        "- **Description**: This saves the optimizer's state (such as momentum, learning rate, etc.) so you can resume training exactly from where you left off. It only saves the parameters related to the optimizer, not the model itself.\n",
        "\n",
        "- **Use Case**:\n",
        "  - **When to use**: If you're training a model and want to be able to resume training later without losing the optimizer’s state (such as momentum or learning rate schedule). This is particularly useful in long training processes where you might need to stop and resume (e.g., due to system shutdown or interruptions).\n",
        "  \n",
        "  - **Limitations**: The optimizer's state is dependent on the model's state (so you also need to save the model's weights to fully resume training). This doesn't include the model itself, so it's not useful for inference purposes.\n",
        "\n",
        "- **Loading**:\n",
        "  ```python\n",
        "  optimizer = torch.optim.Adam(model.parameters())  # Recreate optimizer\n",
        "  optimizer.load_state_dict(torch.load('optimizer_state_dict.pth'))\n",
        "  ```\n",
        "\n",
        "---\n",
        "\n",
        "### 4. Saving Both Model and Optimizer\n",
        "\n",
        "`torch.save({'epoch': epoch, 'model_state_dict': model.state_dict(), 'optimizer_state_dict': optimizer.state_dict(), 'loss': loss}, 'checkpoint.pth')`\n",
        "\n",
        "- **Description**: This saves multiple things into one file, such as the model's state dict, the optimizer's state dict, the epoch number, and any other relevant information (e.g., loss value). This is typically used for checkpointing during training.\n",
        "\n",
        "- **Use Case**:\n",
        "  - **When to use**: When you want to save everything necessary to resume training from a specific point. This is useful in situations where you need:\n",
        "    - **Checkpointing**: You’re training a model over multiple epochs and want to be able to resume from any point in the training process.\n",
        "    - **Monitoring Progress**: You can save not just the model and optimizer, but also other training details (e.g., loss, epoch count, etc.) so you can continue training without losing any information.\n",
        "\n",
        "  - **Advantages**: Everything needed to resume training (model, optimizer, training state) is saved in one file, which simplifies loading and resuming the process.\n",
        "\n",
        "- **Loading**:\n",
        "  ```python\n",
        "  checkpoint = torch.load('checkpoint.pth')\n",
        "  model.load_state_dict(checkpoint['model_state_dict'])\n",
        "  optimizer.load_state_dict(checkpoint['optimizer_state_dict'])\n",
        "  epoch = checkpoint['epoch']\n",
        "  loss = checkpoint['loss']\n",
        "  ```\n",
        "\n",
        "---\n",
        "\n",
        "**Key Considerations:**\n",
        "\n",
        "- **Saving/Loading Efficiency**: Saving just the `state_dict()` is usually more efficient and portable. Saving the entire model may result in larger files and fewer guarantees if you update the code in the future.\n",
        "  \n",
        "- **Flexibility**: Saving the `state_dict()` offers more flexibility, especially for fine-tuning or transferring learned weights between models.\n",
        "  \n",
        "- **Resuming Training**: If you’re continuing training (for example, after stopping due to a system shutdown), saving both the model’s and optimizer’s state is important to retain training progress.\n",
        "\n",
        "- **Deployment**: If you only need the model for inference (not training), saving just the `state_dict()` and then loading it into a model class at deployment is typically the best practice.\n",
        "\n"
      ],
      "metadata": {
        "id": "7QCHN9_XS0Wl"
      }
    },
    {
      "cell_type": "code",
      "source": [
        "from pathlib import Path\n",
        "\n",
        "# Create models directory (if it doesn't already exist)\n",
        "MODEL_PATH = Path(\"models\")\n",
        "MODEL_PATH.mkdir(parents=True, exist_ok=True)\n",
        "\n",
        "# Create model save path\n",
        "MODEL_NAME = \"fashion_mnist_cnn.pth\"\n",
        "MODEL_SAVE_PATH = MODEL_PATH / MODEL_NAME\n",
        "\n",
        "# Save model state dict\n",
        "torch.save(obj=model.state_dict(),\n",
        "           f=MODEL_SAVE_PATH)\n",
        "print(f\"Saving model to: {MODEL_SAVE_PATH}\")"
      ],
      "metadata": {
        "colab": {
          "base_uri": "https://localhost:8080/"
        },
        "id": "f96GZkd0SHqG",
        "outputId": "edd17d9c-3a75-40a1-c238-093076de7f74"
      },
      "execution_count": 24,
      "outputs": [
        {
          "output_type": "stream",
          "name": "stdout",
          "text": [
            "Saving model to: models/fashion_mnist_cnn.pth\n"
          ]
        }
      ]
    },
    {
      "cell_type": "markdown",
      "source": [
        "## Load Model"
      ],
      "metadata": {
        "id": "RX_KbZnHS4U1"
      }
    },
    {
      "cell_type": "code",
      "source": [
        "# Create a new instance of FashionMNISTModelV2 (the same class as our saved state_dict())\n",
        "# Note: loading model will error if the shapes here aren't the same as the saved version\n",
        "loaded_model = FMNISTModelCNN(input=1,\n",
        "                                    hidden_layer=10, # try changing this to 128 and seeing what happens\n",
        "                                    output=10)\n",
        "\n",
        "# Load in the saved state_dict()\n",
        "loaded_model.load_state_dict(torch.load(f=MODEL_SAVE_PATH, weights_only=True))\n",
        "\n",
        "# Send model to GPU\n",
        "loaded_model = loaded_model.to(device)"
      ],
      "metadata": {
        "id": "QJMF1WI4S6zt"
      },
      "execution_count": 31,
      "outputs": []
    },
    {
      "cell_type": "markdown",
      "source": [
        "## Making Prediction"
      ],
      "metadata": {
        "id": "U7v9QuXADlbV"
      }
    },
    {
      "cell_type": "code",
      "source": [
        "# Make prediction to random test sample and plot\n",
        "import random\n",
        "test_samples = []\n",
        "test_labels = []\n",
        "for sample, label in random.sample(list(test_data), k=9):\n",
        "    test_samples.append(sample)\n",
        "    test_labels.append(label)\n",
        "\n",
        "# View the first test sample shape and label\n",
        "print(f\"Test sample image shape: {test_samples[0].shape}\\nTest sample label: {test_labels[0]} ({class_names[test_labels[0]]})\")\n",
        "\n"
      ],
      "metadata": {
        "id": "AN0LXbW1V3NE",
        "colab": {
          "base_uri": "https://localhost:8080/"
        },
        "outputId": "dbefa621-78d9-4967-a726-53a0c0ea0320"
      },
      "execution_count": 32,
      "outputs": [
        {
          "output_type": "stream",
          "name": "stdout",
          "text": [
            "Test sample image shape: torch.Size([1, 28, 28])\n",
            "Test sample label: 6 (Shirt)\n"
          ]
        }
      ]
    },
    {
      "cell_type": "code",
      "source": [
        "def make_predictions(model: torch.nn.Module, data: list, device: torch.device = device):\n",
        "    pred_probs = []\n",
        "    model.eval()\n",
        "    with torch.inference_mode():\n",
        "        for sample in data:\n",
        "            # Prepare sample\n",
        "            sample = torch.unsqueeze(sample, dim=0).to(device) # Add an extra dimension and send sample to device\n",
        "\n",
        "            # Forward pass (model outputs raw logit)\n",
        "            pred_logit = model(sample)\n",
        "\n",
        "            # Get prediction probability (logit -> prediction probability)\n",
        "            pred_prob = torch.softmax(pred_logit.squeeze(), dim=0) # note: perform softmax on the \"logits\" dimension, not \"batch\" dimension (in this case we have a batch size of 1, so can perform on dim=0)\n",
        "\n",
        "            # Get pred_prob off GPU for further calculations\n",
        "            pred_probs.append(pred_prob.cpu())\n",
        "\n",
        "    # Stack the pred_probs to turn list into a tensor\n",
        "    return torch.stack(pred_probs).argmax(dim=1)"
      ],
      "metadata": {
        "id": "9llq5dIABaLl"
      },
      "execution_count": 35,
      "outputs": []
    },
    {
      "cell_type": "code",
      "source": [
        "# Make predictions on test samples with model 2\n",
        "pred_probs= make_predictions(model=loaded_model,\n",
        "                             data=test_samples)\n",
        "pred_probs"
      ],
      "metadata": {
        "colab": {
          "base_uri": "https://localhost:8080/"
        },
        "id": "VSZQxQ0aBeB0",
        "outputId": "5e1a1e21-67ed-4ff9-c6d4-92afd2a6cf74"
      },
      "execution_count": 36,
      "outputs": [
        {
          "output_type": "execute_result",
          "data": {
            "text/plain": [
              "tensor([4, 7, 5, 7, 5, 1, 8, 9, 4])"
            ]
          },
          "metadata": {},
          "execution_count": 36
        }
      ]
    },
    {
      "cell_type": "code",
      "source": [
        "test_labels"
      ],
      "metadata": {
        "colab": {
          "base_uri": "https://localhost:8080/"
        },
        "id": "wXQ1ZrD7Cc5N",
        "outputId": "82986598-f72f-4fc0-b828-c2e59e8a675f"
      },
      "execution_count": 37,
      "outputs": [
        {
          "output_type": "execute_result",
          "data": {
            "text/plain": [
              "[6, 7, 5, 7, 5, 1, 8, 9, 4]"
            ]
          },
          "metadata": {},
          "execution_count": 37
        }
      ]
    },
    {
      "cell_type": "code",
      "source": [
        "# Plot predictions\n",
        "plt.figure(figsize=(9, 9))\n",
        "nrows = 3\n",
        "ncols = 3\n",
        "for i, sample in enumerate(test_samples):\n",
        "  # Create a subplot\n",
        "  plt.subplot(nrows, ncols, i+1)\n",
        "\n",
        "  # Plot the target image\n",
        "  plt.imshow(sample.squeeze(), cmap=\"gray\")\n",
        "\n",
        "  # Find the prediction label (in text form, e.g. \"Sandal\")\n",
        "  pred_label = class_names[pred_probs[i]]\n",
        "\n",
        "  # Get the truth label (in text form, e.g. \"T-shirt\")\n",
        "  truth_label = class_names[test_labels[i]]\n",
        "\n",
        "    # Create the title text of the plot\n",
        "  title_text = f\"Pred: {pred_label} | Truth: {truth_label}\"\n",
        "\n",
        "  # Check for equality and change title colour accordingly\n",
        "  if pred_label == truth_label:\n",
        "      plt.title(title_text, fontsize=10, c=\"g\") # green text if correct\n",
        "  else:\n",
        "      plt.title(title_text, fontsize=10, c=\"r\") # red text if wrong\n",
        "  plt.axis(False);"
      ],
      "metadata": {
        "colab": {
          "base_uri": "https://localhost:8080/",
          "height": 749
        },
        "id": "jbqSv1KcC05c",
        "outputId": "e5cc5dfd-8940-4424-8714-3b84179a2e41"
      },
      "execution_count": 39,
      "outputs": [
        {
          "output_type": "display_data",
          "data": {
            "text/plain": [
              "<Figure size 900x900 with 9 Axes>"
            ],
            "image/png": "[encoded data removed]"
          },
          "metadata": {}
        }
      ]
    }
  ]
}