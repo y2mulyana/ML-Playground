{
  "nbformat": 4,
  "nbformat_minor": 0,
  "metadata": {
    "colab": {
      "provenance": [],
      "toc_visible": true
    },
    "kernelspec": {
      "name": "python3",
      "display_name": "Python 3"
    },
    "language_info": {
      "name": "python"
    }
  },
  "cells": [
    {
      "cell_type": "markdown",
      "source": [
        "# Fashion-MNIST introduction\n",
        "\n",
        "This introduction exercise demonstrates classification with the following key steps:\n",
        "\n",
        "- **Dataset** (Exploring FashionMNIST  and common error)\n",
        "- **Data Loader** (Exploring batches principle)\n",
        "- **Simple Model Class**\n",
        "    - Layer stack with `nn.Sequence`\n",
        "    - SGD for optimizer\n",
        "    - `nn.CrossEntropyLoss()` for loss function\n",
        "- **Training Loop** (Training the Model)\n",
        "- **Graphing** (Visualizing Training and Losses and Boundary)\n",
        "\n",
        "\n",
        "* Dataset : https://pytorch.org/vision/main/datasets.html\n",
        "* Fashion-MNIST link:\n",
        " - https://pytorch.org/vision/main/generated/torchvision.datasets.FashionMNIST.html#torchvision.datasets.FashionMNIST\n",
        " - https://github.com/zalandoresearch/fashion-mnist/tree/master/data"
      ],
      "metadata": {
        "id": "oKb6Ld9gYr_5"
      }
    },
    {
      "cell_type": "code",
      "source": [
        "# Import Pytorch\n",
        "import torch\n",
        "from torch import nn\n",
        "\n",
        "# Import torchvision\n",
        "import torchvision\n",
        "from torchvision import datasets\n",
        "from torchvision.transforms import ToTensor\n",
        "\n",
        "# Import matplotlib\n",
        "import matplotlib.pyplot as plt"
      ],
      "metadata": {
        "id": "fXHZxePmZHnJ"
      },
      "execution_count": 39,
      "outputs": []
    },
    {
      "cell_type": "markdown",
      "source": [
        "# Dataset"
      ],
      "metadata": {
        "id": "OQaXb7-aTUG6"
      }
    },
    {
      "cell_type": "markdown",
      "source": [
        "## Get dataset"
      ],
      "metadata": {
        "id": "95eTmiVdZyt5"
      }
    },
    {
      "cell_type": "markdown",
      "source": [
        "\n",
        "**Parameter**\n",
        "\n",
        "* `root` (str or `pathlib.Path`) – Root directory of dataset where `FashionMNIST/raw/train-images-idx3-ubyte` and F`ashionMNIST/raw/t10k-images-idx3-ubyte` exist.\n",
        "\n",
        "* `train` (*bool, optional*) – If True, creates dataset from `train-images-idx3-ubyte`, otherwise from `t10k-images-idx3-ubyte`.\n",
        "\n",
        "* `download` (*bool, optional*) – If True, downloads the dataset from the internet and puts it in root directory. If dataset is already downloaded, it is not downloaded again.\n",
        "\n",
        "* `transform` (*callable, optional*) – A function/transform that takes in a PIL image and returns a transformed version. E.g, `transforms.RandomCrop`\n",
        "\n",
        "* `target_transform` (*callable, optional*) – A function/transform that takes in the target and transforms it."
      ],
      "metadata": {
        "id": "G3k9mVMDacwS"
      }
    },
    {
      "cell_type": "code",
      "source": [
        "# Training dataset\n",
        "train_data = datasets.FashionMNIST(\n",
        "    root=\"data\", # Directory to put downloaded dataset\n",
        "    train=\"True\", # Get training dataset train-images-idx3-ubyte\n",
        "    download=\"True\", # See above 😉\n",
        "    transform=ToTensor(), # Transform image to tensor\n",
        "    target_transform=None # To transform to tenser\n",
        ")\n",
        "\n",
        "# Test dataset\n",
        "test_data = datasets.FashionMNIST(\n",
        "    root=\"data\",\n",
        "    train=\"False\", # Get test dataset 👌 - t10k-images-idx3-ubyte\n",
        "    download=\"True\",\n",
        "    transform=ToTensor()\n",
        ")"
      ],
      "metadata": {
        "id": "RUEHJT37Z4uG"
      },
      "execution_count": 40,
      "outputs": []
    },
    {
      "cell_type": "code",
      "source": [
        "input, label = train_data[7]\n",
        "input"
      ],
      "metadata": {
        "colab": {
          "base_uri": "https://localhost:8080/"
        },
        "id": "ZfuL9et68MYI",
        "outputId": "aeaeef9c-b8b6-4a91-e4aa-d0ba488059b6"
      },
      "execution_count": 41,
      "outputs": [
        {
          "output_type": "execute_result",
          "data": {
            "text/plain": [
              "tensor([[[0.0000, 0.0000, 0.0000, 0.0000, 0.0000, 0.0039, 0.0039, 0.0000,\n",
              "          0.0000, 0.0000, 0.0000, 0.2471, 0.1098, 0.0000, 0.0000, 0.0000,\n",
              "          0.1294, 0.3333, 0.0000, 0.0000, 0.0000, 0.0000, 0.0000, 0.0000,\n",
              "          0.0000, 0.0000, 0.0000, 0.0000],\n",
              "         [0.0000, 0.0000, 0.0000, 0.0000, 0.0000, 0.0078, 0.0000, 0.0000,\n",
              "          0.1098, 0.4941, 0.9451, 1.0000, 1.0000, 1.0000, 1.0000, 1.0000,\n",
              "          1.0000, 0.9882, 0.9725, 0.4353, 0.0000, 0.0000, 0.0000, 0.0078,\n",
              "          0.0000, 0.0000, 0.0000, 0.0000],\n",
              "         [0.0000, 0.0000, 0.0000, 0.0000, 0.0078, 0.0000, 0.0000, 0.8078,\n",
              "          0.9569, 0.9843, 0.9451, 0.9020, 0.9333, 0.8667, 0.8039, 0.9020,\n",
              "          0.9412, 0.9020, 0.9373, 0.9843, 0.9137, 0.6471, 0.0000, 0.0000,\n",
              "          0.0078, 0.0000, 0.0000, 0.0000],\n",
              "         [0.0000, 0.0000, 0.0000, 0.0039, 0.0000, 0.0000, 0.7804, 0.9843,\n",
              "          0.8941, 0.9176, 0.9137, 0.9255, 0.9216, 0.9608, 0.9686, 0.9294,\n",
              "          0.9176, 0.9373, 0.9020, 0.9020, 0.9216, 1.0000, 0.6902, 0.0000,\n",
              "          0.0000, 0.0039, 0.0000, 0.0000],\n",
              "         [0.0000, 0.0000, 0.0000, 0.0000, 0.0000, 0.3176, 0.9961, 0.8863,\n",
              "          0.8941, 0.9373, 0.9294, 0.9255, 0.9176, 0.9098, 0.9137, 0.9216,\n",
              "          0.9216, 0.9255, 0.9373, 0.9294, 0.9137, 0.8824, 0.9647, 0.2863,\n",
              "          0.0000, 0.0000, 0.0000, 0.0000],\n",
              "         [0.0000, 0.0000, 0.0118, 0.0000, 0.0000, 1.0000, 0.9216, 0.9373,\n",
              "          0.8745, 0.9176, 0.9333, 0.9255, 0.9294, 0.9255, 0.9216, 0.9216,\n",
              "          0.9216, 0.9216, 0.9255, 0.9216, 0.9176, 0.9020, 0.9059, 1.0000,\n",
              "          0.0941, 0.0000, 0.0157, 0.0000],\n",
              "         [0.0000, 0.0000, 0.0000, 0.0000, 0.6941, 0.9373, 0.8745, 0.9961,\n",
              "          0.8745, 0.9098, 0.9176, 0.9176, 0.9255, 0.9255, 0.9216, 0.9216,\n",
              "          0.9216, 0.9216, 0.9216, 0.9176, 0.9059, 0.9137, 0.8706, 0.9647,\n",
              "          0.3451, 0.0000, 0.0039, 0.0000],\n",
              "         [0.0000, 0.0000, 0.0000, 0.0000, 0.9176, 0.9373, 0.8980, 1.0000,\n",
              "          0.8627, 0.9098, 0.9137, 0.9098, 0.9176, 0.9216, 0.9216, 0.9216,\n",
              "          0.9216, 0.9216, 0.9176, 0.9137, 0.9098, 0.9020, 0.8941, 0.9961,\n",
              "          0.5490, 0.0000, 0.0000, 0.0000],\n",
              "         [0.0000, 0.0000, 0.0000, 0.0000, 0.8824, 0.9412, 0.8863, 1.0000,\n",
              "          0.8667, 0.8902, 0.9098, 0.8941, 0.9059, 0.9020, 0.8941, 0.8980,\n",
              "          0.9059, 0.9020, 0.8941, 0.8941, 0.9098, 0.8745, 0.8980, 0.9569,\n",
              "          0.9059, 0.0000, 0.0000, 0.0000],\n",
              "         [0.0000, 0.0000, 0.0000, 0.1843, 0.9608, 0.9059, 0.9176, 0.9765,\n",
              "          0.8980, 0.8667, 0.8980, 0.8824, 0.8980, 0.8902, 0.8863, 0.8902,\n",
              "          0.8941, 0.8902, 0.8941, 0.8980, 0.8941, 0.8784, 0.9647, 0.9412,\n",
              "          0.8902, 0.0000, 0.0000, 0.0000],\n",
              "         [0.0000, 0.0000, 0.0000, 0.2000, 0.9725, 0.9020, 0.9608, 0.9647,\n",
              "          0.9020, 0.8863, 0.9020, 0.8902, 0.9020, 0.8980, 0.8941, 0.8980,\n",
              "          0.9020, 0.8941, 0.8941, 0.9059, 0.8824, 0.8902, 0.9490, 0.9294,\n",
              "          1.0000, 0.0000, 0.0000, 0.0000],\n",
              "         [0.0000, 0.0000, 0.0000, 0.3961, 0.9922, 0.8980, 0.9686, 0.9451,\n",
              "          0.8667, 0.9137, 0.8941, 0.8902, 0.8980, 0.8941, 0.8902, 0.8941,\n",
              "          0.9020, 0.8902, 0.9020, 0.9176, 0.8824, 0.8980, 0.9843, 0.8980,\n",
              "          0.9529, 0.2157, 0.0000, 0.0000],\n",
              "         [0.0000, 0.0000, 0.0000, 0.4000, 1.0000, 0.8902, 0.9490, 0.9451,\n",
              "          0.8667, 0.9176, 0.8745, 0.9020, 0.8941, 0.9059, 0.8980, 0.9059,\n",
              "          0.9059, 0.8902, 0.8980, 0.9451, 0.8588, 0.9255, 0.9961, 0.8824,\n",
              "          0.9804, 0.6549, 0.0000, 0.0000],\n",
              "         [0.0000, 0.0000, 0.0000, 0.3529, 1.0000, 0.8980, 0.9255, 0.9059,\n",
              "          0.8706, 0.9255, 0.8745, 0.9059, 0.8980, 0.9059, 0.8980, 0.9059,\n",
              "          0.9059, 0.8941, 0.8784, 0.9608, 0.8549, 0.9529, 0.9373, 0.8902,\n",
              "          0.9569, 0.6863, 0.0000, 0.0000],\n",
              "         [0.0000, 0.0000, 0.0000, 0.8314, 0.9804, 0.8824, 0.9255, 0.9765,\n",
              "          0.8980, 0.9294, 0.8745, 0.9059, 0.8980, 0.9059, 0.8980, 0.9059,\n",
              "          0.9059, 0.9020, 0.8667, 0.9529, 0.8824, 0.9725, 0.9020, 0.9255,\n",
              "          0.9176, 1.0000, 0.0039, 0.0000],\n",
              "         [0.0000, 0.0000, 0.0000, 0.9608, 0.9529, 0.9098, 0.9529, 0.8549,\n",
              "          0.8941, 0.9333, 0.8706, 0.9059, 0.8980, 0.9059, 0.8980, 0.9059,\n",
              "          0.9059, 0.9020, 0.8706, 0.9294, 0.9294, 0.9882, 0.8980, 0.9373,\n",
              "          0.9412, 0.8745, 0.0000, 0.0000],\n",
              "         [0.0000, 0.0000, 0.1059, 1.0000, 0.9216, 0.9490, 0.9294, 0.8471,\n",
              "          0.9020, 0.9255, 0.8784, 0.8980, 0.8902, 0.9137, 0.9137, 0.9137,\n",
              "          0.9020, 0.8941, 0.8784, 0.9020, 0.9608, 0.9686, 0.8667, 0.9529,\n",
              "          0.9373, 0.9882, 0.0000, 0.0000],\n",
              "         [0.0000, 0.0000, 0.3451, 1.0000, 0.9098, 0.9725, 0.9255, 0.8157,\n",
              "          0.9176, 0.9059, 0.8745, 0.8902, 0.8863, 0.9137, 0.9098, 0.9098,\n",
              "          0.9020, 0.8941, 0.8784, 0.8784, 0.9216, 0.9137, 0.9176, 0.9686,\n",
              "          0.9216, 1.0000, 0.0000, 0.0000],\n",
              "         [0.0000, 0.0000, 0.3255, 1.0000, 0.8824, 0.9804, 0.9294, 0.8784,\n",
              "          0.9255, 0.8980, 0.8824, 0.8824, 0.8902, 0.9216, 0.8980, 0.9059,\n",
              "          0.9020, 0.9020, 0.8902, 0.8667, 0.8902, 0.8667, 0.9373, 0.9804,\n",
              "          0.9059, 1.0000, 0.0000, 0.0000],\n",
              "         [0.0000, 0.0000, 0.0784, 1.0000, 0.8784, 0.9725, 0.9176, 0.8863,\n",
              "          0.9098, 0.8706, 0.8824, 0.8784, 0.9059, 0.9333, 0.8863, 0.9020,\n",
              "          0.8941, 0.9020, 0.9020, 0.8667, 0.8980, 0.8824, 0.9569, 0.9647,\n",
              "          0.9020, 1.0000, 0.0000, 0.0000],\n",
              "         [0.0000, 0.0000, 0.3725, 1.0000, 0.8549, 0.9490, 1.0000, 0.9098,\n",
              "          0.8863, 0.8784, 0.8980, 0.8941, 0.8941, 0.9098, 0.8941, 0.8980,\n",
              "          0.9059, 0.9137, 0.9098, 0.8863, 0.8667, 0.8784, 0.9686, 0.9569,\n",
              "          0.8941, 1.0000, 0.0000, 0.0000],\n",
              "         [0.0000, 0.0000, 0.6549, 1.0000, 0.8353, 0.9216, 1.0000, 0.3176,\n",
              "          0.9608, 0.9843, 0.9333, 0.9255, 0.9020, 0.8980, 0.9020, 0.8980,\n",
              "          0.9020, 0.9059, 0.9333, 0.9412, 1.0000, 0.7529, 1.0000, 0.9373,\n",
              "          0.8941, 1.0000, 0.0902, 0.0000],\n",
              "         [0.0000, 0.0000, 0.6784, 0.9490, 0.8784, 0.9137, 1.0000, 0.0000,\n",
              "          0.5333, 0.8863, 0.9373, 1.0000, 0.8980, 0.9255, 0.9255, 0.9176,\n",
              "          0.9137, 0.8941, 0.9843, 0.9725, 0.7843, 0.3176, 1.0000, 0.9294,\n",
              "          0.8824, 1.0000, 0.3961, 0.0000],\n",
              "         [0.0000, 0.0000, 0.6745, 1.0000, 0.8863, 0.9137, 1.0000, 0.0000,\n",
              "          0.0000, 0.0000, 0.0000, 0.0000, 0.0314, 0.0824, 0.0863, 0.0824,\n",
              "          0.0784, 0.0549, 0.0000, 0.0000, 0.0000, 0.0000, 1.0000, 0.9333,\n",
              "          0.8980, 0.9647, 0.6980, 0.0000],\n",
              "         [0.0000, 0.0000, 0.0627, 1.0000, 0.9255, 0.9333, 0.9882, 0.0000,\n",
              "          0.0000, 0.0000, 0.0000, 0.0000, 0.0000, 0.0000, 0.0000, 0.0000,\n",
              "          0.0000, 0.0000, 0.0000, 0.0000, 0.0000, 0.0000, 0.8706, 0.9569,\n",
              "          0.8706, 0.9961, 0.4667, 0.0000],\n",
              "         [0.0000, 0.0000, 0.0000, 0.1176, 0.8941, 0.9490, 0.6392, 0.0000,\n",
              "          0.0000, 0.0000, 0.0000, 0.0078, 0.0157, 0.0235, 0.0196, 0.0196,\n",
              "          0.0157, 0.0157, 0.0078, 0.0000, 0.0039, 0.0000, 0.5922, 0.9843,\n",
              "          0.9216, 0.7059, 0.0000, 0.0000],\n",
              "         [0.0000, 0.0000, 0.0000, 0.0000, 0.9176, 1.0000, 0.7490, 0.0000,\n",
              "          0.0431, 0.0000, 0.0000, 0.0000, 0.0000, 0.0000, 0.0000, 0.0000,\n",
              "          0.0000, 0.0000, 0.0000, 0.0000, 0.0157, 0.0000, 0.4039, 0.9647,\n",
              "          0.9686, 0.2824, 0.0000, 0.0000],\n",
              "         [0.0000, 0.0000, 0.0000, 0.0039, 0.3725, 0.3020, 0.2039, 0.0000,\n",
              "          0.0157, 0.0000, 0.0000, 0.0000, 0.0000, 0.0000, 0.0000, 0.0000,\n",
              "          0.0000, 0.0000, 0.0000, 0.0000, 0.0118, 0.0000, 0.3216, 0.9294,\n",
              "          0.9059, 0.2745, 0.0000, 0.0000]]])"
            ]
          },
          "metadata": {},
          "execution_count": 41
        }
      ]
    },
    {
      "cell_type": "code",
      "source": [
        "label\n"
      ],
      "metadata": {
        "colab": {
          "base_uri": "https://localhost:8080/"
        },
        "id": "vQ8KAxkx8di4",
        "outputId": "afe0c4c5-edea-4a94-98c3-a6b8dabfcc70"
      },
      "execution_count": 42,
      "outputs": [
        {
          "output_type": "execute_result",
          "data": {
            "text/plain": [
              "2"
            ]
          },
          "metadata": {},
          "execution_count": 42
        }
      ]
    },
    {
      "cell_type": "code",
      "source": [
        "# Lets check how many dataset available\n",
        "len(train_data.data), len(train_data.targets), len(test_data.data), len(test_data.targets)"
      ],
      "metadata": {
        "colab": {
          "base_uri": "https://localhost:8080/"
        },
        "id": "kzxx9yfu8n3o",
        "outputId": "942ebf5f-e37f-494f-9cdf-22920ec40474"
      },
      "execution_count": 43,
      "outputs": [
        {
          "output_type": "execute_result",
          "data": {
            "text/plain": [
              "(60000, 60000, 60000, 60000)"
            ]
          },
          "metadata": {},
          "execution_count": 43
        }
      ]
    },
    {
      "cell_type": "code",
      "source": [
        "# Check what classes/label available\n",
        "class_names = train_data.classes\n",
        "class_names"
      ],
      "metadata": {
        "colab": {
          "base_uri": "https://localhost:8080/"
        },
        "id": "I5VsBPiS9UgY",
        "outputId": "4e3b3e8b-d255-482f-f2a8-3392d83451a3"
      },
      "execution_count": 44,
      "outputs": [
        {
          "output_type": "execute_result",
          "data": {
            "text/plain": [
              "['T-shirt/top',\n",
              " 'Trouser',\n",
              " 'Pullover',\n",
              " 'Dress',\n",
              " 'Coat',\n",
              " 'Sandal',\n",
              " 'Shirt',\n",
              " 'Sneaker',\n",
              " 'Bag',\n",
              " 'Ankle boot']"
            ]
          },
          "metadata": {},
          "execution_count": 44
        }
      ]
    },
    {
      "cell_type": "markdown",
      "source": [
        "## Data Visualizing"
      ],
      "metadata": {
        "id": "QhENIGj89sqv"
      }
    },
    {
      "cell_type": "code",
      "source": [
        "print(f\"Image shape: {input.shape}\")"
      ],
      "metadata": {
        "colab": {
          "base_uri": "https://localhost:8080/"
        },
        "id": "lo_2z76USIsS",
        "outputId": "9d17f43a-131a-4a68-8576-4b2bd8056644"
      },
      "execution_count": 45,
      "outputs": [
        {
          "output_type": "stream",
          "name": "stdout",
          "text": [
            "Image shape: torch.Size([1, 28, 28])\n"
          ]
        }
      ]
    },
    {
      "cell_type": "markdown",
      "source": [
        "Image shape: torch.Size([1, 28, 28]):\n",
        "\n",
        "* **1:** only 1 channel, no color channels like RGB\n",
        "\n",
        "* **28:** This represents the height of the image in pixels. The image has 28 rows (**height**).\n",
        "\n",
        "* **28:** This represents the width of the image in pixels. The image has 28 columns (**width**)"
      ],
      "metadata": {
        "id": "1K9A1ffL-g0x"
      }
    },
    {
      "cell_type": "code",
      "source": [
        "# NO WORRIES, code below left to be ERROR\n",
        "# import matplotlib first\n",
        "plt.imshow(input)\n"
      ],
      "metadata": {
        "colab": {
          "base_uri": "https://localhost:8080/",
          "height": 739
        },
        "id": "4ojH05VT-EQY",
        "outputId": "41391f73-1a8c-4091-ae5b-602f74e35d72"
      },
      "execution_count": 46,
      "outputs": [
        {
          "output_type": "error",
          "ename": "TypeError",
          "evalue": "Invalid shape (1, 28, 28) for image data",
          "traceback": [
            "\u001b[0;31m---------------------------------------------------------------------------\u001b[0m",
            "\u001b[0;31mTypeError\u001b[0m                                 Traceback (most recent call last)",
            "\u001b[0;32m<ipython-input-46-341142a9669f>\u001b[0m in \u001b[0;36m<cell line: 0>\u001b[0;34m()\u001b[0m\n\u001b[1;32m      1\u001b[0m \u001b[0;31m# NO WORRIES, code below left to be ERROR\u001b[0m\u001b[0;34m\u001b[0m\u001b[0;34m\u001b[0m\u001b[0m\n\u001b[1;32m      2\u001b[0m \u001b[0;31m# import matplotlib first\u001b[0m\u001b[0;34m\u001b[0m\u001b[0;34m\u001b[0m\u001b[0m\n\u001b[0;32m----> 3\u001b[0;31m \u001b[0mplt\u001b[0m\u001b[0;34m.\u001b[0m\u001b[0mimshow\u001b[0m\u001b[0;34m(\u001b[0m\u001b[0minput\u001b[0m\u001b[0;34m)\u001b[0m\u001b[0;34m\u001b[0m\u001b[0;34m\u001b[0m\u001b[0m\n\u001b[0m",
            "\u001b[0;32m/usr/local/lib/python3.11/dist-packages/matplotlib/pyplot.py\u001b[0m in \u001b[0;36mimshow\u001b[0;34m(X, cmap, norm, aspect, interpolation, alpha, vmin, vmax, colorizer, origin, extent, interpolation_stage, filternorm, filterrad, resample, url, data, **kwargs)\u001b[0m\n\u001b[1;32m   3590\u001b[0m     \u001b[0;34m**\u001b[0m\u001b[0mkwargs\u001b[0m\u001b[0;34m,\u001b[0m\u001b[0;34m\u001b[0m\u001b[0;34m\u001b[0m\u001b[0m\n\u001b[1;32m   3591\u001b[0m ) -> AxesImage:\n\u001b[0;32m-> 3592\u001b[0;31m     __ret = gca().imshow(\n\u001b[0m\u001b[1;32m   3593\u001b[0m         \u001b[0mX\u001b[0m\u001b[0;34m,\u001b[0m\u001b[0;34m\u001b[0m\u001b[0;34m\u001b[0m\u001b[0m\n\u001b[1;32m   3594\u001b[0m         \u001b[0mcmap\u001b[0m\u001b[0;34m=\u001b[0m\u001b[0mcmap\u001b[0m\u001b[0;34m,\u001b[0m\u001b[0;34m\u001b[0m\u001b[0;34m\u001b[0m\u001b[0m\n",
            "\u001b[0;32m/usr/local/lib/python3.11/dist-packages/matplotlib/__init__.py\u001b[0m in \u001b[0;36minner\u001b[0;34m(ax, data, *args, **kwargs)\u001b[0m\n\u001b[1;32m   1519\u001b[0m     \u001b[0;32mdef\u001b[0m \u001b[0minner\u001b[0m\u001b[0;34m(\u001b[0m\u001b[0max\u001b[0m\u001b[0;34m,\u001b[0m \u001b[0;34m*\u001b[0m\u001b[0margs\u001b[0m\u001b[0;34m,\u001b[0m \u001b[0mdata\u001b[0m\u001b[0;34m=\u001b[0m\u001b[0;32mNone\u001b[0m\u001b[0;34m,\u001b[0m \u001b[0;34m**\u001b[0m\u001b[0mkwargs\u001b[0m\u001b[0;34m)\u001b[0m\u001b[0;34m:\u001b[0m\u001b[0;34m\u001b[0m\u001b[0;34m\u001b[0m\u001b[0m\n\u001b[1;32m   1520\u001b[0m         \u001b[0;32mif\u001b[0m \u001b[0mdata\u001b[0m \u001b[0;32mis\u001b[0m \u001b[0;32mNone\u001b[0m\u001b[0;34m:\u001b[0m\u001b[0;34m\u001b[0m\u001b[0;34m\u001b[0m\u001b[0m\n\u001b[0;32m-> 1521\u001b[0;31m             return func(\n\u001b[0m\u001b[1;32m   1522\u001b[0m                 \u001b[0max\u001b[0m\u001b[0;34m,\u001b[0m\u001b[0;34m\u001b[0m\u001b[0;34m\u001b[0m\u001b[0m\n\u001b[1;32m   1523\u001b[0m                 \u001b[0;34m*\u001b[0m\u001b[0mmap\u001b[0m\u001b[0;34m(\u001b[0m\u001b[0mcbook\u001b[0m\u001b[0;34m.\u001b[0m\u001b[0msanitize_sequence\u001b[0m\u001b[0;34m,\u001b[0m \u001b[0margs\u001b[0m\u001b[0;34m)\u001b[0m\u001b[0;34m,\u001b[0m\u001b[0;34m\u001b[0m\u001b[0;34m\u001b[0m\u001b[0m\n",
            "\u001b[0;32m/usr/local/lib/python3.11/dist-packages/matplotlib/axes/_axes.py\u001b[0m in \u001b[0;36mimshow\u001b[0;34m(self, X, cmap, norm, aspect, interpolation, alpha, vmin, vmax, colorizer, origin, extent, interpolation_stage, filternorm, filterrad, resample, url, **kwargs)\u001b[0m\n\u001b[1;32m   5943\u001b[0m             \u001b[0mself\u001b[0m\u001b[0;34m.\u001b[0m\u001b[0mset_aspect\u001b[0m\u001b[0;34m(\u001b[0m\u001b[0maspect\u001b[0m\u001b[0;34m)\u001b[0m\u001b[0;34m\u001b[0m\u001b[0;34m\u001b[0m\u001b[0m\n\u001b[1;32m   5944\u001b[0m \u001b[0;34m\u001b[0m\u001b[0m\n\u001b[0;32m-> 5945\u001b[0;31m         \u001b[0mim\u001b[0m\u001b[0;34m.\u001b[0m\u001b[0mset_data\u001b[0m\u001b[0;34m(\u001b[0m\u001b[0mX\u001b[0m\u001b[0;34m)\u001b[0m\u001b[0;34m\u001b[0m\u001b[0;34m\u001b[0m\u001b[0m\n\u001b[0m\u001b[1;32m   5946\u001b[0m         \u001b[0mim\u001b[0m\u001b[0;34m.\u001b[0m\u001b[0mset_alpha\u001b[0m\u001b[0;34m(\u001b[0m\u001b[0malpha\u001b[0m\u001b[0;34m)\u001b[0m\u001b[0;34m\u001b[0m\u001b[0;34m\u001b[0m\u001b[0m\n\u001b[1;32m   5947\u001b[0m         \u001b[0;32mif\u001b[0m \u001b[0mim\u001b[0m\u001b[0;34m.\u001b[0m\u001b[0mget_clip_path\u001b[0m\u001b[0;34m(\u001b[0m\u001b[0;34m)\u001b[0m \u001b[0;32mis\u001b[0m \u001b[0;32mNone\u001b[0m\u001b[0;34m:\u001b[0m\u001b[0;34m\u001b[0m\u001b[0;34m\u001b[0m\u001b[0m\n",
            "\u001b[0;32m/usr/local/lib/python3.11/dist-packages/matplotlib/image.py\u001b[0m in \u001b[0;36mset_data\u001b[0;34m(self, A)\u001b[0m\n\u001b[1;32m    673\u001b[0m         \u001b[0;32mif\u001b[0m \u001b[0misinstance\u001b[0m\u001b[0;34m(\u001b[0m\u001b[0mA\u001b[0m\u001b[0;34m,\u001b[0m \u001b[0mPIL\u001b[0m\u001b[0;34m.\u001b[0m\u001b[0mImage\u001b[0m\u001b[0;34m.\u001b[0m\u001b[0mImage\u001b[0m\u001b[0;34m)\u001b[0m\u001b[0;34m:\u001b[0m\u001b[0;34m\u001b[0m\u001b[0;34m\u001b[0m\u001b[0m\n\u001b[1;32m    674\u001b[0m             \u001b[0mA\u001b[0m \u001b[0;34m=\u001b[0m \u001b[0mpil_to_array\u001b[0m\u001b[0;34m(\u001b[0m\u001b[0mA\u001b[0m\u001b[0;34m)\u001b[0m  \u001b[0;31m# Needed e.g. to apply png palette.\u001b[0m\u001b[0;34m\u001b[0m\u001b[0;34m\u001b[0m\u001b[0m\n\u001b[0;32m--> 675\u001b[0;31m         \u001b[0mself\u001b[0m\u001b[0;34m.\u001b[0m\u001b[0m_A\u001b[0m \u001b[0;34m=\u001b[0m \u001b[0mself\u001b[0m\u001b[0;34m.\u001b[0m\u001b[0m_normalize_image_array\u001b[0m\u001b[0;34m(\u001b[0m\u001b[0mA\u001b[0m\u001b[0;34m)\u001b[0m\u001b[0;34m\u001b[0m\u001b[0;34m\u001b[0m\u001b[0m\n\u001b[0m\u001b[1;32m    676\u001b[0m         \u001b[0mself\u001b[0m\u001b[0;34m.\u001b[0m\u001b[0m_imcache\u001b[0m \u001b[0;34m=\u001b[0m \u001b[0;32mNone\u001b[0m\u001b[0;34m\u001b[0m\u001b[0;34m\u001b[0m\u001b[0m\n\u001b[1;32m    677\u001b[0m         \u001b[0mself\u001b[0m\u001b[0;34m.\u001b[0m\u001b[0mstale\u001b[0m \u001b[0;34m=\u001b[0m \u001b[0;32mTrue\u001b[0m\u001b[0;34m\u001b[0m\u001b[0;34m\u001b[0m\u001b[0m\n",
            "\u001b[0;32m/usr/local/lib/python3.11/dist-packages/matplotlib/image.py\u001b[0m in \u001b[0;36m_normalize_image_array\u001b[0;34m(A)\u001b[0m\n\u001b[1;32m    641\u001b[0m             \u001b[0mA\u001b[0m \u001b[0;34m=\u001b[0m \u001b[0mA\u001b[0m\u001b[0;34m.\u001b[0m\u001b[0msqueeze\u001b[0m\u001b[0;34m(\u001b[0m\u001b[0;34m-\u001b[0m\u001b[0;36m1\u001b[0m\u001b[0;34m)\u001b[0m  \u001b[0;31m# If just (M, N, 1), assume scalar and apply colormap.\u001b[0m\u001b[0;34m\u001b[0m\u001b[0;34m\u001b[0m\u001b[0m\n\u001b[1;32m    642\u001b[0m         \u001b[0;32mif\u001b[0m \u001b[0;32mnot\u001b[0m \u001b[0;34m(\u001b[0m\u001b[0mA\u001b[0m\u001b[0;34m.\u001b[0m\u001b[0mndim\u001b[0m \u001b[0;34m==\u001b[0m \u001b[0;36m2\u001b[0m \u001b[0;32mor\u001b[0m \u001b[0mA\u001b[0m\u001b[0;34m.\u001b[0m\u001b[0mndim\u001b[0m \u001b[0;34m==\u001b[0m \u001b[0;36m3\u001b[0m \u001b[0;32mand\u001b[0m \u001b[0mA\u001b[0m\u001b[0;34m.\u001b[0m\u001b[0mshape\u001b[0m\u001b[0;34m[\u001b[0m\u001b[0;34m-\u001b[0m\u001b[0;36m1\u001b[0m\u001b[0;34m]\u001b[0m \u001b[0;32min\u001b[0m \u001b[0;34m[\u001b[0m\u001b[0;36m3\u001b[0m\u001b[0;34m,\u001b[0m \u001b[0;36m4\u001b[0m\u001b[0;34m]\u001b[0m\u001b[0;34m)\u001b[0m\u001b[0;34m:\u001b[0m\u001b[0;34m\u001b[0m\u001b[0;34m\u001b[0m\u001b[0m\n\u001b[0;32m--> 643\u001b[0;31m             \u001b[0;32mraise\u001b[0m \u001b[0mTypeError\u001b[0m\u001b[0;34m(\u001b[0m\u001b[0;34mf\"Invalid shape {A.shape} for image data\"\u001b[0m\u001b[0;34m)\u001b[0m\u001b[0;34m\u001b[0m\u001b[0;34m\u001b[0m\u001b[0m\n\u001b[0m\u001b[1;32m    644\u001b[0m         \u001b[0;32mif\u001b[0m \u001b[0mA\u001b[0m\u001b[0;34m.\u001b[0m\u001b[0mndim\u001b[0m \u001b[0;34m==\u001b[0m \u001b[0;36m3\u001b[0m\u001b[0;34m:\u001b[0m\u001b[0;34m\u001b[0m\u001b[0;34m\u001b[0m\u001b[0m\n\u001b[1;32m    645\u001b[0m             \u001b[0;31m# If the input data has values outside the valid range (after\u001b[0m\u001b[0;34m\u001b[0m\u001b[0;34m\u001b[0m\u001b[0m\n",
            "\u001b[0;31mTypeError\u001b[0m: Invalid shape (1, 28, 28) for image data"
          ]
        },
        {
          "output_type": "display_data",
          "data": {
            "text/plain": [
              "<Figure size 640x480 with 1 Axes>"
            ],
            "image/png": "[encoded data removed]"
          },
          "metadata": {}
        }
      ]
    },
    {
      "cell_type": "markdown",
      "source": [
        "Code above produce:\n",
        "\n",
        "TypeError: Invalid shape (1, 28, 28) for image data. Let's remove  1 to become (28, 28)"
      ],
      "metadata": {
        "id": "uQtdNzmF_EII"
      }
    },
    {
      "cell_type": "code",
      "source": [
        "input_plot = input.squeeze()\n",
        "input_plot.shape"
      ],
      "metadata": {
        "colab": {
          "base_uri": "https://localhost:8080/"
        },
        "id": "3w0HapY5_A1Q",
        "outputId": "c7d301de-006c-495d-84fd-c2fd69658118"
      },
      "execution_count": 47,
      "outputs": [
        {
          "output_type": "execute_result",
          "data": {
            "text/plain": [
              "torch.Size([28, 28])"
            ]
          },
          "metadata": {},
          "execution_count": 47
        }
      ]
    },
    {
      "cell_type": "code",
      "source": [
        "plt.imshow(input_plot)\n",
        "plt.title(class_names[label]);"
      ],
      "metadata": {
        "colab": {
          "base_uri": "https://localhost:8080/",
          "height": 452
        },
        "id": "z__SdRjZ_bXY",
        "outputId": "b413c024-87b1-4ce7-bf5c-3e45c9c34766"
      },
      "execution_count": 48,
      "outputs": [
        {
          "output_type": "display_data",
          "data": {
            "text/plain": [
              "<Figure size 640x480 with 1 Axes>"
            ],
            "image/png": "[encoded data removed]"
          },
          "metadata": {}
        }
      ]
    },
    {
      "cell_type": "markdown",
      "source": [
        "Now we will convert it to Grayscale"
      ],
      "metadata": {
        "id": "k-T68nhjAuXp"
      }
    },
    {
      "cell_type": "code",
      "source": [
        "plt.imshow(input_plot, cmap=\"gray\")\n",
        "plt.title(class_names[label]);"
      ],
      "metadata": {
        "colab": {
          "base_uri": "https://localhost:8080/",
          "height": 452
        },
        "id": "z6DySDc1_vzI",
        "outputId": "f549cb5f-0789-428e-bd90-4e8beb5bf23f"
      },
      "execution_count": 49,
      "outputs": [
        {
          "output_type": "display_data",
          "data": {
            "text/plain": [
              "<Figure size 640x480 with 1 Axes>"
            ],
            "image/png": "[encoded data removed]"
          },
          "metadata": {}
        }
      ]
    },
    {
      "cell_type": "code",
      "source": [
        "# Plot more images from dataset, manual seed not locked so it will pick random images every run\n",
        "fig = plt.figure(figsize=(9, 9))\n",
        "rows, cols = 3, 3\n",
        "for i in range(1, rows * cols + 1):\n",
        "  random_idx = torch.randint(0, len(train_data), size=[1]).item()\n",
        "  img, label = train_data[random_idx]\n",
        "  fig.add_subplot(rows, cols, i)\n",
        "  plt.title(class_names[label])\n",
        "  plt.axis(\"off\")\n",
        "  plt.imshow(img.squeeze(), cmap=\"gray\")\n",
        "\n"
      ],
      "metadata": {
        "colab": {
          "base_uri": "https://localhost:8080/",
          "height": 752
        },
        "id": "Foiur31dA5iw",
        "outputId": "01caf1ae-9ea6-4b88-a66a-fdcc11d0bdbc"
      },
      "execution_count": 50,
      "outputs": [
        {
          "output_type": "display_data",
          "data": {
            "text/plain": [
              "<Figure size 900x900 with 9 Axes>"
            ],
            "image/png": "[encoded data removed]"
          },
          "metadata": {}
        }
      ]
    },
    {
      "cell_type": "markdown",
      "source": [
        "## DataLoader"
      ],
      "metadata": {
        "id": "uXr_kEzOCfCg"
      }
    },
    {
      "cell_type": "code",
      "source": [
        "from torch.utils.data import DataLoader\n",
        "\n",
        "# Batch size\n",
        "BATCH_SIZE = 32\n",
        "\n",
        "# Turn dataset to batches\n",
        "train_loader = DataLoader(train_data, # Pick train data\n",
        "                          batch_size=BATCH_SIZE, # Make it batches\n",
        "                          shuffle=True # We will shuffle every epoch\n",
        "                          )\n",
        "test_loader = DataLoader(test_data, batch_size=BATCH_SIZE, shuffle=False)"
      ],
      "metadata": {
        "id": "JQYsWsNUDCet"
      },
      "execution_count": 51,
      "outputs": []
    },
    {
      "cell_type": "code",
      "source": [
        "# Checking\n",
        "print(f\"Length of train dataloader: {len(train_loader)} batches of {BATCH_SIZE}\")\n",
        "print(f\"Length of test dataloader: {len(test_loader)} batches of {BATCH_SIZE}\")\n",
        "print(f\"Length of train data: {len(train_data)}\")\n",
        "print(f\"Length of test data: {len(test_data)}\")"
      ],
      "metadata": {
        "colab": {
          "base_uri": "https://localhost:8080/"
        },
        "id": "Mqd4I3SHGtbo",
        "outputId": "90dbbddd-2a15-4db8-b6af-74f3c87f195f"
      },
      "execution_count": 52,
      "outputs": [
        {
          "output_type": "stream",
          "name": "stdout",
          "text": [
            "Length of train dataloader: 1875 batches of 32\n",
            "Length of test dataloader: 1875 batches of 32\n",
            "Length of train data: 60000\n",
            "Length of test data: 60000\n"
          ]
        }
      ]
    },
    {
      "cell_type": "code",
      "source": [
        "# Check out what's inside the training dataloader\n",
        "train_features_batch, train_labels_batch = next(iter(train_loader))\n",
        "train_features_batch.shape, train_labels_batch.shape"
      ],
      "metadata": {
        "colab": {
          "base_uri": "https://localhost:8080/"
        },
        "id": "hy4fat7-HRi4",
        "outputId": "88113f23-97f8-44f5-d5a2-76462f1fb185"
      },
      "execution_count": 53,
      "outputs": [
        {
          "output_type": "execute_result",
          "data": {
            "text/plain": [
              "(torch.Size([32, 1, 28, 28]), torch.Size([32]))"
            ]
          },
          "metadata": {},
          "execution_count": 53
        }
      ]
    },
    {
      "cell_type": "code",
      "source": [],
      "metadata": {
        "id": "EpfvJzwqIK2I"
      },
      "execution_count": 53,
      "outputs": []
    },
    {
      "cell_type": "markdown",
      "source": [
        "# Basic Model"
      ],
      "metadata": {
        "id": "4DIHEFspIXNi"
      }
    },
    {
      "cell_type": "markdown",
      "source": [
        "`nn.Flatten()` is similar to `reshape`, but it specifically flattens the input data while preserving the batch dimension.\n",
        "\n",
        "The key difference is that when using `nn.Flatten()`, it automatically ensures that the batch size remains intact, so the flattening happens only on the non-batch dimensions. In contrast, `reshape` can change the batch size if you're not careful.\n",
        "\n",
        "With `nn.Flatten()`, you don't need to worry about manually specifying the batch size—PyTorch takes care of that for you."
      ],
      "metadata": {
        "id": "tfxEthybIc-w"
      }
    },
    {
      "cell_type": "code",
      "source": [
        "# Calling nn.Flatten()\n",
        "flatten_model = nn.Flatten()\n",
        "\n",
        "# Get single sample\n",
        "X = train_features_batch[0]\n",
        "\n",
        "# Flatten sample data\n",
        "output = flatten_model(X) # Forward pass step, because all mm modules can do a forward pass\n",
        "\n",
        "# Print out what happened\n",
        "print(f\"Shape before flattening: {X.shape} -> [color_channels, height, width]\")\n",
        "print(f\"Shape after flattening: {output.shape} -> [color_channels, height*width]\\n\")\n",
        "\n",
        "\n",
        "print(X)\n",
        "print(output)"
      ],
      "metadata": {
        "colab": {
          "base_uri": "https://localhost:8080/"
        },
        "id": "fF7t9j_3XiBS",
        "outputId": "02b13c80-5054-4195-92a6-44335b14648a"
      },
      "execution_count": 54,
      "outputs": [
        {
          "output_type": "stream",
          "name": "stdout",
          "text": [
            "Shape before flattening: torch.Size([1, 28, 28]) -> [color_channels, height, width]\n",
            "Shape after flattening: torch.Size([1, 784]) -> [color_channels, height*width]\n",
            "\n",
            "tensor([[[0.0000, 0.0000, 0.0000, 0.0000, 0.0000, 0.0000, 0.0000, 0.0000,\n",
            "          0.0000, 0.0000, 0.0000, 0.7569, 0.6118, 0.3529, 0.5608, 0.8863,\n",
            "          0.2706, 0.3059, 0.0314, 0.1098, 0.0000, 0.0000, 0.0000, 0.0000,\n",
            "          0.0000, 0.0000, 0.0000, 0.0000],\n",
            "         [0.0000, 0.0000, 0.0000, 0.0000, 0.0000, 0.0000, 0.0000, 0.0000,\n",
            "          0.0000, 0.0000, 0.2078, 0.7882, 0.9020, 0.4510, 0.7569, 0.4510,\n",
            "          0.3843, 0.6745, 0.2235, 0.0784, 0.0000, 0.0000, 0.0000, 0.0000,\n",
            "          0.0000, 0.0000, 0.0000, 0.0000],\n",
            "         [0.0000, 0.0000, 0.0000, 0.0000, 0.0000, 0.0000, 0.0000, 0.0000,\n",
            "          0.0000, 0.0000, 0.5451, 0.4824, 0.2902, 0.3059, 0.4353, 0.0000,\n",
            "          0.1255, 0.1922, 0.1255, 0.0157, 0.0000, 0.0000, 0.0000, 0.0000,\n",
            "          0.0000, 0.0000, 0.0000, 0.0000],\n",
            "         [0.0000, 0.0000, 0.0000, 0.0000, 0.0000, 0.0000, 0.0000, 0.0000,\n",
            "          0.0000, 0.0000, 0.7412, 0.5451, 0.3059, 0.2235, 0.4000, 0.3059,\n",
            "          0.2706, 0.1608, 0.3529, 0.3216, 0.0000, 0.0000, 0.0000, 0.0000,\n",
            "          0.0000, 0.0000, 0.0000, 0.0000],\n",
            "         [0.0000, 0.0000, 0.0000, 0.0000, 0.0000, 0.0000, 0.0000, 0.0000,\n",
            "          0.0000, 0.0000, 0.7059, 0.4824, 0.4980, 0.6588, 0.8039, 0.3059,\n",
            "          0.5451, 0.3373, 0.1098, 0.1922, 0.0000, 0.0000, 0.0000, 0.0000,\n",
            "          0.0000, 0.0000, 0.0000, 0.0000],\n",
            "         [0.0000, 0.0000, 0.0000, 0.0000, 0.0000, 0.0000, 0.0000, 0.0000,\n",
            "          0.0000, 0.0784, 0.8510, 0.5451, 0.4824, 0.7412, 0.9020, 0.6902,\n",
            "          0.6275, 0.4353, 0.1765, 0.0784, 0.0000, 0.0000, 0.0000, 0.0000,\n",
            "          0.0000, 0.0000, 0.0000, 0.0000],\n",
            "         [0.0000, 0.0000, 0.0000, 0.0000, 0.0000, 0.0000, 0.0000, 0.0000,\n",
            "          0.0000, 0.1098, 0.8196, 0.5961, 0.8353, 0.7412, 0.8353, 0.7882,\n",
            "          0.8510, 0.9020, 0.4510, 0.2078, 0.0000, 0.0000, 0.0000, 0.0000,\n",
            "          0.0000, 0.0000, 0.0000, 0.0000],\n",
            "         [0.0000, 0.0000, 0.0000, 0.0000, 0.0000, 0.0000, 0.0000, 0.0000,\n",
            "          0.0000, 0.2078, 0.8353, 0.3059, 0.6275, 0.7569, 0.8863, 0.9176,\n",
            "          0.8863, 0.6902, 0.3529, 0.2392, 0.0000, 0.0000, 0.0000, 0.0000,\n",
            "          0.0000, 0.0000, 0.0000, 0.0000],\n",
            "         [0.0000, 0.0000, 0.0000, 0.0000, 0.0000, 0.0000, 0.0000, 0.0000,\n",
            "          0.0000, 0.2392, 0.9333, 0.5137, 0.6588, 0.8039, 0.7725, 0.8510,\n",
            "          0.9176, 0.7412, 0.4510, 0.2706, 0.0000, 0.0000, 0.0000, 0.0000,\n",
            "          0.0000, 0.0000, 0.0000, 0.0000],\n",
            "         [0.0000, 0.0000, 0.0000, 0.0000, 0.0000, 0.0000, 0.0000, 0.0000,\n",
            "          0.0000, 0.4000, 0.9804, 0.3843, 0.4510, 0.9804, 0.2706, 0.4667,\n",
            "          1.0000, 0.8039, 0.5294, 0.2078, 0.0000, 0.0000, 0.0000, 0.0000,\n",
            "          0.0000, 0.0000, 0.0000, 0.0000],\n",
            "         [0.0000, 0.0000, 0.0000, 0.0000, 0.0000, 0.0000, 0.0000, 0.0000,\n",
            "          0.0000, 0.5451, 0.9333, 0.3059, 0.3373, 0.9490, 0.0000, 0.2706,\n",
            "          0.9647, 0.7882, 0.6431, 0.1451, 0.0000, 0.0000, 0.0000, 0.0000,\n",
            "          0.0000, 0.0000, 0.0000, 0.0000],\n",
            "         [0.0000, 0.0000, 0.0000, 0.0000, 0.0000, 0.0000, 0.0000, 0.0000,\n",
            "          0.0000, 0.6118, 0.8863, 0.3216, 0.4510, 0.6431, 0.0000, 0.1922,\n",
            "          0.9176, 0.8039, 0.7882, 0.0784, 0.0000, 0.0000, 0.0000, 0.0000,\n",
            "          0.0000, 0.0000, 0.0000, 0.0000],\n",
            "         [0.0000, 0.0000, 0.0000, 0.0000, 0.0000, 0.0000, 0.0000, 0.0000,\n",
            "          0.0000, 0.5804, 0.8039, 0.4000, 0.4667, 0.3529, 0.0000, 0.1765,\n",
            "          0.8863, 0.7412, 0.8510, 0.1922, 0.0000, 0.0000, 0.0000, 0.0000,\n",
            "          0.0000, 0.0000, 0.0000, 0.0000],\n",
            "         [0.0000, 0.0000, 0.0000, 0.0000, 0.0000, 0.0000, 0.0000, 0.0000,\n",
            "          0.0000, 0.5961, 0.8510, 0.5294, 0.6902, 0.0784, 0.0000, 0.1922,\n",
            "          0.8863, 0.5804, 0.5961, 0.3059, 0.0000, 0.0000, 0.0000, 0.0000,\n",
            "          0.0000, 0.0000, 0.0000, 0.0000],\n",
            "         [0.0000, 0.0000, 0.0000, 0.0000, 0.0000, 0.0000, 0.0000, 0.0000,\n",
            "          0.0000, 0.6118, 0.8706, 0.5961, 0.7059, 0.1255, 0.0000, 0.1255,\n",
            "          0.9176, 0.5961, 0.6118, 0.2902, 0.0000, 0.0000, 0.0000, 0.0000,\n",
            "          0.0000, 0.0000, 0.0000, 0.0000],\n",
            "         [0.0000, 0.0000, 0.0000, 0.0000, 0.0000, 0.0000, 0.0000, 0.0000,\n",
            "          0.0000, 0.5451, 0.6902, 0.6902, 0.5137, 0.0000, 0.0000, 0.0941,\n",
            "          0.8863, 0.7059, 0.5451, 0.0941, 0.0000, 0.0000, 0.0000, 0.0000,\n",
            "          0.0000, 0.0000, 0.0000, 0.0000],\n",
            "         [0.0000, 0.0000, 0.0000, 0.0000, 0.0000, 0.0000, 0.0000, 0.0000,\n",
            "          0.0000, 0.4510, 0.7882, 0.5608, 0.8510, 0.0000, 0.0000, 0.1608,\n",
            "          0.9647, 0.7412, 0.5451, 0.0314, 0.0000, 0.0000, 0.0000, 0.0000,\n",
            "          0.0000, 0.0000, 0.0000, 0.0000],\n",
            "         [0.0000, 0.0000, 0.0000, 0.0000, 0.0000, 0.0000, 0.0000, 0.0000,\n",
            "          0.0000, 0.2078, 0.8510, 0.7059, 0.6431, 0.0000, 0.0000, 0.1922,\n",
            "          0.9490, 0.7569, 0.6118, 0.0471, 0.0000, 0.0000, 0.0000, 0.0000,\n",
            "          0.0000, 0.0000, 0.0000, 0.0000],\n",
            "         [0.0000, 0.0000, 0.0000, 0.0000, 0.0000, 0.0000, 0.0000, 0.0000,\n",
            "          0.0000, 0.0000, 0.7725, 0.7412, 0.6902, 0.0627, 0.0000, 0.1765,\n",
            "          0.9176, 0.8196, 0.6588, 0.0157, 0.0000, 0.0000, 0.0000, 0.0000,\n",
            "          0.0000, 0.0000, 0.0000, 0.0000],\n",
            "         [0.0000, 0.0000, 0.0000, 0.0000, 0.0000, 0.0000, 0.0000, 0.0000,\n",
            "          0.0000, 0.0000, 0.7725, 0.6902, 0.7059, 0.2902, 0.0000, 0.0627,\n",
            "          0.8706, 0.7412, 0.6745, 0.0000, 0.0000, 0.0000, 0.0000, 0.0000,\n",
            "          0.0000, 0.0000, 0.0000, 0.0000],\n",
            "         [0.0000, 0.0000, 0.0000, 0.0000, 0.0000, 0.0000, 0.0000, 0.0000,\n",
            "          0.0000, 0.0000, 0.6902, 0.7725, 0.7412, 0.4980, 0.0000, 0.0000,\n",
            "          0.8863, 0.7255, 0.6275, 0.0314, 0.0000, 0.0000, 0.0000, 0.0000,\n",
            "          0.0000, 0.0000, 0.0000, 0.0000],\n",
            "         [0.0000, 0.0000, 0.0000, 0.0000, 0.0000, 0.0000, 0.0000, 0.0000,\n",
            "          0.0000, 0.0000, 0.6118, 0.8039, 0.7059, 0.5451, 0.0000, 0.0000,\n",
            "          0.8863, 0.7255, 0.6118, 0.0314, 0.0000, 0.0000, 0.0000, 0.0000,\n",
            "          0.0000, 0.0000, 0.0000, 0.0000],\n",
            "         [0.0000, 0.0000, 0.0000, 0.0000, 0.0000, 0.0000, 0.0000, 0.0000,\n",
            "          0.0000, 0.0000, 0.5294, 0.7882, 0.7412, 0.6745, 0.0000, 0.0000,\n",
            "          0.8510, 0.7725, 0.6275, 0.0314, 0.0000, 0.0000, 0.0000, 0.0000,\n",
            "          0.0000, 0.0000, 0.0000, 0.0000],\n",
            "         [0.0000, 0.0000, 0.0000, 0.0000, 0.0000, 0.0000, 0.0000, 0.0000,\n",
            "          0.0000, 0.0000, 0.4667, 0.8353, 0.7255, 0.5961, 0.0000, 0.0000,\n",
            "          0.7725, 0.7412, 0.5451, 0.0000, 0.0000, 0.0000, 0.0000, 0.0000,\n",
            "          0.0000, 0.0000, 0.0000, 0.0000],\n",
            "         [0.0000, 0.0000, 0.0000, 0.0000, 0.0000, 0.0000, 0.0000, 0.0000,\n",
            "          0.0000, 0.0000, 0.3059, 0.8353, 0.7412, 0.5608, 0.0000, 0.0000,\n",
            "          0.7059, 0.7255, 0.5608, 0.0000, 0.0000, 0.0000, 0.0000, 0.0000,\n",
            "          0.0000, 0.0000, 0.0000, 0.0000],\n",
            "         [0.0000, 0.0000, 0.0000, 0.0000, 0.0000, 0.0000, 0.0000, 0.0000,\n",
            "          0.0000, 0.0000, 0.2235, 0.8196, 0.7255, 0.6588, 0.0000, 0.0000,\n",
            "          0.8196, 0.6902, 0.5294, 0.0000, 0.0000, 0.0000, 0.0000, 0.0000,\n",
            "          0.0000, 0.0000, 0.0000, 0.0000],\n",
            "         [0.0000, 0.0000, 0.0000, 0.0000, 0.0000, 0.0000, 0.0000, 0.0000,\n",
            "          0.0000, 0.0000, 0.4667, 0.8863, 0.7882, 0.8039, 0.0000, 0.0000,\n",
            "          0.8039, 0.7882, 0.6745, 0.0000, 0.0000, 0.0000, 0.0000, 0.0000,\n",
            "          0.0000, 0.0000, 0.0000, 0.0000],\n",
            "         [0.0000, 0.0000, 0.0000, 0.0000, 0.0000, 0.0000, 0.0000, 0.0000,\n",
            "          0.0000, 0.0000, 0.3216, 0.6902, 0.6745, 0.7255, 0.0000, 0.0000,\n",
            "          0.6431, 0.4353, 0.4353, 0.0000, 0.0000, 0.0000, 0.0000, 0.0000,\n",
            "          0.0000, 0.0000, 0.0000, 0.0000]]])\n",
            "tensor([[0.0000, 0.0000, 0.0000, 0.0000, 0.0000, 0.0000, 0.0000, 0.0000, 0.0000,\n",
            "         0.0000, 0.0000, 0.7569, 0.6118, 0.3529, 0.5608, 0.8863, 0.2706, 0.3059,\n",
            "         0.0314, 0.1098, 0.0000, 0.0000, 0.0000, 0.0000, 0.0000, 0.0000, 0.0000,\n",
            "         0.0000, 0.0000, 0.0000, 0.0000, 0.0000, 0.0000, 0.0000, 0.0000, 0.0000,\n",
            "         0.0000, 0.0000, 0.2078, 0.7882, 0.9020, 0.4510, 0.7569, 0.4510, 0.3843,\n",
            "         0.6745, 0.2235, 0.0784, 0.0000, 0.0000, 0.0000, 0.0000, 0.0000, 0.0000,\n",
            "         0.0000, 0.0000, 0.0000, 0.0000, 0.0000, 0.0000, 0.0000, 0.0000, 0.0000,\n",
            "         0.0000, 0.0000, 0.0000, 0.5451, 0.4824, 0.2902, 0.3059, 0.4353, 0.0000,\n",
            "         0.1255, 0.1922, 0.1255, 0.0157, 0.0000, 0.0000, 0.0000, 0.0000, 0.0000,\n",
            "         0.0000, 0.0000, 0.0000, 0.0000, 0.0000, 0.0000, 0.0000, 0.0000, 0.0000,\n",
            "         0.0000, 0.0000, 0.0000, 0.0000, 0.7412, 0.5451, 0.3059, 0.2235, 0.4000,\n",
            "         0.3059, 0.2706, 0.1608, 0.3529, 0.3216, 0.0000, 0.0000, 0.0000, 0.0000,\n",
            "         0.0000, 0.0000, 0.0000, 0.0000, 0.0000, 0.0000, 0.0000, 0.0000, 0.0000,\n",
            "         0.0000, 0.0000, 0.0000, 0.0000, 0.0000, 0.7059, 0.4824, 0.4980, 0.6588,\n",
            "         0.8039, 0.3059, 0.5451, 0.3373, 0.1098, 0.1922, 0.0000, 0.0000, 0.0000,\n",
            "         0.0000, 0.0000, 0.0000, 0.0000, 0.0000, 0.0000, 0.0000, 0.0000, 0.0000,\n",
            "         0.0000, 0.0000, 0.0000, 0.0000, 0.0000, 0.0784, 0.8510, 0.5451, 0.4824,\n",
            "         0.7412, 0.9020, 0.6902, 0.6275, 0.4353, 0.1765, 0.0784, 0.0000, 0.0000,\n",
            "         0.0000, 0.0000, 0.0000, 0.0000, 0.0000, 0.0000, 0.0000, 0.0000, 0.0000,\n",
            "         0.0000, 0.0000, 0.0000, 0.0000, 0.0000, 0.0000, 0.1098, 0.8196, 0.5961,\n",
            "         0.8353, 0.7412, 0.8353, 0.7882, 0.8510, 0.9020, 0.4510, 0.2078, 0.0000,\n",
            "         0.0000, 0.0000, 0.0000, 0.0000, 0.0000, 0.0000, 0.0000, 0.0000, 0.0000,\n",
            "         0.0000, 0.0000, 0.0000, 0.0000, 0.0000, 0.0000, 0.0000, 0.2078, 0.8353,\n",
            "         0.3059, 0.6275, 0.7569, 0.8863, 0.9176, 0.8863, 0.6902, 0.3529, 0.2392,\n",
            "         0.0000, 0.0000, 0.0000, 0.0000, 0.0000, 0.0000, 0.0000, 0.0000, 0.0000,\n",
            "         0.0000, 0.0000, 0.0000, 0.0000, 0.0000, 0.0000, 0.0000, 0.0000, 0.2392,\n",
            "         0.9333, 0.5137, 0.6588, 0.8039, 0.7725, 0.8510, 0.9176, 0.7412, 0.4510,\n",
            "         0.2706, 0.0000, 0.0000, 0.0000, 0.0000, 0.0000, 0.0000, 0.0000, 0.0000,\n",
            "         0.0000, 0.0000, 0.0000, 0.0000, 0.0000, 0.0000, 0.0000, 0.0000, 0.0000,\n",
            "         0.4000, 0.9804, 0.3843, 0.4510, 0.9804, 0.2706, 0.4667, 1.0000, 0.8039,\n",
            "         0.5294, 0.2078, 0.0000, 0.0000, 0.0000, 0.0000, 0.0000, 0.0000, 0.0000,\n",
            "         0.0000, 0.0000, 0.0000, 0.0000, 0.0000, 0.0000, 0.0000, 0.0000, 0.0000,\n",
            "         0.0000, 0.5451, 0.9333, 0.3059, 0.3373, 0.9490, 0.0000, 0.2706, 0.9647,\n",
            "         0.7882, 0.6431, 0.1451, 0.0000, 0.0000, 0.0000, 0.0000, 0.0000, 0.0000,\n",
            "         0.0000, 0.0000, 0.0000, 0.0000, 0.0000, 0.0000, 0.0000, 0.0000, 0.0000,\n",
            "         0.0000, 0.0000, 0.6118, 0.8863, 0.3216, 0.4510, 0.6431, 0.0000, 0.1922,\n",
            "         0.9176, 0.8039, 0.7882, 0.0784, 0.0000, 0.0000, 0.0000, 0.0000, 0.0000,\n",
            "         0.0000, 0.0000, 0.0000, 0.0000, 0.0000, 0.0000, 0.0000, 0.0000, 0.0000,\n",
            "         0.0000, 0.0000, 0.0000, 0.5804, 0.8039, 0.4000, 0.4667, 0.3529, 0.0000,\n",
            "         0.1765, 0.8863, 0.7412, 0.8510, 0.1922, 0.0000, 0.0000, 0.0000, 0.0000,\n",
            "         0.0000, 0.0000, 0.0000, 0.0000, 0.0000, 0.0000, 0.0000, 0.0000, 0.0000,\n",
            "         0.0000, 0.0000, 0.0000, 0.0000, 0.5961, 0.8510, 0.5294, 0.6902, 0.0784,\n",
            "         0.0000, 0.1922, 0.8863, 0.5804, 0.5961, 0.3059, 0.0000, 0.0000, 0.0000,\n",
            "         0.0000, 0.0000, 0.0000, 0.0000, 0.0000, 0.0000, 0.0000, 0.0000, 0.0000,\n",
            "         0.0000, 0.0000, 0.0000, 0.0000, 0.0000, 0.6118, 0.8706, 0.5961, 0.7059,\n",
            "         0.1255, 0.0000, 0.1255, 0.9176, 0.5961, 0.6118, 0.2902, 0.0000, 0.0000,\n",
            "         0.0000, 0.0000, 0.0000, 0.0000, 0.0000, 0.0000, 0.0000, 0.0000, 0.0000,\n",
            "         0.0000, 0.0000, 0.0000, 0.0000, 0.0000, 0.0000, 0.5451, 0.6902, 0.6902,\n",
            "         0.5137, 0.0000, 0.0000, 0.0941, 0.8863, 0.7059, 0.5451, 0.0941, 0.0000,\n",
            "         0.0000, 0.0000, 0.0000, 0.0000, 0.0000, 0.0000, 0.0000, 0.0000, 0.0000,\n",
            "         0.0000, 0.0000, 0.0000, 0.0000, 0.0000, 0.0000, 0.0000, 0.4510, 0.7882,\n",
            "         0.5608, 0.8510, 0.0000, 0.0000, 0.1608, 0.9647, 0.7412, 0.5451, 0.0314,\n",
            "         0.0000, 0.0000, 0.0000, 0.0000, 0.0000, 0.0000, 0.0000, 0.0000, 0.0000,\n",
            "         0.0000, 0.0000, 0.0000, 0.0000, 0.0000, 0.0000, 0.0000, 0.0000, 0.2078,\n",
            "         0.8510, 0.7059, 0.6431, 0.0000, 0.0000, 0.1922, 0.9490, 0.7569, 0.6118,\n",
            "         0.0471, 0.0000, 0.0000, 0.0000, 0.0000, 0.0000, 0.0000, 0.0000, 0.0000,\n",
            "         0.0000, 0.0000, 0.0000, 0.0000, 0.0000, 0.0000, 0.0000, 0.0000, 0.0000,\n",
            "         0.0000, 0.7725, 0.7412, 0.6902, 0.0627, 0.0000, 0.1765, 0.9176, 0.8196,\n",
            "         0.6588, 0.0157, 0.0000, 0.0000, 0.0000, 0.0000, 0.0000, 0.0000, 0.0000,\n",
            "         0.0000, 0.0000, 0.0000, 0.0000, 0.0000, 0.0000, 0.0000, 0.0000, 0.0000,\n",
            "         0.0000, 0.0000, 0.7725, 0.6902, 0.7059, 0.2902, 0.0000, 0.0627, 0.8706,\n",
            "         0.7412, 0.6745, 0.0000, 0.0000, 0.0000, 0.0000, 0.0000, 0.0000, 0.0000,\n",
            "         0.0000, 0.0000, 0.0000, 0.0000, 0.0000, 0.0000, 0.0000, 0.0000, 0.0000,\n",
            "         0.0000, 0.0000, 0.0000, 0.6902, 0.7725, 0.7412, 0.4980, 0.0000, 0.0000,\n",
            "         0.8863, 0.7255, 0.6275, 0.0314, 0.0000, 0.0000, 0.0000, 0.0000, 0.0000,\n",
            "         0.0000, 0.0000, 0.0000, 0.0000, 0.0000, 0.0000, 0.0000, 0.0000, 0.0000,\n",
            "         0.0000, 0.0000, 0.0000, 0.0000, 0.6118, 0.8039, 0.7059, 0.5451, 0.0000,\n",
            "         0.0000, 0.8863, 0.7255, 0.6118, 0.0314, 0.0000, 0.0000, 0.0000, 0.0000,\n",
            "         0.0000, 0.0000, 0.0000, 0.0000, 0.0000, 0.0000, 0.0000, 0.0000, 0.0000,\n",
            "         0.0000, 0.0000, 0.0000, 0.0000, 0.0000, 0.5294, 0.7882, 0.7412, 0.6745,\n",
            "         0.0000, 0.0000, 0.8510, 0.7725, 0.6275, 0.0314, 0.0000, 0.0000, 0.0000,\n",
            "         0.0000, 0.0000, 0.0000, 0.0000, 0.0000, 0.0000, 0.0000, 0.0000, 0.0000,\n",
            "         0.0000, 0.0000, 0.0000, 0.0000, 0.0000, 0.0000, 0.4667, 0.8353, 0.7255,\n",
            "         0.5961, 0.0000, 0.0000, 0.7725, 0.7412, 0.5451, 0.0000, 0.0000, 0.0000,\n",
            "         0.0000, 0.0000, 0.0000, 0.0000, 0.0000, 0.0000, 0.0000, 0.0000, 0.0000,\n",
            "         0.0000, 0.0000, 0.0000, 0.0000, 0.0000, 0.0000, 0.0000, 0.3059, 0.8353,\n",
            "         0.7412, 0.5608, 0.0000, 0.0000, 0.7059, 0.7255, 0.5608, 0.0000, 0.0000,\n",
            "         0.0000, 0.0000, 0.0000, 0.0000, 0.0000, 0.0000, 0.0000, 0.0000, 0.0000,\n",
            "         0.0000, 0.0000, 0.0000, 0.0000, 0.0000, 0.0000, 0.0000, 0.0000, 0.2235,\n",
            "         0.8196, 0.7255, 0.6588, 0.0000, 0.0000, 0.8196, 0.6902, 0.5294, 0.0000,\n",
            "         0.0000, 0.0000, 0.0000, 0.0000, 0.0000, 0.0000, 0.0000, 0.0000, 0.0000,\n",
            "         0.0000, 0.0000, 0.0000, 0.0000, 0.0000, 0.0000, 0.0000, 0.0000, 0.0000,\n",
            "         0.4667, 0.8863, 0.7882, 0.8039, 0.0000, 0.0000, 0.8039, 0.7882, 0.6745,\n",
            "         0.0000, 0.0000, 0.0000, 0.0000, 0.0000, 0.0000, 0.0000, 0.0000, 0.0000,\n",
            "         0.0000, 0.0000, 0.0000, 0.0000, 0.0000, 0.0000, 0.0000, 0.0000, 0.0000,\n",
            "         0.0000, 0.3216, 0.6902, 0.6745, 0.7255, 0.0000, 0.0000, 0.6431, 0.4353,\n",
            "         0.4353, 0.0000, 0.0000, 0.0000, 0.0000, 0.0000, 0.0000, 0.0000, 0.0000,\n",
            "         0.0000]])\n"
          ]
        }
      ]
    },
    {
      "cell_type": "markdown",
      "source": [
        "## Model Class"
      ],
      "metadata": {
        "id": "4MoZR-vtArFz"
      }
    },
    {
      "cell_type": "code",
      "source": [
        "# Class model\n",
        "class FMNISTModel(nn.Module):\n",
        "  def __init__(self):\n",
        "    super().__init__()\n",
        "    self.layer_stack = nn.Sequential(\n",
        "        nn.Flatten(),\n",
        "        nn.Linear(in_features=28*28, out_features=20),\n",
        "        nn.Linear(in_features=20, out_features=10)\n",
        "    )\n",
        "\n",
        "  def forward(self, x):\n",
        "    return self.layer_stack(x)"
      ],
      "metadata": {
        "id": "X9T7PjU7935j"
      },
      "execution_count": 55,
      "outputs": []
    },
    {
      "cell_type": "markdown",
      "source": [
        "## Model initializing"
      ],
      "metadata": {
        "id": "W2PWC2XqAj77"
      }
    },
    {
      "cell_type": "code",
      "source": [
        "torch.manual_seed(42)\n",
        "model = FMNISTModel()\n",
        "\n",
        "# Loss Function\n",
        "loss_fn = nn.CrossEntropyLoss()\n",
        "\n",
        "# Optimizer\n",
        "optimizer = torch.optim.SGD(params=model.parameters(), lr=0.1)\n",
        "\n",
        "model"
      ],
      "metadata": {
        "colab": {
          "base_uri": "https://localhost:8080/"
        },
        "id": "tD4PfCswAUkL",
        "outputId": "42040df4-07a5-4073-f717-6570345147fa"
      },
      "execution_count": 56,
      "outputs": [
        {
          "output_type": "execute_result",
          "data": {
            "text/plain": [
              "FMNISTModel(\n",
              "  (layer_stack): Sequential(\n",
              "    (0): Flatten(start_dim=1, end_dim=-1)\n",
              "    (1): Linear(in_features=784, out_features=20, bias=True)\n",
              "    (2): Linear(in_features=20, out_features=10, bias=True)\n",
              "  )\n",
              ")"
            ]
          },
          "metadata": {},
          "execution_count": 56
        }
      ]
    },
    {
      "cell_type": "markdown",
      "source": [
        "## Taning Loop"
      ],
      "metadata": {
        "id": "6zIe1hjcAdUr"
      }
    },
    {
      "cell_type": "code",
      "source": [
        "num_epochs = 5\n",
        "\n",
        "train_losses_per_epoch = []  # To store average train losses per epoch\n",
        "test_losses_per_epoch = []   # To store average test losses per epoch\n",
        "\n",
        "for epoch in range(num_epochs):\n",
        "    print(f\"Epoch: {epoch+1}\\n-------\")\n",
        "\n",
        "    train_losses = []\n",
        "    test_losses = []\n",
        "\n",
        "    # Looping through batches\n",
        "    for batch, (inputs, labels) in enumerate(train_loader):\n",
        "        model.train()\n",
        "\n",
        "        # Forward pass (Training)\n",
        "        y_pred = model(inputs)\n",
        "\n",
        "        # Calculate loss (Training)\n",
        "        train_loss = loss_fn(y_pred, labels)\n",
        "        train_losses.append(train_loss.item())\n",
        "\n",
        "        # Optimizer zero grad\n",
        "        optimizer.zero_grad()\n",
        "\n",
        "        # Backward pass\n",
        "        train_loss.backward()\n",
        "\n",
        "        # Optimizer step\n",
        "        optimizer.step()\n",
        "\n",
        "        # TESTING (Evaluation)\n",
        "        model.eval()\n",
        "        with torch.no_grad():  # Use no_grad() to save memory during inference\n",
        "            test_pred = model(inputs)\n",
        "            test_loss = loss_fn(test_pred, labels)\n",
        "            test_losses.append(test_loss.item())\n",
        "\n",
        "        if batch % 400 == 0:\n",
        "            print(f\"Looked at batch {batch * len(inputs)}/{len(train_data)} samples\")\n",
        "\n",
        "    # Calculate average losses for the epoch\n",
        "    avg_train_loss = sum(train_losses) / len(train_losses)\n",
        "    avg_test_loss = sum(test_losses) / len(test_losses)\n",
        "\n",
        "    # Append the average losses of the epoch to the lists for plotting\n",
        "    train_losses_per_epoch.append(avg_train_loss)\n",
        "    test_losses_per_epoch.append(avg_test_loss)\n",
        "\n",
        "    print(f\"\\nTrain loss: {avg_train_loss:.5f} | Test loss: {avg_test_loss:.5f}\\n\")"
      ],
      "metadata": {
        "colab": {
          "base_uri": "https://localhost:8080/"
        },
        "id": "67P80BZGBUlL",
        "outputId": "22a293f5-7979-4191-dc78-bf5c0b523911"
      },
      "execution_count": 57,
      "outputs": [
        {
          "output_type": "stream",
          "name": "stdout",
          "text": [
            "Epoch: 1\n",
            "-------\n",
            "Looked at batch 0/60000 samples\n",
            "Looked at batch 12800/60000 samples\n",
            "Looked at batch 25600/60000 samples\n",
            "Looked at batch 38400/60000 samples\n",
            "Looked at batch 51200/60000 samples\n",
            "\n",
            "Train loss: 0.58230 | Test loss: 0.43153\n",
            "\n",
            "Epoch: 2\n",
            "-------\n",
            "Looked at batch 0/60000 samples\n",
            "Looked at batch 12800/60000 samples\n",
            "Looked at batch 25600/60000 samples\n",
            "Looked at batch 38400/60000 samples\n",
            "Looked at batch 51200/60000 samples\n",
            "\n",
            "Train loss: 0.47323 | Test loss: 0.33662\n",
            "\n",
            "Epoch: 3\n",
            "-------\n",
            "Looked at batch 0/60000 samples\n",
            "Looked at batch 12800/60000 samples\n",
            "Looked at batch 25600/60000 samples\n",
            "Looked at batch 38400/60000 samples\n",
            "Looked at batch 51200/60000 samples\n",
            "\n",
            "Train loss: 0.45313 | Test loss: 0.32493\n",
            "\n",
            "Epoch: 4\n",
            "-------\n",
            "Looked at batch 0/60000 samples\n",
            "Looked at batch 12800/60000 samples\n",
            "Looked at batch 25600/60000 samples\n",
            "Looked at batch 38400/60000 samples\n",
            "Looked at batch 51200/60000 samples\n",
            "\n",
            "Train loss: 0.44497 | Test loss: 0.31715\n",
            "\n",
            "Epoch: 5\n",
            "-------\n",
            "Looked at batch 0/60000 samples\n",
            "Looked at batch 12800/60000 samples\n",
            "Looked at batch 25600/60000 samples\n",
            "Looked at batch 38400/60000 samples\n",
            "Looked at batch 51200/60000 samples\n",
            "\n",
            "Train loss: 0.43534 | Test loss: 0.31271\n",
            "\n"
          ]
        }
      ]
    },
    {
      "cell_type": "markdown",
      "source": [
        "# Train vs test Loss visualization"
      ],
      "metadata": {
        "id": "XN5QvXqpU_IV"
      }
    },
    {
      "cell_type": "markdown",
      "source": [
        "# Make Prediction"
      ],
      "metadata": {
        "id": "YCggiQQmBO07"
      }
    },
    {
      "cell_type": "code",
      "source": [
        "# TODO"
      ],
      "metadata": {
        "id": "tp3Nl5FqBMnz"
      },
      "execution_count": 59,
      "outputs": []
    }
  ]
}